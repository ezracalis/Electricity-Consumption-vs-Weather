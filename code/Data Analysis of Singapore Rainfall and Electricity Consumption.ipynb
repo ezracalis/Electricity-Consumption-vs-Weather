{
 "cells": [
  {
   "cell_type": "markdown",
   "metadata": {},
   "source": [
    "<img src=\"http://imgur.com/1ZcRyrc.png\" style=\"float: left; margin: 20px; height: 55px\">\n",
    "\n",
    "# Project 1: Data Analysis of Singapore Rainfall"
   ]
  },
  {
   "cell_type": "markdown",
   "metadata": {},
   "source": [
    "--- \n",
    "# Part 1\n",
    "\n",
    "Part 1 requires knowledge of basic Python.\n",
    "\n",
    "---"
   ]
  },
  {
   "cell_type": "markdown",
   "metadata": {},
   "source": [
    "### Contents:\n",
    "- [Background](#Background-and-Outside-Research)\n",
    "- [Problem Statement](#Problem-Statement)\n",
    "- [Data Import & Cleaning](#Data-Import-and-Cleaning)\n",
    "- [Exploratory Data Analysis](#Exploratory-Data-Analysis)\n",
    "- [Data Visualisation](#Data-Visualisation)\n",
    "- [Conclusions and Recommendations](#Conclusions-and-Recommendations)"
   ]
  },
  {
   "cell_type": "markdown",
   "metadata": {},
   "source": [
    "## Background and Outside Research"
   ]
  },
  {
   "cell_type": "markdown",
   "metadata": {
    "editable": true,
    "slideshow": {
     "slide_type": ""
    },
    "tags": []
   },
   "source": [
    "On 3 July 2023, a number of [Parliamentary Questions](https://www.mti.gov.sg/Newsroom/Parliamentary-Replies/2023/07/Written-reply-to-to-PQs-on-electricity-demand-and-grid-stress-from-prolonged-heat-wave) were raised by Members of Parliament around electricity demand and grid stress from prolonged heat waves. Due to the recent heatwave in Singapore, concerns were raised that it could possibly lead to increased electricity demand which can put a strain around capacity in the future.\n",
    "\n",
    "By conducting some secondary research around the relationship between temperature and electricity consumption, I found a number of interesting conclusions.\n",
    "\n",
    "1. Based on a [study in Europe](https://www.semanticscholar.org/paper/The-non-linear-link-between-electricity-consumption-Bessec-Fouquau/2356f1a1e05054663df634f1d389967ff76af752), it was found that in cold countries, there is a negative correlation between temperature and electricity demand at lower temperatures, but a positive correlation between temperature and electricity demand in higher temperatures. This is likely due to the energy needs for heaters at low temperatures, as well as air conditioning at high temperatures.\n",
    "\n",
    "2. Based on a study using a [New York dataset](https://ietresearch.onlinelibrary.wiley.com/doi/10.1049/gtd2.12409), an increase in temperature corresponds to an increase in electricity consumption in New York above 20 degrees Celsius.\n",
    "\n",
    "3. The [effect of a temperature change on energy consumption](https://www.ifw-kiel.de/fileadmin/Dateiverwaltung/IfW-Publications/Sebastian_Petrick/the-impact-of-temperature-changes-on-residential-energy-consumption/the-impact-of-temperature-changes-on-residential-energy-consumption.pdf) is higher if the household is in a rich country. This is likely due to the fact that people are more willing and able to increase their consumption of electricity as opposed to individuals in poorer countries, who may lack the means to afford items like heaters and air conditioners.\n",
    "\n",
    "Based on these three studies, we can probably see that Singapore, being a warm and rich country, would likely have a strong increase in electricity consumption as temperature increases (ie. positive correlation)."
   ]
  },
  {
   "cell_type": "markdown",
   "metadata": {},
   "source": [
    "## Problem Statement"
   ]
  },
  {
   "cell_type": "markdown",
   "metadata": {},
   "source": [
    "The problem statment is:\n",
    "**<center>Can we accurately predict the level of electricity consumption (and thus, plan for electricity generation) based on climate-related data?</center>**\n",
    "\n",
    "The ideal outcome is to provide the government with relevant information to develop policies to manage electricity generation and distribution as temperature fluctuates in the short term, and increases in the long term due to global warming.\n",
    "\n",
    "It is important that the level of electricity generation is not too low (to prevent blackouts and brownouts), and not too high (wastage and high costs)."
   ]
  },
  {
   "cell_type": "markdown",
   "metadata": {},
   "source": [
    "### Datasets Used"
   ]
  },
  {
   "cell_type": "markdown",
   "metadata": {},
   "source": [
    "For this project, I'll be using a number of weather datasets from [data.gov.sg](https://data.gov.sg/). These are:\n",
    "1. **Monthly Total Rainfall**: Measure of monthly total rainfall from 1982 to 2023\n",
    "2. **Monthly Number of Rain Days**: Measure of number of rainy days from 1982 to 2023\n",
    "3. **Monthly Mean Surface Air Temperature**: Measure of monthly mean surface air temperature from 1982 to 2023\n",
    "4. **Monthly Mean Sunshine Duration**: Measure of mean sunshine hours 1982 to 2023\n",
    "5. **Monthly Mean Relative Humidity**: Measure of monthly mean relative humidity from 1982 to 2023\n",
    "\n",
    "Additionally, I'll be using a table called [Singapore Energy Statistics](https://www.ema.gov.sg/Singapore_Energy_Statistics.aspx), by the Energy Market Authority in Singapore. In there, I will use one dataset:\n",
    "1. **Mean Monthly Household Electricity Consumption**: It's a measure of monthly household electricity consumption between 2005 and 2022 in kWh"
   ]
  },
  {
   "cell_type": "markdown",
   "metadata": {},
   "source": [
    "### Coding Challenges\n",
    "\n",
    "1. Manually calculate mean:\n",
    "\n",
    "    Write a function that takes in values and returns the mean of the values. Create a list of numbers that you test on your function to check to make sure your function works!\n",
    "    \n",
    "    *Note*: Do not use any mean methods built-in to any Python libraries to do this! This should be done without importing any additional libraries."
   ]
  },
  {
   "cell_type": "code",
   "execution_count": 72,
   "metadata": {},
   "outputs": [],
   "source": [
    "# Creating a function for sum\n",
    "def total(lst):\n",
    "    total = 0\n",
    "    for i in lst:\n",
    "        total += i\n",
    "    return total\n",
    "\n",
    "# Creating a function for mean\n",
    "def average(lst):\n",
    "    avg = total(lst) / len(lst)\n",
    "    return avg"
   ]
  },
  {
   "cell_type": "code",
   "execution_count": 73,
   "metadata": {},
   "outputs": [
    {
     "data": {
      "text/plain": [
       "5.5"
      ]
     },
     "execution_count": 73,
     "metadata": {},
     "output_type": "execute_result"
    }
   ],
   "source": [
    "# Testing the function\n",
    "test_lst = [1, 2, 3, 4, 5, 6, 7, 8, 9, 10]\n",
    "average(test_lst)"
   ]
  },
  {
   "cell_type": "markdown",
   "metadata": {},
   "source": [
    "2. Manually calculate standard deviation:\n",
    "\n",
    "    The formula for standard deviation is below:\n",
    "\n",
    "    $$\\sigma = \\sqrt{\\frac{1}{n}\\sum_{i=1}^n(x_i - \\mu)^2}$$\n",
    "\n",
    "    Where $x_i$ represents each value in the dataset, $\\mu$ represents the mean of all values in the dataset and $n$ represents the number of values in the dataset.\n",
    "\n",
    "    Write a function that takes in values and returns the standard deviation of the values using the formula above. Hint: use the function you wrote above to calculate the mean! Use the list of numbers you created above to test on your function.\n",
    "    \n",
    "    *Note*: Do not use any standard deviation methods built-in to any Python libraries to do this! This should be done without importing any additional libraries."
   ]
  },
  {
   "cell_type": "code",
   "execution_count": 74,
   "metadata": {},
   "outputs": [],
   "source": [
    "# Creating a function for standard deviation\n",
    "def stdev(lst):\n",
    "    avg = total(lst) / len(lst)\n",
    "    squared_deviations = []\n",
    "    for i in lst:\n",
    "        squared_deviations.append((i - avg)**2)\n",
    "    sd = (1 / len(lst) * total(squared_deviations))**0.5\n",
    "    return sd"
   ]
  },
  {
   "cell_type": "code",
   "execution_count": 75,
   "metadata": {},
   "outputs": [
    {
     "data": {
      "text/plain": [
       "2.8722813232690143"
      ]
     },
     "execution_count": 75,
     "metadata": {},
     "output_type": "execute_result"
    }
   ],
   "source": [
    "# Testing the function\n",
    "test_lst = [1, 2, 3, 4, 5, 6, 7, 8, 9, 10]\n",
    "stdev(test_lst)"
   ]
  },
  {
   "cell_type": "markdown",
   "metadata": {},
   "source": [
    "--- \n",
    "# Part 2\n",
    "\n",
    "Part 2 requires knowledge of Pandas, EDA, data cleaning, and data visualization.\n",
    "\n",
    "---"
   ]
  },
  {
   "cell_type": "markdown",
   "metadata": {},
   "source": [
    "*All libraries used should be added here*"
   ]
  },
  {
   "cell_type": "code",
   "execution_count": 76,
   "metadata": {},
   "outputs": [],
   "source": [
    "# Imports:\n",
    "import pandas as pd\n",
    "import numpy as np\n",
    "import matplotlib.pyplot as plt\n",
    "import seaborn as sns\n",
    "import plotly.express as px"
   ]
  },
  {
   "cell_type": "markdown",
   "metadata": {},
   "source": [
    "## Data Import and Cleaning"
   ]
  },
  {
   "cell_type": "markdown",
   "metadata": {},
   "source": [
    "### Data Import"
   ]
  },
  {
   "cell_type": "code",
   "execution_count": 77,
   "metadata": {},
   "outputs": [],
   "source": [
    "# Importing data\n",
    "rain_days = pd.read_csv('../data/monthly_number_of_rain_days.csv')\n",
    "rainfall = pd.read_csv('../data/monthly_rainfall_total.csv')\n",
    "av_temp = pd.read_csv('../data/monthly_mean_surface_air_temperature.csv')\n",
    "sun_hours = pd.read_csv('../data/monthly_mean_sunshine_duration.csv')\n",
    "humidity = pd.read_csv('../data/monthly_mean_relative_humidity.csv')\n",
    "energy = pd.read_excel('../data/Singapore_Energy_Statistics_2022.xlsx', sheet_name = 'T3.5')"
   ]
  },
  {
   "cell_type": "markdown",
   "metadata": {},
   "source": [
    "### Data Cleaning"
   ]
  },
  {
   "cell_type": "markdown",
   "metadata": {},
   "source": [
    "##### 1. Inspecting the DataFrames"
   ]
  },
  {
   "cell_type": "markdown",
   "metadata": {},
   "source": [
    "Let's begin by inspecting the DataFrames in order to familiarise ourselves with the data. Through this process, we can identify issues in the DataFrames so that we can clean them prior to merging them together. For all the DataFrames, we will look to answer the following questions:\n",
    "\n",
    "1. Is there any missing data?\n",
    "2. Are there duplicated data?\n",
    "3. Is the data type correct?\n",
    "4. Are there irrelevant columns?\n",
    "5. Are there columns we need to edit in order to make the merging process smooth?\n",
    "\n",
    "Let's start with the 'energy' dataframe."
   ]
  },
  {
   "cell_type": "code",
   "execution_count": 78,
   "metadata": {},
   "outputs": [
    {
     "name": "stdout",
     "output_type": "stream",
     "text": [
      "(65934, 6)\n"
     ]
    },
    {
     "data": {
      "text/html": [
       "<div>\n",
       "<style scoped>\n",
       "    .dataframe tbody tr th:only-of-type {\n",
       "        vertical-align: middle;\n",
       "    }\n",
       "\n",
       "    .dataframe tbody tr th {\n",
       "        vertical-align: top;\n",
       "    }\n",
       "\n",
       "    .dataframe thead th {\n",
       "        text-align: right;\n",
       "    }\n",
       "</style>\n",
       "<table border=\"1\" class=\"dataframe\">\n",
       "  <thead>\n",
       "    <tr style=\"text-align: right;\">\n",
       "      <th></th>\n",
       "      <th>dwelling_type</th>\n",
       "      <th>year</th>\n",
       "      <th>month</th>\n",
       "      <th>Region</th>\n",
       "      <th>Description</th>\n",
       "      <th>kwh_per_acc</th>\n",
       "    </tr>\n",
       "  </thead>\n",
       "  <tbody>\n",
       "    <tr>\n",
       "      <th>0</th>\n",
       "      <td>1-room / 2-room</td>\n",
       "      <td>2005.0</td>\n",
       "      <td>1</td>\n",
       "      <td>Central Region</td>\n",
       "      <td>Bishan</td>\n",
       "      <td>104.9</td>\n",
       "    </tr>\n",
       "    <tr>\n",
       "      <th>1</th>\n",
       "      <td>1-room / 2-room</td>\n",
       "      <td>2005.0</td>\n",
       "      <td>1</td>\n",
       "      <td>Central Region</td>\n",
       "      <td>Bukit Merah</td>\n",
       "      <td>140.7</td>\n",
       "    </tr>\n",
       "    <tr>\n",
       "      <th>2</th>\n",
       "      <td>1-room / 2-room</td>\n",
       "      <td>2005.0</td>\n",
       "      <td>1</td>\n",
       "      <td>Central Region</td>\n",
       "      <td>Central Region</td>\n",
       "      <td>136.5</td>\n",
       "    </tr>\n",
       "    <tr>\n",
       "      <th>3</th>\n",
       "      <td>1-room / 2-room</td>\n",
       "      <td>2005.0</td>\n",
       "      <td>1</td>\n",
       "      <td>Central Region</td>\n",
       "      <td>Geylang</td>\n",
       "      <td>148.5</td>\n",
       "    </tr>\n",
       "    <tr>\n",
       "      <th>4</th>\n",
       "      <td>1-room / 2-room</td>\n",
       "      <td>2005.0</td>\n",
       "      <td>1</td>\n",
       "      <td>Central Region</td>\n",
       "      <td>Kallang</td>\n",
       "      <td>115.6</td>\n",
       "    </tr>\n",
       "  </tbody>\n",
       "</table>\n",
       "</div>"
      ],
      "text/plain": [
       "     dwelling_type    year month          Region     Description kwh_per_acc\n",
       "0  1-room / 2-room  2005.0     1  Central Region          Bishan       104.9\n",
       "1  1-room / 2-room  2005.0     1  Central Region     Bukit Merah       140.7\n",
       "2  1-room / 2-room  2005.0     1  Central Region  Central Region       136.5\n",
       "3  1-room / 2-room  2005.0     1  Central Region         Geylang       148.5\n",
       "4  1-room / 2-room  2005.0     1  Central Region         Kallang       115.6"
      ]
     },
     "execution_count": 78,
     "metadata": {},
     "output_type": "execute_result"
    }
   ],
   "source": [
    "# Displaying the 'energy' DataFrame, which shows the Average Monthly Household Electricity Consumption.\n",
    "print(energy.shape)\n",
    "energy.head()"
   ]
  },
  {
   "cell_type": "code",
   "execution_count": 79,
   "metadata": {},
   "outputs": [
    {
     "name": "stdout",
     "output_type": "stream",
     "text": [
      "<class 'pandas.core.frame.DataFrame'>\n",
      "RangeIndex: 65934 entries, 0 to 65933\n",
      "Data columns (total 6 columns):\n",
      " #   Column         Non-Null Count  Dtype  \n",
      "---  ------         --------------  -----  \n",
      " 0   dwelling_type  65933 non-null  object \n",
      " 1   year           65932 non-null  float64\n",
      " 2   month          65932 non-null  object \n",
      " 3   Region         65932 non-null  object \n",
      " 4   Description    65932 non-null  object \n",
      " 5   kwh_per_acc    65932 non-null  object \n",
      "dtypes: float64(1), object(5)\n",
      "memory usage: 3.0+ MB\n",
      "dwelling_type    1\n",
      "year             2\n",
      "month            2\n",
      "Region           2\n",
      "Description      2\n",
      "kwh_per_acc      2\n",
      "dtype: int64\n"
     ]
    },
    {
     "data": {
      "text/html": [
       "<div>\n",
       "<style scoped>\n",
       "    .dataframe tbody tr th:only-of-type {\n",
       "        vertical-align: middle;\n",
       "    }\n",
       "\n",
       "    .dataframe tbody tr th {\n",
       "        vertical-align: top;\n",
       "    }\n",
       "\n",
       "    .dataframe thead th {\n",
       "        text-align: right;\n",
       "    }\n",
       "</style>\n",
       "<table border=\"1\" class=\"dataframe\">\n",
       "  <thead>\n",
       "    <tr style=\"text-align: right;\">\n",
       "      <th></th>\n",
       "      <th>dwelling_type</th>\n",
       "      <th>year</th>\n",
       "      <th>month</th>\n",
       "      <th>Region</th>\n",
       "      <th>Description</th>\n",
       "      <th>kwh_per_acc</th>\n",
       "    </tr>\n",
       "  </thead>\n",
       "  <tbody>\n",
       "    <tr>\n",
       "      <th>0</th>\n",
       "      <td>False</td>\n",
       "      <td>False</td>\n",
       "      <td>False</td>\n",
       "      <td>False</td>\n",
       "      <td>False</td>\n",
       "      <td>False</td>\n",
       "    </tr>\n",
       "    <tr>\n",
       "      <th>1</th>\n",
       "      <td>False</td>\n",
       "      <td>False</td>\n",
       "      <td>False</td>\n",
       "      <td>False</td>\n",
       "      <td>False</td>\n",
       "      <td>False</td>\n",
       "    </tr>\n",
       "    <tr>\n",
       "      <th>2</th>\n",
       "      <td>False</td>\n",
       "      <td>False</td>\n",
       "      <td>False</td>\n",
       "      <td>False</td>\n",
       "      <td>False</td>\n",
       "      <td>False</td>\n",
       "    </tr>\n",
       "    <tr>\n",
       "      <th>3</th>\n",
       "      <td>False</td>\n",
       "      <td>False</td>\n",
       "      <td>False</td>\n",
       "      <td>False</td>\n",
       "      <td>False</td>\n",
       "      <td>False</td>\n",
       "    </tr>\n",
       "    <tr>\n",
       "      <th>4</th>\n",
       "      <td>False</td>\n",
       "      <td>False</td>\n",
       "      <td>False</td>\n",
       "      <td>False</td>\n",
       "      <td>False</td>\n",
       "      <td>False</td>\n",
       "    </tr>\n",
       "    <tr>\n",
       "      <th>...</th>\n",
       "      <td>...</td>\n",
       "      <td>...</td>\n",
       "      <td>...</td>\n",
       "      <td>...</td>\n",
       "      <td>...</td>\n",
       "      <td>...</td>\n",
       "    </tr>\n",
       "    <tr>\n",
       "      <th>65929</th>\n",
       "      <td>False</td>\n",
       "      <td>False</td>\n",
       "      <td>False</td>\n",
       "      <td>False</td>\n",
       "      <td>False</td>\n",
       "      <td>False</td>\n",
       "    </tr>\n",
       "    <tr>\n",
       "      <th>65930</th>\n",
       "      <td>False</td>\n",
       "      <td>False</td>\n",
       "      <td>False</td>\n",
       "      <td>False</td>\n",
       "      <td>False</td>\n",
       "      <td>False</td>\n",
       "    </tr>\n",
       "    <tr>\n",
       "      <th>65931</th>\n",
       "      <td>False</td>\n",
       "      <td>False</td>\n",
       "      <td>False</td>\n",
       "      <td>False</td>\n",
       "      <td>False</td>\n",
       "      <td>False</td>\n",
       "    </tr>\n",
       "    <tr>\n",
       "      <th>65932</th>\n",
       "      <td>True</td>\n",
       "      <td>True</td>\n",
       "      <td>True</td>\n",
       "      <td>True</td>\n",
       "      <td>True</td>\n",
       "      <td>True</td>\n",
       "    </tr>\n",
       "    <tr>\n",
       "      <th>65933</th>\n",
       "      <td>False</td>\n",
       "      <td>True</td>\n",
       "      <td>True</td>\n",
       "      <td>True</td>\n",
       "      <td>True</td>\n",
       "      <td>True</td>\n",
       "    </tr>\n",
       "  </tbody>\n",
       "</table>\n",
       "<p>65934 rows × 6 columns</p>\n",
       "</div>"
      ],
      "text/plain": [
       "       dwelling_type   year  month  Region  Description  kwh_per_acc\n",
       "0              False  False  False   False        False        False\n",
       "1              False  False  False   False        False        False\n",
       "2              False  False  False   False        False        False\n",
       "3              False  False  False   False        False        False\n",
       "4              False  False  False   False        False        False\n",
       "...              ...    ...    ...     ...          ...          ...\n",
       "65929          False  False  False   False        False        False\n",
       "65930          False  False  False   False        False        False\n",
       "65931          False  False  False   False        False        False\n",
       "65932           True   True   True    True         True         True\n",
       "65933          False   True   True    True         True         True\n",
       "\n",
       "[65934 rows x 6 columns]"
      ]
     },
     "execution_count": 79,
     "metadata": {},
     "output_type": "execute_result"
    }
   ],
   "source": [
    "# Checking for missing values and datatype.\n",
    "energy.info()\n",
    "print(energy.isnull().sum())\n",
    "energy.isnull()"
   ]
  },
  {
   "cell_type": "markdown",
   "metadata": {},
   "source": [
    "The 'kwh_per_acc' column is a string, we will change it to a float in the cleaning stage.\n",
    "\n",
    "Additionally, the 'dwelling_type' column has an extra non-null value, and it appears that there are issues with the last two rows. Let's investigate."
   ]
  },
  {
   "cell_type": "code",
   "execution_count": 80,
   "metadata": {},
   "outputs": [
    {
     "data": {
      "text/html": [
       "<div>\n",
       "<style scoped>\n",
       "    .dataframe tbody tr th:only-of-type {\n",
       "        vertical-align: middle;\n",
       "    }\n",
       "\n",
       "    .dataframe tbody tr th {\n",
       "        vertical-align: top;\n",
       "    }\n",
       "\n",
       "    .dataframe thead th {\n",
       "        text-align: right;\n",
       "    }\n",
       "</style>\n",
       "<table border=\"1\" class=\"dataframe\">\n",
       "  <thead>\n",
       "    <tr style=\"text-align: right;\">\n",
       "      <th></th>\n",
       "      <th>dwelling_type</th>\n",
       "      <th>year</th>\n",
       "      <th>month</th>\n",
       "      <th>Region</th>\n",
       "      <th>Description</th>\n",
       "      <th>kwh_per_acc</th>\n",
       "    </tr>\n",
       "  </thead>\n",
       "  <tbody>\n",
       "    <tr>\n",
       "      <th>65929</th>\n",
       "      <td>Public Housing</td>\n",
       "      <td>2017.0</td>\n",
       "      <td>Annual</td>\n",
       "      <td>West Region</td>\n",
       "      <td>Jurong East</td>\n",
       "      <td>356</td>\n",
       "    </tr>\n",
       "    <tr>\n",
       "      <th>65930</th>\n",
       "      <td>Public Housing</td>\n",
       "      <td>2017.0</td>\n",
       "      <td>Annual</td>\n",
       "      <td>West Region</td>\n",
       "      <td>Jurong West</td>\n",
       "      <td>388.6</td>\n",
       "    </tr>\n",
       "    <tr>\n",
       "      <th>65931</th>\n",
       "      <td>Public Housing</td>\n",
       "      <td>2017.0</td>\n",
       "      <td>Annual</td>\n",
       "      <td>West Region</td>\n",
       "      <td>West Region</td>\n",
       "      <td>366.7</td>\n",
       "    </tr>\n",
       "    <tr>\n",
       "      <th>65932</th>\n",
       "      <td>NaN</td>\n",
       "      <td>NaN</td>\n",
       "      <td>NaN</td>\n",
       "      <td>NaN</td>\n",
       "      <td>NaN</td>\n",
       "      <td>NaN</td>\n",
       "    </tr>\n",
       "    <tr>\n",
       "      <th>65933</th>\n",
       "      <td>Data for 2022 is as at Jun 2022.</td>\n",
       "      <td>NaN</td>\n",
       "      <td>NaN</td>\n",
       "      <td>NaN</td>\n",
       "      <td>NaN</td>\n",
       "      <td>NaN</td>\n",
       "    </tr>\n",
       "  </tbody>\n",
       "</table>\n",
       "</div>"
      ],
      "text/plain": [
       "                          dwelling_type    year   month       Region  \\\n",
       "65929                    Public Housing  2017.0  Annual  West Region   \n",
       "65930                    Public Housing  2017.0  Annual  West Region   \n",
       "65931                    Public Housing  2017.0  Annual  West Region   \n",
       "65932                               NaN     NaN     NaN          NaN   \n",
       "65933  Data for 2022 is as at Jun 2022.     NaN     NaN          NaN   \n",
       "\n",
       "       Description kwh_per_acc  \n",
       "65929  Jurong East         356  \n",
       "65930  Jurong West       388.6  \n",
       "65931  West Region       366.7  \n",
       "65932          NaN         NaN  \n",
       "65933          NaN         NaN  "
      ]
     },
     "execution_count": 80,
     "metadata": {},
     "output_type": "execute_result"
    }
   ],
   "source": [
    "energy.tail()"
   ]
  },
  {
   "cell_type": "markdown",
   "metadata": {},
   "source": [
    "Looks like we can drop the last two rows. Let us do that in the cleaning stage. For now, we will inspect the other DataFrames."
   ]
  },
  {
   "cell_type": "code",
   "execution_count": 81,
   "metadata": {},
   "outputs": [
    {
     "name": "stdout",
     "output_type": "stream",
     "text": [
      "(497, 2)\n",
      "<class 'pandas.core.frame.DataFrame'>\n",
      "RangeIndex: 497 entries, 0 to 496\n",
      "Data columns (total 2 columns):\n",
      " #   Column          Non-Null Count  Dtype  \n",
      "---  ------          --------------  -----  \n",
      " 0   month           497 non-null    object \n",
      " 1   total_rainfall  497 non-null    float64\n",
      "dtypes: float64(1), object(1)\n",
      "memory usage: 7.9+ KB\n"
     ]
    }
   ],
   "source": [
    "# Displaying the 'rainfall' DataFrame, which shows the Monthly total rain recorded in mm(millimeters).\n",
    "print(rainfall.shape)\n",
    "rainfall.info()"
   ]
  },
  {
   "cell_type": "code",
   "execution_count": 82,
   "metadata": {},
   "outputs": [
    {
     "name": "stdout",
     "output_type": "stream",
     "text": [
      "     month  total_rainfall\n",
      "0  1982-01           107.1\n",
      "1  1982-02            27.8\n",
      "2  1982-03           160.8\n",
      "3  1982-04           157.0\n",
      "4  1982-05           102.2\n"
     ]
    },
    {
     "data": {
      "text/plain": [
       "month             0\n",
       "total_rainfall    0\n",
       "dtype: int64"
      ]
     },
     "execution_count": 82,
     "metadata": {},
     "output_type": "execute_result"
    }
   ],
   "source": [
    "print(rainfall.head())\n",
    "rainfall.isnull().sum()"
   ]
  },
  {
   "cell_type": "markdown",
   "metadata": {},
   "source": [
    "No major issues with the 'rainfall' DataFrame. However, the 'month' column is a string. We will rename it to 'date' and change its type to 'datetime'. Looking back to the 'energy' DataFrame, we will create a new 'date' column and bring the year and the month column together, and change its type to 'datetime'. This allows for easier merging later."
   ]
  },
  {
   "cell_type": "code",
   "execution_count": 83,
   "metadata": {},
   "outputs": [
    {
     "name": "stdout",
     "output_type": "stream",
     "text": [
      "(497, 2)\n",
      "<class 'pandas.core.frame.DataFrame'>\n",
      "RangeIndex: 497 entries, 0 to 496\n",
      "Data columns (total 2 columns):\n",
      " #   Column            Non-Null Count  Dtype \n",
      "---  ------            --------------  ----- \n",
      " 0   month             497 non-null    object\n",
      " 1   no_of_rainy_days  497 non-null    int64 \n",
      "dtypes: int64(1), object(1)\n",
      "memory usage: 7.9+ KB\n"
     ]
    }
   ],
   "source": [
    "# Displaying the 'rain_days' DataFrame, which shows the Monthly number of rain days.\n",
    "print(rain_days.shape)\n",
    "rain_days.info()"
   ]
  },
  {
   "cell_type": "code",
   "execution_count": 84,
   "metadata": {},
   "outputs": [
    {
     "name": "stdout",
     "output_type": "stream",
     "text": [
      "     month  no_of_rainy_days\n",
      "0  1982-01                10\n",
      "1  1982-02                 5\n",
      "2  1982-03                11\n",
      "3  1982-04                14\n",
      "4  1982-05                10\n"
     ]
    },
    {
     "data": {
      "text/plain": [
       "month               0\n",
       "no_of_rainy_days    0\n",
       "dtype: int64"
      ]
     },
     "execution_count": 84,
     "metadata": {},
     "output_type": "execute_result"
    }
   ],
   "source": [
    "print(rain_days.head())\n",
    "rain_days.isnull().sum()"
   ]
  },
  {
   "cell_type": "code",
   "execution_count": 85,
   "metadata": {},
   "outputs": [
    {
     "name": "stdout",
     "output_type": "stream",
     "text": [
      "(497, 2)\n",
      "<class 'pandas.core.frame.DataFrame'>\n",
      "RangeIndex: 497 entries, 0 to 496\n",
      "Data columns (total 2 columns):\n",
      " #   Column     Non-Null Count  Dtype  \n",
      "---  ------     --------------  -----  \n",
      " 0   month      497 non-null    object \n",
      " 1   mean_temp  497 non-null    float64\n",
      "dtypes: float64(1), object(1)\n",
      "memory usage: 7.9+ KB\n",
      "None\n"
     ]
    }
   ],
   "source": [
    "# Displaying the 'av_temp' DataFrame, which shows the Monthly mean surface air temperature.\n",
    "print(av_temp.shape)\n",
    "print(av_temp.info())"
   ]
  },
  {
   "cell_type": "code",
   "execution_count": 86,
   "metadata": {},
   "outputs": [
    {
     "name": "stdout",
     "output_type": "stream",
     "text": [
      "     month  mean_temp\n",
      "0  1982-01       25.9\n",
      "1  1982-02       27.1\n",
      "2  1982-03       27.2\n",
      "3  1982-04       27.0\n",
      "4  1982-05       28.0\n"
     ]
    },
    {
     "data": {
      "text/plain": [
       "month        0\n",
       "mean_temp    0\n",
       "dtype: int64"
      ]
     },
     "execution_count": 86,
     "metadata": {},
     "output_type": "execute_result"
    }
   ],
   "source": [
    "print(av_temp.head())\n",
    "av_temp.isnull().sum()"
   ]
  },
  {
   "cell_type": "code",
   "execution_count": 87,
   "metadata": {},
   "outputs": [
    {
     "name": "stdout",
     "output_type": "stream",
     "text": [
      "(497, 2)\n",
      "<class 'pandas.core.frame.DataFrame'>\n",
      "RangeIndex: 497 entries, 0 to 496\n",
      "Data columns (total 2 columns):\n",
      " #   Column             Non-Null Count  Dtype  \n",
      "---  ------             --------------  -----  \n",
      " 0   month              497 non-null    object \n",
      " 1   mean_sunshine_hrs  497 non-null    float64\n",
      "dtypes: float64(1), object(1)\n",
      "memory usage: 7.9+ KB\n",
      "None\n"
     ]
    }
   ],
   "source": [
    "# Displaying the 'sun_hours' DataFrame, which shows the Monthly mean sunshine hours per day.\n",
    "print(sun_hours.shape)\n",
    "print(sun_hours.info())"
   ]
  },
  {
   "cell_type": "code",
   "execution_count": 88,
   "metadata": {},
   "outputs": [
    {
     "name": "stdout",
     "output_type": "stream",
     "text": [
      "     month  mean_sunshine_hrs\n",
      "0  1982-01                5.6\n",
      "1  1982-02                7.6\n",
      "2  1982-03                5.1\n",
      "3  1982-04                4.7\n",
      "4  1982-05                5.8\n"
     ]
    },
    {
     "data": {
      "text/plain": [
       "month                0\n",
       "mean_sunshine_hrs    0\n",
       "dtype: int64"
      ]
     },
     "execution_count": 88,
     "metadata": {},
     "output_type": "execute_result"
    }
   ],
   "source": [
    "print(sun_hours.head())\n",
    "sun_hours.isnull().sum()"
   ]
  },
  {
   "cell_type": "code",
   "execution_count": 89,
   "metadata": {},
   "outputs": [
    {
     "name": "stdout",
     "output_type": "stream",
     "text": [
      "(497, 2)\n",
      "<class 'pandas.core.frame.DataFrame'>\n",
      "RangeIndex: 497 entries, 0 to 496\n",
      "Data columns (total 2 columns):\n",
      " #   Column   Non-Null Count  Dtype  \n",
      "---  ------   --------------  -----  \n",
      " 0   month    497 non-null    object \n",
      " 1   mean_rh  497 non-null    float64\n",
      "dtypes: float64(1), object(1)\n",
      "memory usage: 7.9+ KB\n",
      "None\n"
     ]
    }
   ],
   "source": [
    "# Displaying the 'humidity' DataFrame, which shows the Monthly mean relative humidity.\n",
    "print(humidity.shape)\n",
    "print(humidity.info())"
   ]
  },
  {
   "cell_type": "code",
   "execution_count": 90,
   "metadata": {},
   "outputs": [
    {
     "name": "stdout",
     "output_type": "stream",
     "text": [
      "     month  mean_rh\n",
      "0  1982-01     81.2\n",
      "1  1982-02     79.5\n",
      "2  1982-03     82.3\n",
      "3  1982-04     85.9\n",
      "4  1982-05     83.2\n"
     ]
    },
    {
     "data": {
      "text/plain": [
       "month      0\n",
       "mean_rh    0\n",
       "dtype: int64"
      ]
     },
     "execution_count": 90,
     "metadata": {},
     "output_type": "execute_result"
    }
   ],
   "source": [
    "print(humidity.head())\n",
    "humidity.isnull().sum()"
   ]
  },
  {
   "cell_type": "markdown",
   "metadata": {},
   "source": [
    "Similar to the 'rainfall' DataFrame, the 'month' columns of the remaining DataFrames are strings. We will rename them to 'date' and change their type to 'datetime'."
   ]
  },
  {
   "cell_type": "markdown",
   "metadata": {},
   "source": [
    "##### 2. Cleaning the DataFrames"
   ]
  },
  {
   "cell_type": "markdown",
   "metadata": {},
   "source": [
    "I will start off by cleaning the 'energy' DataFrame, and using that as a base to add the weather-based datasets."
   ]
  },
  {
   "cell_type": "code",
   "execution_count": 91,
   "metadata": {},
   "outputs": [
    {
     "name": "stdout",
     "output_type": "stream",
     "text": [
      "<class 'pandas.core.frame.DataFrame'>\n",
      "Int64Index: 65932 entries, 0 to 65931\n",
      "Data columns (total 6 columns):\n",
      " #   Column         Non-Null Count  Dtype  \n",
      "---  ------         --------------  -----  \n",
      " 0   dwelling_type  65932 non-null  object \n",
      " 1   year           65932 non-null  float64\n",
      " 2   month          65932 non-null  object \n",
      " 3   Region         65932 non-null  object \n",
      " 4   Description    65932 non-null  object \n",
      " 5   kwh_per_acc    65932 non-null  object \n",
      "dtypes: float64(1), object(5)\n",
      "memory usage: 3.5+ MB\n"
     ]
    }
   ],
   "source": [
    "# Removing the two rows at the end which contribute to the null count.\n",
    "energy.dropna(inplace = True)\n",
    "energy.info()"
   ]
  },
  {
   "cell_type": "code",
   "execution_count": 92,
   "metadata": {},
   "outputs": [
    {
     "data": {
      "text/html": [
       "<div>\n",
       "<style scoped>\n",
       "    .dataframe tbody tr th:only-of-type {\n",
       "        vertical-align: middle;\n",
       "    }\n",
       "\n",
       "    .dataframe tbody tr th {\n",
       "        vertical-align: top;\n",
       "    }\n",
       "\n",
       "    .dataframe thead th {\n",
       "        text-align: right;\n",
       "    }\n",
       "</style>\n",
       "<table border=\"1\" class=\"dataframe\">\n",
       "  <thead>\n",
       "    <tr style=\"text-align: right;\">\n",
       "      <th></th>\n",
       "      <th>dwelling_type</th>\n",
       "      <th>year</th>\n",
       "      <th>month</th>\n",
       "      <th>Region</th>\n",
       "      <th>Description</th>\n",
       "      <th>kwh_per_acc</th>\n",
       "    </tr>\n",
       "  </thead>\n",
       "  <tbody>\n",
       "    <tr>\n",
       "      <th>7837</th>\n",
       "      <td>Overall</td>\n",
       "      <td>2018.0</td>\n",
       "      <td>1</td>\n",
       "      <td>Overall</td>\n",
       "      <td>Overall</td>\n",
       "      <td>398</td>\n",
       "    </tr>\n",
       "    <tr>\n",
       "      <th>7884</th>\n",
       "      <td>Overall</td>\n",
       "      <td>2018.0</td>\n",
       "      <td>10</td>\n",
       "      <td>Overall</td>\n",
       "      <td>Overall</td>\n",
       "      <td>441.4</td>\n",
       "    </tr>\n",
       "    <tr>\n",
       "      <th>7931</th>\n",
       "      <td>Overall</td>\n",
       "      <td>2018.0</td>\n",
       "      <td>11</td>\n",
       "      <td>Overall</td>\n",
       "      <td>Overall</td>\n",
       "      <td>422</td>\n",
       "    </tr>\n",
       "    <tr>\n",
       "      <th>7978</th>\n",
       "      <td>Overall</td>\n",
       "      <td>2018.0</td>\n",
       "      <td>12</td>\n",
       "      <td>Overall</td>\n",
       "      <td>Overall</td>\n",
       "      <td>382</td>\n",
       "    </tr>\n",
       "    <tr>\n",
       "      <th>8025</th>\n",
       "      <td>Overall</td>\n",
       "      <td>2018.0</td>\n",
       "      <td>2</td>\n",
       "      <td>Overall</td>\n",
       "      <td>Overall</td>\n",
       "      <td>371</td>\n",
       "    </tr>\n",
       "    <tr>\n",
       "      <th>...</th>\n",
       "      <td>...</td>\n",
       "      <td>...</td>\n",
       "      <td>...</td>\n",
       "      <td>...</td>\n",
       "      <td>...</td>\n",
       "      <td>...</td>\n",
       "    </tr>\n",
       "    <tr>\n",
       "      <th>43337</th>\n",
       "      <td>Overall</td>\n",
       "      <td>2017.0</td>\n",
       "      <td>5</td>\n",
       "      <td>Overall</td>\n",
       "      <td>Overall</td>\n",
       "      <td>453.6</td>\n",
       "    </tr>\n",
       "    <tr>\n",
       "      <th>43384</th>\n",
       "      <td>Overall</td>\n",
       "      <td>2017.0</td>\n",
       "      <td>6</td>\n",
       "      <td>Overall</td>\n",
       "      <td>Overall</td>\n",
       "      <td>501.7</td>\n",
       "    </tr>\n",
       "    <tr>\n",
       "      <th>43431</th>\n",
       "      <td>Overall</td>\n",
       "      <td>2017.0</td>\n",
       "      <td>7</td>\n",
       "      <td>Overall</td>\n",
       "      <td>Overall</td>\n",
       "      <td>507.5</td>\n",
       "    </tr>\n",
       "    <tr>\n",
       "      <th>43478</th>\n",
       "      <td>Overall</td>\n",
       "      <td>2017.0</td>\n",
       "      <td>8</td>\n",
       "      <td>Overall</td>\n",
       "      <td>Overall</td>\n",
       "      <td>453.7</td>\n",
       "    </tr>\n",
       "    <tr>\n",
       "      <th>43525</th>\n",
       "      <td>Overall</td>\n",
       "      <td>2017.0</td>\n",
       "      <td>9</td>\n",
       "      <td>Overall</td>\n",
       "      <td>Overall</td>\n",
       "      <td>442.8</td>\n",
       "    </tr>\n",
       "  </tbody>\n",
       "</table>\n",
       "<p>210 rows × 6 columns</p>\n",
       "</div>"
      ],
      "text/plain": [
       "      dwelling_type    year month   Region Description kwh_per_acc\n",
       "7837        Overall  2018.0     1  Overall     Overall         398\n",
       "7884        Overall  2018.0    10  Overall     Overall       441.4\n",
       "7931        Overall  2018.0    11  Overall     Overall         422\n",
       "7978        Overall  2018.0    12  Overall     Overall         382\n",
       "8025        Overall  2018.0     2  Overall     Overall         371\n",
       "...             ...     ...   ...      ...         ...         ...\n",
       "43337       Overall  2017.0     5  Overall     Overall       453.6\n",
       "43384       Overall  2017.0     6  Overall     Overall       501.7\n",
       "43431       Overall  2017.0     7  Overall     Overall       507.5\n",
       "43478       Overall  2017.0     8  Overall     Overall       453.7\n",
       "43525       Overall  2017.0     9  Overall     Overall       442.8\n",
       "\n",
       "[210 rows x 6 columns]"
      ]
     },
     "execution_count": 92,
     "metadata": {},
     "output_type": "execute_result"
    }
   ],
   "source": [
    "# Removing subsets in the columns 'dwelling_type', 'Region' and 'Description' to focus on overall number.\n",
    "energy = energy[(energy['dwelling_type'] == 'Overall') & (energy['Region'] == 'Overall') & (energy['Description'] == 'Overall')]\n",
    "\n",
    "# Removing rows which sum up monthly numbers in the 'month' column.\n",
    "energy.drop(energy[energy['month'] == 'Annual'].index, inplace = True)\n",
    "energy"
   ]
  },
  {
   "cell_type": "code",
   "execution_count": 93,
   "metadata": {},
   "outputs": [
    {
     "data": {
      "text/html": [
       "<div>\n",
       "<style scoped>\n",
       "    .dataframe tbody tr th:only-of-type {\n",
       "        vertical-align: middle;\n",
       "    }\n",
       "\n",
       "    .dataframe tbody tr th {\n",
       "        vertical-align: top;\n",
       "    }\n",
       "\n",
       "    .dataframe thead th {\n",
       "        text-align: right;\n",
       "    }\n",
       "</style>\n",
       "<table border=\"1\" class=\"dataframe\">\n",
       "  <thead>\n",
       "    <tr style=\"text-align: right;\">\n",
       "      <th></th>\n",
       "      <th>dwelling_type</th>\n",
       "      <th>year</th>\n",
       "      <th>month</th>\n",
       "      <th>Region</th>\n",
       "      <th>Description</th>\n",
       "      <th>kwh_per_acc</th>\n",
       "      <th>date</th>\n",
       "    </tr>\n",
       "  </thead>\n",
       "  <tbody>\n",
       "    <tr>\n",
       "      <th>7837</th>\n",
       "      <td>Overall</td>\n",
       "      <td>2018.0</td>\n",
       "      <td>1</td>\n",
       "      <td>Overall</td>\n",
       "      <td>Overall</td>\n",
       "      <td>398</td>\n",
       "      <td>2018-01-01</td>\n",
       "    </tr>\n",
       "    <tr>\n",
       "      <th>7884</th>\n",
       "      <td>Overall</td>\n",
       "      <td>2018.0</td>\n",
       "      <td>10</td>\n",
       "      <td>Overall</td>\n",
       "      <td>Overall</td>\n",
       "      <td>441.4</td>\n",
       "      <td>2018-10-01</td>\n",
       "    </tr>\n",
       "    <tr>\n",
       "      <th>7931</th>\n",
       "      <td>Overall</td>\n",
       "      <td>2018.0</td>\n",
       "      <td>11</td>\n",
       "      <td>Overall</td>\n",
       "      <td>Overall</td>\n",
       "      <td>422</td>\n",
       "      <td>2018-11-01</td>\n",
       "    </tr>\n",
       "    <tr>\n",
       "      <th>7978</th>\n",
       "      <td>Overall</td>\n",
       "      <td>2018.0</td>\n",
       "      <td>12</td>\n",
       "      <td>Overall</td>\n",
       "      <td>Overall</td>\n",
       "      <td>382</td>\n",
       "      <td>2018-12-01</td>\n",
       "    </tr>\n",
       "    <tr>\n",
       "      <th>8025</th>\n",
       "      <td>Overall</td>\n",
       "      <td>2018.0</td>\n",
       "      <td>2</td>\n",
       "      <td>Overall</td>\n",
       "      <td>Overall</td>\n",
       "      <td>371</td>\n",
       "      <td>2018-02-01</td>\n",
       "    </tr>\n",
       "  </tbody>\n",
       "</table>\n",
       "</div>"
      ],
      "text/plain": [
       "     dwelling_type    year month   Region Description kwh_per_acc       date\n",
       "7837       Overall  2018.0     1  Overall     Overall         398 2018-01-01\n",
       "7884       Overall  2018.0    10  Overall     Overall       441.4 2018-10-01\n",
       "7931       Overall  2018.0    11  Overall     Overall         422 2018-11-01\n",
       "7978       Overall  2018.0    12  Overall     Overall         382 2018-12-01\n",
       "8025       Overall  2018.0     2  Overall     Overall         371 2018-02-01"
      ]
     },
     "execution_count": 93,
     "metadata": {},
     "output_type": "execute_result"
    }
   ],
   "source": [
    "# Creating a 'date' column to match the weather-related DataFrames\n",
    "energy['date'] = energy['month'].astype(str) + ' / ' + energy['year'].astype(int).astype(str)\n",
    "energy['date'] = pd.to_datetime(energy['date'])\n",
    "energy.head()"
   ]
  },
  {
   "cell_type": "code",
   "execution_count": 94,
   "metadata": {},
   "outputs": [],
   "source": [
    "# Dropping irrelevant columns.\n",
    "energy.drop(columns = ['dwelling_type', 'Region', 'Description', 'year', 'month'], inplace = True)"
   ]
  },
  {
   "cell_type": "code",
   "execution_count": 95,
   "metadata": {},
   "outputs": [
    {
     "name": "stdout",
     "output_type": "stream",
     "text": [
      "<class 'pandas.core.frame.DataFrame'>\n",
      "RangeIndex: 210 entries, 0 to 209\n",
      "Data columns (total 2 columns):\n",
      " #   Column       Non-Null Count  Dtype         \n",
      "---  ------       --------------  -----         \n",
      " 0   date         210 non-null    datetime64[ns]\n",
      " 1   kwh_per_acc  210 non-null    float64       \n",
      "dtypes: datetime64[ns](1), float64(1)\n",
      "memory usage: 3.4 KB\n",
      "None\n"
     ]
    },
    {
     "data": {
      "text/html": [
       "<div>\n",
       "<style scoped>\n",
       "    .dataframe tbody tr th:only-of-type {\n",
       "        vertical-align: middle;\n",
       "    }\n",
       "\n",
       "    .dataframe tbody tr th {\n",
       "        vertical-align: top;\n",
       "    }\n",
       "\n",
       "    .dataframe thead th {\n",
       "        text-align: right;\n",
       "    }\n",
       "</style>\n",
       "<table border=\"1\" class=\"dataframe\">\n",
       "  <thead>\n",
       "    <tr style=\"text-align: right;\">\n",
       "      <th></th>\n",
       "      <th>date</th>\n",
       "      <th>kwh_per_acc</th>\n",
       "    </tr>\n",
       "  </thead>\n",
       "  <tbody>\n",
       "    <tr>\n",
       "      <th>0</th>\n",
       "      <td>2018-01-01</td>\n",
       "      <td>398.0</td>\n",
       "    </tr>\n",
       "    <tr>\n",
       "      <th>1</th>\n",
       "      <td>2018-10-01</td>\n",
       "      <td>441.4</td>\n",
       "    </tr>\n",
       "    <tr>\n",
       "      <th>2</th>\n",
       "      <td>2018-11-01</td>\n",
       "      <td>422.0</td>\n",
       "    </tr>\n",
       "    <tr>\n",
       "      <th>3</th>\n",
       "      <td>2018-12-01</td>\n",
       "      <td>382.0</td>\n",
       "    </tr>\n",
       "    <tr>\n",
       "      <th>4</th>\n",
       "      <td>2018-02-01</td>\n",
       "      <td>371.0</td>\n",
       "    </tr>\n",
       "  </tbody>\n",
       "</table>\n",
       "</div>"
      ],
      "text/plain": [
       "        date  kwh_per_acc\n",
       "0 2018-01-01        398.0\n",
       "1 2018-10-01        441.4\n",
       "2 2018-11-01        422.0\n",
       "3 2018-12-01        382.0\n",
       "4 2018-02-01        371.0"
      ]
     },
     "execution_count": 95,
     "metadata": {},
     "output_type": "execute_result"
    }
   ],
   "source": [
    "# Changing the energy consumption column type to a float\n",
    "energy['kwh_per_acc'] = energy['kwh_per_acc'].astype(float)\n",
    "\n",
    "# Rearranging the DataFrame, sorting and resetting the index.\n",
    "energy = energy[['date', 'kwh_per_acc']]\n",
    "energy.reset_index(drop = True, inplace = True)\n",
    "print(energy.info())\n",
    "energy.head()"
   ]
  },
  {
   "cell_type": "markdown",
   "metadata": {},
   "source": [
    "Now that we've created the 'energy' DataFrame, I will clean the weather-related DataFrames."
   ]
  },
  {
   "cell_type": "code",
   "execution_count": 96,
   "metadata": {},
   "outputs": [
    {
     "name": "stdout",
     "output_type": "stream",
     "text": [
      "<class 'pandas.core.frame.DataFrame'>\n",
      "RangeIndex: 497 entries, 0 to 496\n",
      "Data columns (total 2 columns):\n",
      " #   Column          Non-Null Count  Dtype         \n",
      "---  ------          --------------  -----         \n",
      " 0   date            497 non-null    datetime64[ns]\n",
      " 1   total_rainfall  497 non-null    float64       \n",
      "dtypes: datetime64[ns](1), float64(1)\n",
      "memory usage: 7.9 KB\n",
      "None\n"
     ]
    },
    {
     "data": {
      "text/html": [
       "<div>\n",
       "<style scoped>\n",
       "    .dataframe tbody tr th:only-of-type {\n",
       "        vertical-align: middle;\n",
       "    }\n",
       "\n",
       "    .dataframe tbody tr th {\n",
       "        vertical-align: top;\n",
       "    }\n",
       "\n",
       "    .dataframe thead th {\n",
       "        text-align: right;\n",
       "    }\n",
       "</style>\n",
       "<table border=\"1\" class=\"dataframe\">\n",
       "  <thead>\n",
       "    <tr style=\"text-align: right;\">\n",
       "      <th></th>\n",
       "      <th>date</th>\n",
       "      <th>total_rainfall</th>\n",
       "    </tr>\n",
       "  </thead>\n",
       "  <tbody>\n",
       "    <tr>\n",
       "      <th>0</th>\n",
       "      <td>1982-01-01</td>\n",
       "      <td>107.1</td>\n",
       "    </tr>\n",
       "    <tr>\n",
       "      <th>1</th>\n",
       "      <td>1982-02-01</td>\n",
       "      <td>27.8</td>\n",
       "    </tr>\n",
       "    <tr>\n",
       "      <th>2</th>\n",
       "      <td>1982-03-01</td>\n",
       "      <td>160.8</td>\n",
       "    </tr>\n",
       "    <tr>\n",
       "      <th>3</th>\n",
       "      <td>1982-04-01</td>\n",
       "      <td>157.0</td>\n",
       "    </tr>\n",
       "    <tr>\n",
       "      <th>4</th>\n",
       "      <td>1982-05-01</td>\n",
       "      <td>102.2</td>\n",
       "    </tr>\n",
       "  </tbody>\n",
       "</table>\n",
       "</div>"
      ],
      "text/plain": [
       "        date  total_rainfall\n",
       "0 1982-01-01           107.1\n",
       "1 1982-02-01            27.8\n",
       "2 1982-03-01           160.8\n",
       "3 1982-04-01           157.0\n",
       "4 1982-05-01           102.2"
      ]
     },
     "execution_count": 96,
     "metadata": {},
     "output_type": "execute_result"
    }
   ],
   "source": [
    "# Cleaning the 'rainfall' DataFrame\n",
    "# Converting the 'month' column from string to Datetime\n",
    "rainfall['month'] = pd.to_datetime(rainfall['month'])\n",
    "\n",
    "# Renaming the 'month' column to 'date'\n",
    "rainfall.rename(columns = {'month': 'date'}, inplace = True)\n",
    "print(rainfall.info())\n",
    "rainfall.head()"
   ]
  },
  {
   "cell_type": "code",
   "execution_count": 97,
   "metadata": {},
   "outputs": [
    {
     "name": "stdout",
     "output_type": "stream",
     "text": [
      "<class 'pandas.core.frame.DataFrame'>\n",
      "RangeIndex: 497 entries, 0 to 496\n",
      "Data columns (total 2 columns):\n",
      " #   Column            Non-Null Count  Dtype         \n",
      "---  ------            --------------  -----         \n",
      " 0   date              497 non-null    datetime64[ns]\n",
      " 1   no_of_rainy_days  497 non-null    int64         \n",
      "dtypes: datetime64[ns](1), int64(1)\n",
      "memory usage: 7.9 KB\n",
      "None\n"
     ]
    },
    {
     "data": {
      "text/html": [
       "<div>\n",
       "<style scoped>\n",
       "    .dataframe tbody tr th:only-of-type {\n",
       "        vertical-align: middle;\n",
       "    }\n",
       "\n",
       "    .dataframe tbody tr th {\n",
       "        vertical-align: top;\n",
       "    }\n",
       "\n",
       "    .dataframe thead th {\n",
       "        text-align: right;\n",
       "    }\n",
       "</style>\n",
       "<table border=\"1\" class=\"dataframe\">\n",
       "  <thead>\n",
       "    <tr style=\"text-align: right;\">\n",
       "      <th></th>\n",
       "      <th>date</th>\n",
       "      <th>no_of_rainy_days</th>\n",
       "    </tr>\n",
       "  </thead>\n",
       "  <tbody>\n",
       "    <tr>\n",
       "      <th>0</th>\n",
       "      <td>1982-01-01</td>\n",
       "      <td>10</td>\n",
       "    </tr>\n",
       "    <tr>\n",
       "      <th>1</th>\n",
       "      <td>1982-02-01</td>\n",
       "      <td>5</td>\n",
       "    </tr>\n",
       "    <tr>\n",
       "      <th>2</th>\n",
       "      <td>1982-03-01</td>\n",
       "      <td>11</td>\n",
       "    </tr>\n",
       "    <tr>\n",
       "      <th>3</th>\n",
       "      <td>1982-04-01</td>\n",
       "      <td>14</td>\n",
       "    </tr>\n",
       "    <tr>\n",
       "      <th>4</th>\n",
       "      <td>1982-05-01</td>\n",
       "      <td>10</td>\n",
       "    </tr>\n",
       "  </tbody>\n",
       "</table>\n",
       "</div>"
      ],
      "text/plain": [
       "        date  no_of_rainy_days\n",
       "0 1982-01-01                10\n",
       "1 1982-02-01                 5\n",
       "2 1982-03-01                11\n",
       "3 1982-04-01                14\n",
       "4 1982-05-01                10"
      ]
     },
     "execution_count": 97,
     "metadata": {},
     "output_type": "execute_result"
    }
   ],
   "source": [
    "# Cleaning the 'rain_days' DataFrame\n",
    "# Converting the 'month' column from string to Datetime\n",
    "rain_days['month'] = pd.to_datetime(rain_days['month'])\n",
    "\n",
    "# Renaming the 'month' column to 'date'\n",
    "rain_days.rename(columns = {'month': 'date'}, inplace = True)\n",
    "print(rain_days.info())\n",
    "rain_days.head()"
   ]
  },
  {
   "cell_type": "code",
   "execution_count": 98,
   "metadata": {},
   "outputs": [
    {
     "name": "stdout",
     "output_type": "stream",
     "text": [
      "<class 'pandas.core.frame.DataFrame'>\n",
      "RangeIndex: 497 entries, 0 to 496\n",
      "Data columns (total 2 columns):\n",
      " #   Column     Non-Null Count  Dtype         \n",
      "---  ------     --------------  -----         \n",
      " 0   date       497 non-null    datetime64[ns]\n",
      " 1   mean_temp  497 non-null    float64       \n",
      "dtypes: datetime64[ns](1), float64(1)\n",
      "memory usage: 7.9 KB\n",
      "None\n"
     ]
    },
    {
     "data": {
      "text/html": [
       "<div>\n",
       "<style scoped>\n",
       "    .dataframe tbody tr th:only-of-type {\n",
       "        vertical-align: middle;\n",
       "    }\n",
       "\n",
       "    .dataframe tbody tr th {\n",
       "        vertical-align: top;\n",
       "    }\n",
       "\n",
       "    .dataframe thead th {\n",
       "        text-align: right;\n",
       "    }\n",
       "</style>\n",
       "<table border=\"1\" class=\"dataframe\">\n",
       "  <thead>\n",
       "    <tr style=\"text-align: right;\">\n",
       "      <th></th>\n",
       "      <th>date</th>\n",
       "      <th>mean_temp</th>\n",
       "    </tr>\n",
       "  </thead>\n",
       "  <tbody>\n",
       "    <tr>\n",
       "      <th>0</th>\n",
       "      <td>1982-01-01</td>\n",
       "      <td>25.9</td>\n",
       "    </tr>\n",
       "    <tr>\n",
       "      <th>1</th>\n",
       "      <td>1982-02-01</td>\n",
       "      <td>27.1</td>\n",
       "    </tr>\n",
       "    <tr>\n",
       "      <th>2</th>\n",
       "      <td>1982-03-01</td>\n",
       "      <td>27.2</td>\n",
       "    </tr>\n",
       "    <tr>\n",
       "      <th>3</th>\n",
       "      <td>1982-04-01</td>\n",
       "      <td>27.0</td>\n",
       "    </tr>\n",
       "    <tr>\n",
       "      <th>4</th>\n",
       "      <td>1982-05-01</td>\n",
       "      <td>28.0</td>\n",
       "    </tr>\n",
       "  </tbody>\n",
       "</table>\n",
       "</div>"
      ],
      "text/plain": [
       "        date  mean_temp\n",
       "0 1982-01-01       25.9\n",
       "1 1982-02-01       27.1\n",
       "2 1982-03-01       27.2\n",
       "3 1982-04-01       27.0\n",
       "4 1982-05-01       28.0"
      ]
     },
     "execution_count": 98,
     "metadata": {},
     "output_type": "execute_result"
    }
   ],
   "source": [
    "# Cleaning the 'av_temp' DataFrame\n",
    "# Converting the 'month' column from string to Datetime\n",
    "av_temp['month'] = pd.to_datetime(av_temp['month'])\n",
    "\n",
    "# Renaming the 'month' column to 'date'\n",
    "av_temp.rename(columns = {'month': 'date'}, inplace = True)\n",
    "print(av_temp.info())\n",
    "av_temp.head()"
   ]
  },
  {
   "cell_type": "code",
   "execution_count": 99,
   "metadata": {},
   "outputs": [
    {
     "name": "stdout",
     "output_type": "stream",
     "text": [
      "<class 'pandas.core.frame.DataFrame'>\n",
      "RangeIndex: 497 entries, 0 to 496\n",
      "Data columns (total 2 columns):\n",
      " #   Column             Non-Null Count  Dtype         \n",
      "---  ------             --------------  -----         \n",
      " 0   date               497 non-null    datetime64[ns]\n",
      " 1   mean_sunshine_hrs  497 non-null    float64       \n",
      "dtypes: datetime64[ns](1), float64(1)\n",
      "memory usage: 7.9 KB\n",
      "None\n"
     ]
    },
    {
     "data": {
      "text/html": [
       "<div>\n",
       "<style scoped>\n",
       "    .dataframe tbody tr th:only-of-type {\n",
       "        vertical-align: middle;\n",
       "    }\n",
       "\n",
       "    .dataframe tbody tr th {\n",
       "        vertical-align: top;\n",
       "    }\n",
       "\n",
       "    .dataframe thead th {\n",
       "        text-align: right;\n",
       "    }\n",
       "</style>\n",
       "<table border=\"1\" class=\"dataframe\">\n",
       "  <thead>\n",
       "    <tr style=\"text-align: right;\">\n",
       "      <th></th>\n",
       "      <th>date</th>\n",
       "      <th>mean_sunshine_hrs</th>\n",
       "    </tr>\n",
       "  </thead>\n",
       "  <tbody>\n",
       "    <tr>\n",
       "      <th>0</th>\n",
       "      <td>1982-01-01</td>\n",
       "      <td>5.6</td>\n",
       "    </tr>\n",
       "    <tr>\n",
       "      <th>1</th>\n",
       "      <td>1982-02-01</td>\n",
       "      <td>7.6</td>\n",
       "    </tr>\n",
       "    <tr>\n",
       "      <th>2</th>\n",
       "      <td>1982-03-01</td>\n",
       "      <td>5.1</td>\n",
       "    </tr>\n",
       "    <tr>\n",
       "      <th>3</th>\n",
       "      <td>1982-04-01</td>\n",
       "      <td>4.7</td>\n",
       "    </tr>\n",
       "    <tr>\n",
       "      <th>4</th>\n",
       "      <td>1982-05-01</td>\n",
       "      <td>5.8</td>\n",
       "    </tr>\n",
       "  </tbody>\n",
       "</table>\n",
       "</div>"
      ],
      "text/plain": [
       "        date  mean_sunshine_hrs\n",
       "0 1982-01-01                5.6\n",
       "1 1982-02-01                7.6\n",
       "2 1982-03-01                5.1\n",
       "3 1982-04-01                4.7\n",
       "4 1982-05-01                5.8"
      ]
     },
     "execution_count": 99,
     "metadata": {},
     "output_type": "execute_result"
    }
   ],
   "source": [
    "# Cleaning the 'sun_hours' DataFrame\n",
    "# Converting the 'month' column from string to Datetime\n",
    "sun_hours['month'] = pd.to_datetime(sun_hours['month'])\n",
    "\n",
    "# Renaming the 'month' column to 'date'\n",
    "sun_hours.rename(columns = {'month': 'date'}, inplace = True)\n",
    "print(sun_hours.info())\n",
    "sun_hours.head()"
   ]
  },
  {
   "cell_type": "code",
   "execution_count": 100,
   "metadata": {},
   "outputs": [
    {
     "name": "stdout",
     "output_type": "stream",
     "text": [
      "<class 'pandas.core.frame.DataFrame'>\n",
      "RangeIndex: 497 entries, 0 to 496\n",
      "Data columns (total 2 columns):\n",
      " #   Column                  Non-Null Count  Dtype         \n",
      "---  ------                  --------------  -----         \n",
      " 0   date                    497 non-null    datetime64[ns]\n",
      " 1   mean_relative_humidity  497 non-null    float64       \n",
      "dtypes: datetime64[ns](1), float64(1)\n",
      "memory usage: 7.9 KB\n",
      "None\n"
     ]
    },
    {
     "data": {
      "text/html": [
       "<div>\n",
       "<style scoped>\n",
       "    .dataframe tbody tr th:only-of-type {\n",
       "        vertical-align: middle;\n",
       "    }\n",
       "\n",
       "    .dataframe tbody tr th {\n",
       "        vertical-align: top;\n",
       "    }\n",
       "\n",
       "    .dataframe thead th {\n",
       "        text-align: right;\n",
       "    }\n",
       "</style>\n",
       "<table border=\"1\" class=\"dataframe\">\n",
       "  <thead>\n",
       "    <tr style=\"text-align: right;\">\n",
       "      <th></th>\n",
       "      <th>date</th>\n",
       "      <th>mean_relative_humidity</th>\n",
       "    </tr>\n",
       "  </thead>\n",
       "  <tbody>\n",
       "    <tr>\n",
       "      <th>0</th>\n",
       "      <td>1982-01-01</td>\n",
       "      <td>81.2</td>\n",
       "    </tr>\n",
       "    <tr>\n",
       "      <th>1</th>\n",
       "      <td>1982-02-01</td>\n",
       "      <td>79.5</td>\n",
       "    </tr>\n",
       "    <tr>\n",
       "      <th>2</th>\n",
       "      <td>1982-03-01</td>\n",
       "      <td>82.3</td>\n",
       "    </tr>\n",
       "    <tr>\n",
       "      <th>3</th>\n",
       "      <td>1982-04-01</td>\n",
       "      <td>85.9</td>\n",
       "    </tr>\n",
       "    <tr>\n",
       "      <th>4</th>\n",
       "      <td>1982-05-01</td>\n",
       "      <td>83.2</td>\n",
       "    </tr>\n",
       "  </tbody>\n",
       "</table>\n",
       "</div>"
      ],
      "text/plain": [
       "        date  mean_relative_humidity\n",
       "0 1982-01-01                    81.2\n",
       "1 1982-02-01                    79.5\n",
       "2 1982-03-01                    82.3\n",
       "3 1982-04-01                    85.9\n",
       "4 1982-05-01                    83.2"
      ]
     },
     "execution_count": 100,
     "metadata": {},
     "output_type": "execute_result"
    }
   ],
   "source": [
    "# Cleaning the 'humidity' DataFrame\n",
    "# Converting the 'month' column from string to Datetime\n",
    "humidity['month'] = pd.to_datetime(humidity['month'])\n",
    "\n",
    "# Renaming the 'month' column to 'date', and 'mean_rh' to 'mean_relative_humidity'\n",
    "humidity.rename(columns = {'month': 'date', 'mean_rh': 'mean_relative_humidity'}, inplace = True)\n",
    "print(humidity.info())\n",
    "humidity.head()"
   ]
  },
  {
   "cell_type": "markdown",
   "metadata": {},
   "source": [
    "##### 3. Merging the DataFrames"
   ]
  },
  {
   "cell_type": "code",
   "execution_count": 101,
   "metadata": {},
   "outputs": [
    {
     "name": "stdout",
     "output_type": "stream",
     "text": [
      "<class 'pandas.core.frame.DataFrame'>\n",
      "Int64Index: 210 entries, 0 to 209\n",
      "Data columns (total 3 columns):\n",
      " #   Column          Non-Null Count  Dtype         \n",
      "---  ------          --------------  -----         \n",
      " 0   date            210 non-null    datetime64[ns]\n",
      " 1   kwh_per_acc     210 non-null    float64       \n",
      " 2   total_rainfall  210 non-null    float64       \n",
      "dtypes: datetime64[ns](1), float64(2)\n",
      "memory usage: 6.6 KB\n"
     ]
    },
    {
     "data": {
      "text/html": [
       "<div>\n",
       "<style scoped>\n",
       "    .dataframe tbody tr th:only-of-type {\n",
       "        vertical-align: middle;\n",
       "    }\n",
       "\n",
       "    .dataframe tbody tr th {\n",
       "        vertical-align: top;\n",
       "    }\n",
       "\n",
       "    .dataframe thead th {\n",
       "        text-align: right;\n",
       "    }\n",
       "</style>\n",
       "<table border=\"1\" class=\"dataframe\">\n",
       "  <thead>\n",
       "    <tr style=\"text-align: right;\">\n",
       "      <th></th>\n",
       "      <th>date</th>\n",
       "      <th>kwh_per_acc</th>\n",
       "      <th>total_rainfall</th>\n",
       "    </tr>\n",
       "  </thead>\n",
       "  <tbody>\n",
       "    <tr>\n",
       "      <th>0</th>\n",
       "      <td>2018-01-01</td>\n",
       "      <td>398.0</td>\n",
       "      <td>287.0</td>\n",
       "    </tr>\n",
       "    <tr>\n",
       "      <th>1</th>\n",
       "      <td>2018-10-01</td>\n",
       "      <td>441.4</td>\n",
       "      <td>234.4</td>\n",
       "    </tr>\n",
       "    <tr>\n",
       "      <th>2</th>\n",
       "      <td>2018-11-01</td>\n",
       "      <td>422.0</td>\n",
       "      <td>169.6</td>\n",
       "    </tr>\n",
       "    <tr>\n",
       "      <th>3</th>\n",
       "      <td>2018-12-01</td>\n",
       "      <td>382.0</td>\n",
       "      <td>172.6</td>\n",
       "    </tr>\n",
       "    <tr>\n",
       "      <th>4</th>\n",
       "      <td>2018-02-01</td>\n",
       "      <td>371.0</td>\n",
       "      <td>14.8</td>\n",
       "    </tr>\n",
       "    <tr>\n",
       "      <th>...</th>\n",
       "      <td>...</td>\n",
       "      <td>...</td>\n",
       "      <td>...</td>\n",
       "    </tr>\n",
       "    <tr>\n",
       "      <th>205</th>\n",
       "      <td>2017-05-01</td>\n",
       "      <td>453.6</td>\n",
       "      <td>190.0</td>\n",
       "    </tr>\n",
       "    <tr>\n",
       "      <th>206</th>\n",
       "      <td>2017-06-01</td>\n",
       "      <td>501.7</td>\n",
       "      <td>106.0</td>\n",
       "    </tr>\n",
       "    <tr>\n",
       "      <th>207</th>\n",
       "      <td>2017-07-01</td>\n",
       "      <td>507.5</td>\n",
       "      <td>79.6</td>\n",
       "    </tr>\n",
       "    <tr>\n",
       "      <th>208</th>\n",
       "      <td>2017-08-01</td>\n",
       "      <td>453.7</td>\n",
       "      <td>84.2</td>\n",
       "    </tr>\n",
       "    <tr>\n",
       "      <th>209</th>\n",
       "      <td>2017-09-01</td>\n",
       "      <td>442.8</td>\n",
       "      <td>124.4</td>\n",
       "    </tr>\n",
       "  </tbody>\n",
       "</table>\n",
       "<p>210 rows × 3 columns</p>\n",
       "</div>"
      ],
      "text/plain": [
       "          date  kwh_per_acc  total_rainfall\n",
       "0   2018-01-01        398.0           287.0\n",
       "1   2018-10-01        441.4           234.4\n",
       "2   2018-11-01        422.0           169.6\n",
       "3   2018-12-01        382.0           172.6\n",
       "4   2018-02-01        371.0            14.8\n",
       "..         ...          ...             ...\n",
       "205 2017-05-01        453.6           190.0\n",
       "206 2017-06-01        501.7           106.0\n",
       "207 2017-07-01        507.5            79.6\n",
       "208 2017-08-01        453.7            84.2\n",
       "209 2017-09-01        442.8           124.4\n",
       "\n",
       "[210 rows x 3 columns]"
      ]
     },
     "execution_count": 101,
     "metadata": {},
     "output_type": "execute_result"
    }
   ],
   "source": [
    "# Merging the 'energy' and 'rainfall' tables into a new one called 'elec'\n",
    "elec = pd.merge(energy, rainfall, how='left')\n",
    "elec.info()\n",
    "elec"
   ]
  },
  {
   "cell_type": "markdown",
   "metadata": {},
   "source": [
    "I've created the 'elec' DataFrame by merging the 'energy' and 'rainfall' DataFrames. I've used the left merge as the 'energy' DataFrame is over a shorter period of time compared to the 'rainfall' DataFrame. This prevents creating null values. Another way to do this is to do an inner merge. \n",
    "\n",
    "Let us confirm that there are no null values."
   ]
  },
  {
   "cell_type": "code",
   "execution_count": 102,
   "metadata": {},
   "outputs": [
    {
     "data": {
      "text/plain": [
       "date              0\n",
       "kwh_per_acc       0\n",
       "total_rainfall    0\n",
       "dtype: int64"
      ]
     },
     "execution_count": 102,
     "metadata": {},
     "output_type": "execute_result"
    }
   ],
   "source": [
    "elec.isnull().sum()"
   ]
  },
  {
   "cell_type": "markdown",
   "metadata": {},
   "source": [
    "Now I will merge the remaining weather datasets."
   ]
  },
  {
   "cell_type": "code",
   "execution_count": 103,
   "metadata": {},
   "outputs": [
    {
     "data": {
      "text/html": [
       "<div>\n",
       "<style scoped>\n",
       "    .dataframe tbody tr th:only-of-type {\n",
       "        vertical-align: middle;\n",
       "    }\n",
       "\n",
       "    .dataframe tbody tr th {\n",
       "        vertical-align: top;\n",
       "    }\n",
       "\n",
       "    .dataframe thead th {\n",
       "        text-align: right;\n",
       "    }\n",
       "</style>\n",
       "<table border=\"1\" class=\"dataframe\">\n",
       "  <thead>\n",
       "    <tr style=\"text-align: right;\">\n",
       "      <th></th>\n",
       "      <th>date</th>\n",
       "      <th>kwh_per_acc</th>\n",
       "      <th>total_rainfall</th>\n",
       "      <th>no_of_rainy_days</th>\n",
       "    </tr>\n",
       "  </thead>\n",
       "  <tbody>\n",
       "    <tr>\n",
       "      <th>0</th>\n",
       "      <td>2018-01-01</td>\n",
       "      <td>398.0</td>\n",
       "      <td>287.0</td>\n",
       "      <td>25</td>\n",
       "    </tr>\n",
       "    <tr>\n",
       "      <th>1</th>\n",
       "      <td>2018-10-01</td>\n",
       "      <td>441.4</td>\n",
       "      <td>234.4</td>\n",
       "      <td>18</td>\n",
       "    </tr>\n",
       "    <tr>\n",
       "      <th>2</th>\n",
       "      <td>2018-11-01</td>\n",
       "      <td>422.0</td>\n",
       "      <td>169.6</td>\n",
       "      <td>27</td>\n",
       "    </tr>\n",
       "    <tr>\n",
       "      <th>3</th>\n",
       "      <td>2018-12-01</td>\n",
       "      <td>382.0</td>\n",
       "      <td>172.6</td>\n",
       "      <td>19</td>\n",
       "    </tr>\n",
       "    <tr>\n",
       "      <th>4</th>\n",
       "      <td>2018-02-01</td>\n",
       "      <td>371.0</td>\n",
       "      <td>14.8</td>\n",
       "      <td>5</td>\n",
       "    </tr>\n",
       "  </tbody>\n",
       "</table>\n",
       "</div>"
      ],
      "text/plain": [
       "        date  kwh_per_acc  total_rainfall  no_of_rainy_days\n",
       "0 2018-01-01        398.0           287.0                25\n",
       "1 2018-10-01        441.4           234.4                18\n",
       "2 2018-11-01        422.0           169.6                27\n",
       "3 2018-12-01        382.0           172.6                19\n",
       "4 2018-02-01        371.0            14.8                 5"
      ]
     },
     "execution_count": 103,
     "metadata": {},
     "output_type": "execute_result"
    }
   ],
   "source": [
    "# Merging the 'rain_days' table into 'elec'\n",
    "elec = pd.merge(elec, rain_days, how='left')\n",
    "elec.head()"
   ]
  },
  {
   "cell_type": "code",
   "execution_count": 104,
   "metadata": {},
   "outputs": [
    {
     "data": {
      "text/html": [
       "<div>\n",
       "<style scoped>\n",
       "    .dataframe tbody tr th:only-of-type {\n",
       "        vertical-align: middle;\n",
       "    }\n",
       "\n",
       "    .dataframe tbody tr th {\n",
       "        vertical-align: top;\n",
       "    }\n",
       "\n",
       "    .dataframe thead th {\n",
       "        text-align: right;\n",
       "    }\n",
       "</style>\n",
       "<table border=\"1\" class=\"dataframe\">\n",
       "  <thead>\n",
       "    <tr style=\"text-align: right;\">\n",
       "      <th></th>\n",
       "      <th>date</th>\n",
       "      <th>kwh_per_acc</th>\n",
       "      <th>total_rainfall</th>\n",
       "      <th>no_of_rainy_days</th>\n",
       "      <th>mean_temp</th>\n",
       "    </tr>\n",
       "  </thead>\n",
       "  <tbody>\n",
       "    <tr>\n",
       "      <th>0</th>\n",
       "      <td>2018-01-01</td>\n",
       "      <td>398.0</td>\n",
       "      <td>287.0</td>\n",
       "      <td>25</td>\n",
       "      <td>26.1</td>\n",
       "    </tr>\n",
       "    <tr>\n",
       "      <th>1</th>\n",
       "      <td>2018-10-01</td>\n",
       "      <td>441.4</td>\n",
       "      <td>234.4</td>\n",
       "      <td>18</td>\n",
       "      <td>27.9</td>\n",
       "    </tr>\n",
       "    <tr>\n",
       "      <th>2</th>\n",
       "      <td>2018-11-01</td>\n",
       "      <td>422.0</td>\n",
       "      <td>169.6</td>\n",
       "      <td>27</td>\n",
       "      <td>27.3</td>\n",
       "    </tr>\n",
       "    <tr>\n",
       "      <th>3</th>\n",
       "      <td>2018-12-01</td>\n",
       "      <td>382.0</td>\n",
       "      <td>172.6</td>\n",
       "      <td>19</td>\n",
       "      <td>27.6</td>\n",
       "    </tr>\n",
       "    <tr>\n",
       "      <th>4</th>\n",
       "      <td>2018-02-01</td>\n",
       "      <td>371.0</td>\n",
       "      <td>14.8</td>\n",
       "      <td>5</td>\n",
       "      <td>27.2</td>\n",
       "    </tr>\n",
       "  </tbody>\n",
       "</table>\n",
       "</div>"
      ],
      "text/plain": [
       "        date  kwh_per_acc  total_rainfall  no_of_rainy_days  mean_temp\n",
       "0 2018-01-01        398.0           287.0                25       26.1\n",
       "1 2018-10-01        441.4           234.4                18       27.9\n",
       "2 2018-11-01        422.0           169.6                27       27.3\n",
       "3 2018-12-01        382.0           172.6                19       27.6\n",
       "4 2018-02-01        371.0            14.8                 5       27.2"
      ]
     },
     "execution_count": 104,
     "metadata": {},
     "output_type": "execute_result"
    }
   ],
   "source": [
    "# Merging the 'av_temp' table into 'elec'\n",
    "elec = pd.merge(elec, av_temp, how='left')\n",
    "elec.head()"
   ]
  },
  {
   "cell_type": "code",
   "execution_count": 105,
   "metadata": {},
   "outputs": [
    {
     "data": {
      "text/html": [
       "<div>\n",
       "<style scoped>\n",
       "    .dataframe tbody tr th:only-of-type {\n",
       "        vertical-align: middle;\n",
       "    }\n",
       "\n",
       "    .dataframe tbody tr th {\n",
       "        vertical-align: top;\n",
       "    }\n",
       "\n",
       "    .dataframe thead th {\n",
       "        text-align: right;\n",
       "    }\n",
       "</style>\n",
       "<table border=\"1\" class=\"dataframe\">\n",
       "  <thead>\n",
       "    <tr style=\"text-align: right;\">\n",
       "      <th></th>\n",
       "      <th>date</th>\n",
       "      <th>kwh_per_acc</th>\n",
       "      <th>total_rainfall</th>\n",
       "      <th>no_of_rainy_days</th>\n",
       "      <th>mean_temp</th>\n",
       "      <th>mean_sunshine_hrs</th>\n",
       "    </tr>\n",
       "  </thead>\n",
       "  <tbody>\n",
       "    <tr>\n",
       "      <th>0</th>\n",
       "      <td>2018-01-01</td>\n",
       "      <td>398.0</td>\n",
       "      <td>287.0</td>\n",
       "      <td>25</td>\n",
       "      <td>26.1</td>\n",
       "      <td>4.1</td>\n",
       "    </tr>\n",
       "    <tr>\n",
       "      <th>1</th>\n",
       "      <td>2018-10-01</td>\n",
       "      <td>441.4</td>\n",
       "      <td>234.4</td>\n",
       "      <td>18</td>\n",
       "      <td>27.9</td>\n",
       "      <td>6.1</td>\n",
       "    </tr>\n",
       "    <tr>\n",
       "      <th>2</th>\n",
       "      <td>2018-11-01</td>\n",
       "      <td>422.0</td>\n",
       "      <td>169.6</td>\n",
       "      <td>27</td>\n",
       "      <td>27.3</td>\n",
       "      <td>3.8</td>\n",
       "    </tr>\n",
       "    <tr>\n",
       "      <th>3</th>\n",
       "      <td>2018-12-01</td>\n",
       "      <td>382.0</td>\n",
       "      <td>172.6</td>\n",
       "      <td>19</td>\n",
       "      <td>27.6</td>\n",
       "      <td>5.1</td>\n",
       "    </tr>\n",
       "    <tr>\n",
       "      <th>4</th>\n",
       "      <td>2018-02-01</td>\n",
       "      <td>371.0</td>\n",
       "      <td>14.8</td>\n",
       "      <td>5</td>\n",
       "      <td>27.2</td>\n",
       "      <td>8.0</td>\n",
       "    </tr>\n",
       "  </tbody>\n",
       "</table>\n",
       "</div>"
      ],
      "text/plain": [
       "        date  kwh_per_acc  total_rainfall  no_of_rainy_days  mean_temp  \\\n",
       "0 2018-01-01        398.0           287.0                25       26.1   \n",
       "1 2018-10-01        441.4           234.4                18       27.9   \n",
       "2 2018-11-01        422.0           169.6                27       27.3   \n",
       "3 2018-12-01        382.0           172.6                19       27.6   \n",
       "4 2018-02-01        371.0            14.8                 5       27.2   \n",
       "\n",
       "   mean_sunshine_hrs  \n",
       "0                4.1  \n",
       "1                6.1  \n",
       "2                3.8  \n",
       "3                5.1  \n",
       "4                8.0  "
      ]
     },
     "execution_count": 105,
     "metadata": {},
     "output_type": "execute_result"
    }
   ],
   "source": [
    "# Merging the 'sun_hours' table into 'elec'\n",
    "elec = pd.merge(elec, sun_hours, how='left')\n",
    "elec.head()"
   ]
  },
  {
   "cell_type": "code",
   "execution_count": 106,
   "metadata": {},
   "outputs": [
    {
     "data": {
      "text/html": [
       "<div>\n",
       "<style scoped>\n",
       "    .dataframe tbody tr th:only-of-type {\n",
       "        vertical-align: middle;\n",
       "    }\n",
       "\n",
       "    .dataframe tbody tr th {\n",
       "        vertical-align: top;\n",
       "    }\n",
       "\n",
       "    .dataframe thead th {\n",
       "        text-align: right;\n",
       "    }\n",
       "</style>\n",
       "<table border=\"1\" class=\"dataframe\">\n",
       "  <thead>\n",
       "    <tr style=\"text-align: right;\">\n",
       "      <th></th>\n",
       "      <th>date</th>\n",
       "      <th>kwh_per_acc</th>\n",
       "      <th>total_rainfall</th>\n",
       "      <th>no_of_rainy_days</th>\n",
       "      <th>mean_temp</th>\n",
       "      <th>mean_sunshine_hrs</th>\n",
       "      <th>mean_relative_humidity</th>\n",
       "    </tr>\n",
       "  </thead>\n",
       "  <tbody>\n",
       "    <tr>\n",
       "      <th>0</th>\n",
       "      <td>2018-01-01</td>\n",
       "      <td>398.0</td>\n",
       "      <td>287.0</td>\n",
       "      <td>25</td>\n",
       "      <td>26.1</td>\n",
       "      <td>4.1</td>\n",
       "      <td>86.6</td>\n",
       "    </tr>\n",
       "    <tr>\n",
       "      <th>1</th>\n",
       "      <td>2018-10-01</td>\n",
       "      <td>441.4</td>\n",
       "      <td>234.4</td>\n",
       "      <td>18</td>\n",
       "      <td>27.9</td>\n",
       "      <td>6.1</td>\n",
       "      <td>79.7</td>\n",
       "    </tr>\n",
       "    <tr>\n",
       "      <th>2</th>\n",
       "      <td>2018-11-01</td>\n",
       "      <td>422.0</td>\n",
       "      <td>169.6</td>\n",
       "      <td>27</td>\n",
       "      <td>27.3</td>\n",
       "      <td>3.8</td>\n",
       "      <td>83.2</td>\n",
       "    </tr>\n",
       "    <tr>\n",
       "      <th>3</th>\n",
       "      <td>2018-12-01</td>\n",
       "      <td>382.0</td>\n",
       "      <td>172.6</td>\n",
       "      <td>19</td>\n",
       "      <td>27.6</td>\n",
       "      <td>5.1</td>\n",
       "      <td>81.5</td>\n",
       "    </tr>\n",
       "    <tr>\n",
       "      <th>4</th>\n",
       "      <td>2018-02-01</td>\n",
       "      <td>371.0</td>\n",
       "      <td>14.8</td>\n",
       "      <td>5</td>\n",
       "      <td>27.2</td>\n",
       "      <td>8.0</td>\n",
       "      <td>77.2</td>\n",
       "    </tr>\n",
       "  </tbody>\n",
       "</table>\n",
       "</div>"
      ],
      "text/plain": [
       "        date  kwh_per_acc  total_rainfall  no_of_rainy_days  mean_temp  \\\n",
       "0 2018-01-01        398.0           287.0                25       26.1   \n",
       "1 2018-10-01        441.4           234.4                18       27.9   \n",
       "2 2018-11-01        422.0           169.6                27       27.3   \n",
       "3 2018-12-01        382.0           172.6                19       27.6   \n",
       "4 2018-02-01        371.0            14.8                 5       27.2   \n",
       "\n",
       "   mean_sunshine_hrs  mean_relative_humidity  \n",
       "0                4.1                    86.6  \n",
       "1                6.1                    79.7  \n",
       "2                3.8                    83.2  \n",
       "3                5.1                    81.5  \n",
       "4                8.0                    77.2  "
      ]
     },
     "execution_count": 106,
     "metadata": {},
     "output_type": "execute_result"
    }
   ],
   "source": [
    "# Merging the 'humidity' table into 'elec'\n",
    "elec = pd.merge(elec, humidity, how='left')\n",
    "elec.head()"
   ]
  },
  {
   "cell_type": "code",
   "execution_count": 107,
   "metadata": {},
   "outputs": [
    {
     "data": {
      "text/html": [
       "<div>\n",
       "<style scoped>\n",
       "    .dataframe tbody tr th:only-of-type {\n",
       "        vertical-align: middle;\n",
       "    }\n",
       "\n",
       "    .dataframe tbody tr th {\n",
       "        vertical-align: top;\n",
       "    }\n",
       "\n",
       "    .dataframe thead th {\n",
       "        text-align: right;\n",
       "    }\n",
       "</style>\n",
       "<table border=\"1\" class=\"dataframe\">\n",
       "  <thead>\n",
       "    <tr style=\"text-align: right;\">\n",
       "      <th></th>\n",
       "      <th>date</th>\n",
       "      <th>kwh_per_acc</th>\n",
       "      <th>total_rainfall</th>\n",
       "      <th>no_of_rainy_days</th>\n",
       "      <th>mean_temp</th>\n",
       "      <th>mean_sunshine_hrs</th>\n",
       "      <th>mean_relative_humidity</th>\n",
       "    </tr>\n",
       "  </thead>\n",
       "  <tbody>\n",
       "    <tr>\n",
       "      <th>54</th>\n",
       "      <td>2005-01-01</td>\n",
       "      <td>418.1</td>\n",
       "      <td>163.2</td>\n",
       "      <td>8</td>\n",
       "      <td>26.6</td>\n",
       "      <td>6.5</td>\n",
       "      <td>83.3</td>\n",
       "    </tr>\n",
       "    <tr>\n",
       "      <th>58</th>\n",
       "      <td>2005-02-01</td>\n",
       "      <td>408.3</td>\n",
       "      <td>8.4</td>\n",
       "      <td>3</td>\n",
       "      <td>28.5</td>\n",
       "      <td>9.1</td>\n",
       "      <td>77.7</td>\n",
       "    </tr>\n",
       "    <tr>\n",
       "      <th>59</th>\n",
       "      <td>2005-03-01</td>\n",
       "      <td>446.9</td>\n",
       "      <td>82.4</td>\n",
       "      <td>12</td>\n",
       "      <td>28.5</td>\n",
       "      <td>7.2</td>\n",
       "      <td>80.3</td>\n",
       "    </tr>\n",
       "    <tr>\n",
       "      <th>60</th>\n",
       "      <td>2005-04-01</td>\n",
       "      <td>496.2</td>\n",
       "      <td>81.7</td>\n",
       "      <td>10</td>\n",
       "      <td>28.7</td>\n",
       "      <td>7.0</td>\n",
       "      <td>81.0</td>\n",
       "    </tr>\n",
       "    <tr>\n",
       "      <th>61</th>\n",
       "      <td>2005-05-01</td>\n",
       "      <td>496.8</td>\n",
       "      <td>331.1</td>\n",
       "      <td>20</td>\n",
       "      <td>28.5</td>\n",
       "      <td>5.5</td>\n",
       "      <td>84.6</td>\n",
       "    </tr>\n",
       "    <tr>\n",
       "      <th>...</th>\n",
       "      <td>...</td>\n",
       "      <td>...</td>\n",
       "      <td>...</td>\n",
       "      <td>...</td>\n",
       "      <td>...</td>\n",
       "      <td>...</td>\n",
       "      <td>...</td>\n",
       "    </tr>\n",
       "    <tr>\n",
       "      <th>49</th>\n",
       "      <td>2022-02-01</td>\n",
       "      <td>435.3</td>\n",
       "      <td>175.0</td>\n",
       "      <td>16</td>\n",
       "      <td>27.3</td>\n",
       "      <td>5.9</td>\n",
       "      <td>80.3</td>\n",
       "    </tr>\n",
       "    <tr>\n",
       "      <th>50</th>\n",
       "      <td>2022-03-01</td>\n",
       "      <td>413.1</td>\n",
       "      <td>163.2</td>\n",
       "      <td>21</td>\n",
       "      <td>28.1</td>\n",
       "      <td>6.4</td>\n",
       "      <td>79.2</td>\n",
       "    </tr>\n",
       "    <tr>\n",
       "      <th>51</th>\n",
       "      <td>2022-04-01</td>\n",
       "      <td>443.6</td>\n",
       "      <td>239.6</td>\n",
       "      <td>18</td>\n",
       "      <td>28.1</td>\n",
       "      <td>5.2</td>\n",
       "      <td>80.0</td>\n",
       "    </tr>\n",
       "    <tr>\n",
       "      <th>52</th>\n",
       "      <td>2022-05-01</td>\n",
       "      <td>468.9</td>\n",
       "      <td>102.0</td>\n",
       "      <td>12</td>\n",
       "      <td>29.2</td>\n",
       "      <td>6.7</td>\n",
       "      <td>76.5</td>\n",
       "    </tr>\n",
       "    <tr>\n",
       "      <th>53</th>\n",
       "      <td>2022-06-01</td>\n",
       "      <td>478.4</td>\n",
       "      <td>211.8</td>\n",
       "      <td>17</td>\n",
       "      <td>27.9</td>\n",
       "      <td>4.7</td>\n",
       "      <td>79.1</td>\n",
       "    </tr>\n",
       "  </tbody>\n",
       "</table>\n",
       "<p>210 rows × 7 columns</p>\n",
       "</div>"
      ],
      "text/plain": [
       "         date  kwh_per_acc  total_rainfall  no_of_rainy_days  mean_temp  \\\n",
       "54 2005-01-01        418.1           163.2                 8       26.6   \n",
       "58 2005-02-01        408.3             8.4                 3       28.5   \n",
       "59 2005-03-01        446.9            82.4                12       28.5   \n",
       "60 2005-04-01        496.2            81.7                10       28.7   \n",
       "61 2005-05-01        496.8           331.1                20       28.5   \n",
       "..        ...          ...             ...               ...        ...   \n",
       "49 2022-02-01        435.3           175.0                16       27.3   \n",
       "50 2022-03-01        413.1           163.2                21       28.1   \n",
       "51 2022-04-01        443.6           239.6                18       28.1   \n",
       "52 2022-05-01        468.9           102.0                12       29.2   \n",
       "53 2022-06-01        478.4           211.8                17       27.9   \n",
       "\n",
       "    mean_sunshine_hrs  mean_relative_humidity  \n",
       "54                6.5                    83.3  \n",
       "58                9.1                    77.7  \n",
       "59                7.2                    80.3  \n",
       "60                7.0                    81.0  \n",
       "61                5.5                    84.6  \n",
       "..                ...                     ...  \n",
       "49                5.9                    80.3  \n",
       "50                6.4                    79.2  \n",
       "51                5.2                    80.0  \n",
       "52                6.7                    76.5  \n",
       "53                4.7                    79.1  \n",
       "\n",
       "[210 rows x 7 columns]"
      ]
     },
     "execution_count": 107,
     "metadata": {},
     "output_type": "execute_result"
    }
   ],
   "source": [
    "# Sorting the table by 'date'\n",
    "elec.sort_values('date', inplace = True)\n",
    "elec"
   ]
  },
  {
   "cell_type": "markdown",
   "metadata": {},
   "source": [
    "### Data Dictionary"
   ]
  },
  {
   "cell_type": "markdown",
   "metadata": {},
   "source": [
    "\n",
    "|Feature|Type|Dataset|Description|\n",
    "|---|---|---|---|\n",
    "|kwh_per_acc|float|Singapore_Energy_Statistics_2022|Average Monthly Household Electricity Consumption| \n",
    "|total_rainfall|float|rainfall-monthly-total|Total rainfall in mm| \n",
    "|no_of_rainy_days|integer|rainfall-monthly-number-of-rain-days|Monthly number of rain days| \n",
    "|mean_temp|float|surface-air-temperature-monthly-mean|Monthly mean surface air temperature| \n",
    "|mean_sunshine_hrs|float|SunshineDurationMonthlyMeanDailyDuration|Monthly mean sunshine hours per day| \n",
    "|mean_relative_humidity|float|relative-humidity-monthly-mean|Monthly mean relative humidity| \n"
   ]
  },
  {
   "cell_type": "markdown",
   "metadata": {},
   "source": [
    "## Exploratory Data Analysis"
   ]
  },
  {
   "cell_type": "markdown",
   "metadata": {},
   "source": [
    "#### 1. Summary Statistics"
   ]
  },
  {
   "cell_type": "code",
   "execution_count": 108,
   "metadata": {},
   "outputs": [
    {
     "data": {
      "text/html": [
       "<div>\n",
       "<style scoped>\n",
       "    .dataframe tbody tr th:only-of-type {\n",
       "        vertical-align: middle;\n",
       "    }\n",
       "\n",
       "    .dataframe tbody tr th {\n",
       "        vertical-align: top;\n",
       "    }\n",
       "\n",
       "    .dataframe thead th {\n",
       "        text-align: right;\n",
       "    }\n",
       "</style>\n",
       "<table border=\"1\" class=\"dataframe\">\n",
       "  <thead>\n",
       "    <tr style=\"text-align: right;\">\n",
       "      <th></th>\n",
       "      <th>kwh_per_acc</th>\n",
       "      <th>total_rainfall</th>\n",
       "      <th>no_of_rainy_days</th>\n",
       "      <th>mean_temp</th>\n",
       "      <th>mean_sunshine_hrs</th>\n",
       "      <th>mean_relative_humidity</th>\n",
       "    </tr>\n",
       "  </thead>\n",
       "  <tbody>\n",
       "    <tr>\n",
       "      <th>count</th>\n",
       "      <td>210.000000</td>\n",
       "      <td>210.000000</td>\n",
       "      <td>210.000000</td>\n",
       "      <td>210.000000</td>\n",
       "      <td>210.000000</td>\n",
       "      <td>210.000000</td>\n",
       "    </tr>\n",
       "    <tr>\n",
       "      <th>mean</th>\n",
       "      <td>461.844762</td>\n",
       "      <td>175.684762</td>\n",
       "      <td>14.647619</td>\n",
       "      <td>27.890000</td>\n",
       "      <td>5.829524</td>\n",
       "      <td>80.962857</td>\n",
       "    </tr>\n",
       "    <tr>\n",
       "      <th>std</th>\n",
       "      <td>39.332416</td>\n",
       "      <td>112.038448</td>\n",
       "      <td>5.232363</td>\n",
       "      <td>0.728402</td>\n",
       "      <td>1.193317</td>\n",
       "      <td>3.826994</td>\n",
       "    </tr>\n",
       "    <tr>\n",
       "      <th>min</th>\n",
       "      <td>371.000000</td>\n",
       "      <td>0.200000</td>\n",
       "      <td>1.000000</td>\n",
       "      <td>26.000000</td>\n",
       "      <td>3.200000</td>\n",
       "      <td>72.000000</td>\n",
       "    </tr>\n",
       "    <tr>\n",
       "      <th>25%</th>\n",
       "      <td>432.350000</td>\n",
       "      <td>100.350000</td>\n",
       "      <td>11.000000</td>\n",
       "      <td>27.300000</td>\n",
       "      <td>5.000000</td>\n",
       "      <td>78.125000</td>\n",
       "    </tr>\n",
       "    <tr>\n",
       "      <th>50%</th>\n",
       "      <td>463.600000</td>\n",
       "      <td>159.450000</td>\n",
       "      <td>15.000000</td>\n",
       "      <td>27.950000</td>\n",
       "      <td>5.800000</td>\n",
       "      <td>81.100000</td>\n",
       "    </tr>\n",
       "    <tr>\n",
       "      <th>75%</th>\n",
       "      <td>491.650000</td>\n",
       "      <td>237.800000</td>\n",
       "      <td>19.000000</td>\n",
       "      <td>28.400000</td>\n",
       "      <td>6.600000</td>\n",
       "      <td>83.900000</td>\n",
       "    </tr>\n",
       "    <tr>\n",
       "      <th>max</th>\n",
       "      <td>600.500000</td>\n",
       "      <td>765.900000</td>\n",
       "      <td>27.000000</td>\n",
       "      <td>29.400000</td>\n",
       "      <td>9.200000</td>\n",
       "      <td>88.500000</td>\n",
       "    </tr>\n",
       "  </tbody>\n",
       "</table>\n",
       "</div>"
      ],
      "text/plain": [
       "       kwh_per_acc  total_rainfall  no_of_rainy_days   mean_temp  \\\n",
       "count   210.000000      210.000000        210.000000  210.000000   \n",
       "mean    461.844762      175.684762         14.647619   27.890000   \n",
       "std      39.332416      112.038448          5.232363    0.728402   \n",
       "min     371.000000        0.200000          1.000000   26.000000   \n",
       "25%     432.350000      100.350000         11.000000   27.300000   \n",
       "50%     463.600000      159.450000         15.000000   27.950000   \n",
       "75%     491.650000      237.800000         19.000000   28.400000   \n",
       "max     600.500000      765.900000         27.000000   29.400000   \n",
       "\n",
       "       mean_sunshine_hrs  mean_relative_humidity  \n",
       "count         210.000000              210.000000  \n",
       "mean            5.829524               80.962857  \n",
       "std             1.193317                3.826994  \n",
       "min             3.200000               72.000000  \n",
       "25%             5.000000               78.125000  \n",
       "50%             5.800000               81.100000  \n",
       "75%             6.600000               83.900000  \n",
       "max             9.200000               88.500000  "
      ]
     },
     "execution_count": 108,
     "metadata": {},
     "output_type": "execute_result"
    }
   ],
   "source": [
    "# Summary statistics of the 'elec' DataFrame\n",
    "elec.describe()"
   ]
  },
  {
   "cell_type": "markdown",
   "metadata": {},
   "source": [
    "Based on the summary statistics:\n",
    "\n",
    "1. The maximum value of total_rainfall is very high. Judging by the 3 sigma rule, the upper bound will be approximately 511.8, which is far below the maximum value. We might see a number of outliers in that column.\n",
    "2. Similarly, the maximum value of kwh_per_acc looks high. Judging by the 3 sigma rule, the upper bound will be approximately 579.84, which is below the max value. We might see a small number of outliers in that column.\n",
    "3. The other columns do not seem to have many outliers, if at all. "
   ]
  },
  {
   "cell_type": "markdown",
   "metadata": {},
   "source": [
    "#### 2. Dictionary Comprehension"
   ]
  },
  {
   "cell_type": "markdown",
   "metadata": {},
   "source": [
    "Use a dictionary comprehension to apply the standard deviation function you create in part 1 to each numeric column in the dataframe."
   ]
  },
  {
   "cell_type": "code",
   "execution_count": 109,
   "metadata": {},
   "outputs": [
    {
     "data": {
      "text/plain": [
       "{'kwh_per_acc': 39.238655578523286,\n",
       " 'total_rainfall': 111.77137147805858,\n",
       " 'no_of_rainy_days': 5.219890442895107,\n",
       " 'mean_temp': 0.7266655744858549,\n",
       " 'mean_sunshine_hrs': 1.1904719999926245,\n",
       " 'mean_relative_humidity': 3.8178716869071283}"
      ]
     },
     "execution_count": 109,
     "metadata": {},
     "output_type": "execute_result"
    }
   ],
   "source": [
    "sd = {column: stdev(elec[column]) for column in elec.columns if column != 'date'}\n",
    "sd"
   ]
  },
  {
   "cell_type": "markdown",
   "metadata": {},
   "source": [
    "#### 3. Investigate trends in the data."
   ]
  },
  {
   "cell_type": "markdown",
   "metadata": {},
   "source": [
    "##### a. Which month have the highest and lowest total rainfall in 1990, 2000, 2010 and 2020?"
   ]
  },
  {
   "cell_type": "code",
   "execution_count": 110,
   "metadata": {},
   "outputs": [
    {
     "data": {
      "text/html": [
       "<div>\n",
       "<style scoped>\n",
       "    .dataframe tbody tr th:only-of-type {\n",
       "        vertical-align: middle;\n",
       "    }\n",
       "\n",
       "    .dataframe tbody tr th {\n",
       "        vertical-align: top;\n",
       "    }\n",
       "\n",
       "    .dataframe thead th {\n",
       "        text-align: right;\n",
       "    }\n",
       "</style>\n",
       "<table border=\"1\" class=\"dataframe\">\n",
       "  <thead>\n",
       "    <tr style=\"text-align: right;\">\n",
       "      <th></th>\n",
       "      <th>date</th>\n",
       "      <th>total_rainfall</th>\n",
       "    </tr>\n",
       "  </thead>\n",
       "  <tbody>\n",
       "    <tr>\n",
       "      <th>104</th>\n",
       "      <td>1990-09-01</td>\n",
       "      <td>204.5</td>\n",
       "    </tr>\n",
       "  </tbody>\n",
       "</table>\n",
       "</div>"
      ],
      "text/plain": [
       "          date  total_rainfall\n",
       "104 1990-09-01           204.5"
      ]
     },
     "execution_count": 110,
     "metadata": {},
     "output_type": "execute_result"
    }
   ],
   "source": [
    "# First I find the value of the max rainfall in 1990\n",
    "max_rainfall_1990 = rainfall[rainfall['date'].dt.year == 1990]['total_rainfall'].max()\n",
    "\n",
    "# Then I use this as a filter to get the right row with the date and max rainfall value\n",
    "rainfall[(rainfall['date'].dt.year == 1990) & (rainfall['total_rainfall'] == max_rainfall_1990)]"
   ]
  },
  {
   "cell_type": "markdown",
   "metadata": {},
   "source": [
    "September 1990 is the month with the highest total rainfall in 1990, with total rainfall of 204.5mm.\n",
    "\n",
    "To repeat the process for 2000, 2010 and 2020, I will create a function."
   ]
  },
  {
   "cell_type": "code",
   "execution_count": 111,
   "metadata": {},
   "outputs": [],
   "source": [
    "# Creating a function for max rainfall\n",
    "def max_rainfall(year):\n",
    "    max_rainfall_year = rainfall[rainfall['date'].dt.year == year]['total_rainfall'].max()\n",
    "    return rainfall[(rainfall['date'].dt.year == year) & (rainfall['total_rainfall'] == max_rainfall_year)]"
   ]
  },
  {
   "cell_type": "code",
   "execution_count": 112,
   "metadata": {},
   "outputs": [
    {
     "name": "stdout",
     "output_type": "stream",
     "text": [
      "          date  total_rainfall\n",
      "104 1990-09-01           204.5\n",
      "          date  total_rainfall\n",
      "226 2000-11-01           385.7\n",
      "          date  total_rainfall\n",
      "342 2010-07-01           298.5\n",
      "          date  total_rainfall\n",
      "460 2020-05-01           255.6\n"
     ]
    }
   ],
   "source": [
    "# Highest rainfall\n",
    "print(max_rainfall(1990))\n",
    "print(max_rainfall(2000))\n",
    "print(max_rainfall(2010))\n",
    "print(max_rainfall(2020))"
   ]
  },
  {
   "cell_type": "markdown",
   "metadata": {},
   "source": [
    "The months with the highest total rainfall in 1990, 2000, 2010 and 2020 are as follows:<br>\n",
    "September 1990: 204.5mm<br>\n",
    "November 2000: 385.7mm<br>\n",
    "July 2010: 298.5mm<br>\n",
    "May 2020: 255.6mm\n",
    "\n",
    "Let's repeat the function, but for the lowest rainfall."
   ]
  },
  {
   "cell_type": "code",
   "execution_count": 113,
   "metadata": {},
   "outputs": [],
   "source": [
    "# Creating a function for min rainfall\n",
    "def min_rainfall(year):\n",
    "    min_rainfall_year = rainfall[rainfall['date'].dt.year == year]['total_rainfall'].min()\n",
    "    return rainfall[(rainfall['date'].dt.year == year) & (rainfall['total_rainfall'] == min_rainfall_year)]"
   ]
  },
  {
   "cell_type": "code",
   "execution_count": 114,
   "metadata": {},
   "outputs": [
    {
     "name": "stdout",
     "output_type": "stream",
     "text": [
      "         date  total_rainfall\n",
      "97 1990-02-01            24.1\n",
      "          date  total_rainfall\n",
      "224 2000-09-01            81.1\n",
      "          date  total_rainfall\n",
      "337 2010-02-01             6.3\n",
      "          date  total_rainfall\n",
      "457 2020-02-01            65.0\n"
     ]
    }
   ],
   "source": [
    "# Lowest rainfall\n",
    "print(min_rainfall(1990))\n",
    "print(min_rainfall(2000))\n",
    "print(min_rainfall(2010))\n",
    "print(min_rainfall(2020))"
   ]
  },
  {
   "cell_type": "markdown",
   "metadata": {},
   "source": [
    "The months with the lowest total rainfall in 1990, 2000, 2010 and 2020 are as follows:<br>\n",
    "February 1990: 24.1mm<br>\n",
    "September 2000: 81.1mm<br>\n",
    "February 2010: 6.3mm<br>\n",
    "February 2020: 65.0mm"
   ]
  },
  {
   "cell_type": "markdown",
   "metadata": {},
   "source": [
    "##### b. Which year have the highest and lowest total rainfall in the date range of analysis?"
   ]
  },
  {
   "cell_type": "code",
   "execution_count": 115,
   "metadata": {},
   "outputs": [
    {
     "name": "stderr",
     "output_type": "stream",
     "text": [
      "/var/folders/w4/0rkrlv1d2cg4g7rbby5yb_tr0000gn/T/ipykernel_81423/3307891052.py:2: FutureWarning:\n",
      "\n",
      "The default value of numeric_only in DataFrameGroupBy.sum is deprecated. In a future version, numeric_only will default to False. Either specify numeric_only or select only columns which should be valid for the function.\n",
      "\n"
     ]
    },
    {
     "data": {
      "text/html": [
       "<div>\n",
       "<style scoped>\n",
       "    .dataframe tbody tr th:only-of-type {\n",
       "        vertical-align: middle;\n",
       "    }\n",
       "\n",
       "    .dataframe tbody tr th {\n",
       "        vertical-align: top;\n",
       "    }\n",
       "\n",
       "    .dataframe thead th {\n",
       "        text-align: right;\n",
       "    }\n",
       "</style>\n",
       "<table border=\"1\" class=\"dataframe\">\n",
       "  <thead>\n",
       "    <tr style=\"text-align: right;\">\n",
       "      <th></th>\n",
       "      <th>total_rainfall</th>\n",
       "    </tr>\n",
       "    <tr>\n",
       "      <th>date</th>\n",
       "      <th></th>\n",
       "    </tr>\n",
       "  </thead>\n",
       "  <tbody>\n",
       "    <tr>\n",
       "      <th>1982</th>\n",
       "      <td>1581.7</td>\n",
       "    </tr>\n",
       "    <tr>\n",
       "      <th>1983</th>\n",
       "      <td>1993.7</td>\n",
       "    </tr>\n",
       "    <tr>\n",
       "      <th>1984</th>\n",
       "      <td>2686.7</td>\n",
       "    </tr>\n",
       "    <tr>\n",
       "      <th>1985</th>\n",
       "      <td>1483.9</td>\n",
       "    </tr>\n",
       "    <tr>\n",
       "      <th>1986</th>\n",
       "      <td>2536.1</td>\n",
       "    </tr>\n",
       "  </tbody>\n",
       "</table>\n",
       "</div>"
      ],
      "text/plain": [
       "      total_rainfall\n",
       "date                \n",
       "1982          1581.7\n",
       "1983          1993.7\n",
       "1984          2686.7\n",
       "1985          1483.9\n",
       "1986          2536.1"
      ]
     },
     "execution_count": 115,
     "metadata": {},
     "output_type": "execute_result"
    }
   ],
   "source": [
    "# First I find the sum of rainfall grouped by year\n",
    "yearly_rainfall = rainfall.groupby(rainfall['date'].dt.year).sum()\n",
    "yearly_rainfall.head()"
   ]
  },
  {
   "cell_type": "code",
   "execution_count": 116,
   "metadata": {},
   "outputs": [
    {
     "data": {
      "text/html": [
       "<div>\n",
       "<style scoped>\n",
       "    .dataframe tbody tr th:only-of-type {\n",
       "        vertical-align: middle;\n",
       "    }\n",
       "\n",
       "    .dataframe tbody tr th {\n",
       "        vertical-align: top;\n",
       "    }\n",
       "\n",
       "    .dataframe thead th {\n",
       "        text-align: right;\n",
       "    }\n",
       "</style>\n",
       "<table border=\"1\" class=\"dataframe\">\n",
       "  <thead>\n",
       "    <tr style=\"text-align: right;\">\n",
       "      <th></th>\n",
       "      <th>total_rainfall</th>\n",
       "    </tr>\n",
       "    <tr>\n",
       "      <th>date</th>\n",
       "      <th></th>\n",
       "    </tr>\n",
       "  </thead>\n",
       "  <tbody>\n",
       "    <tr>\n",
       "      <th>2007</th>\n",
       "      <td>2886.2</td>\n",
       "    </tr>\n",
       "  </tbody>\n",
       "</table>\n",
       "</div>"
      ],
      "text/plain": [
       "      total_rainfall\n",
       "date                \n",
       "2007          2886.2"
      ]
     },
     "execution_count": 116,
     "metadata": {},
     "output_type": "execute_result"
    }
   ],
   "source": [
    "# Then I find the max value of this table\n",
    "max_yearly_rainfall = yearly_rainfall['total_rainfall'].max()\n",
    "\n",
    "# Finally, I filter the table according to the max value\n",
    "yearly_rainfall[yearly_rainfall['total_rainfall'] == max_yearly_rainfall]"
   ]
  },
  {
   "cell_type": "code",
   "execution_count": 117,
   "metadata": {
    "scrolled": true
   },
   "outputs": [
    {
     "data": {
      "text/html": [
       "<div>\n",
       "<style scoped>\n",
       "    .dataframe tbody tr th:only-of-type {\n",
       "        vertical-align: middle;\n",
       "    }\n",
       "\n",
       "    .dataframe tbody tr th {\n",
       "        vertical-align: top;\n",
       "    }\n",
       "\n",
       "    .dataframe thead th {\n",
       "        text-align: right;\n",
       "    }\n",
       "</style>\n",
       "<table border=\"1\" class=\"dataframe\">\n",
       "  <thead>\n",
       "    <tr style=\"text-align: right;\">\n",
       "      <th></th>\n",
       "      <th>total_rainfall</th>\n",
       "    </tr>\n",
       "    <tr>\n",
       "      <th>date</th>\n",
       "      <th></th>\n",
       "    </tr>\n",
       "  </thead>\n",
       "  <tbody>\n",
       "    <tr>\n",
       "      <th>2007</th>\n",
       "      <td>2886.2</td>\n",
       "    </tr>\n",
       "    <tr>\n",
       "      <th>2021</th>\n",
       "      <td>2809.6</td>\n",
       "    </tr>\n",
       "    <tr>\n",
       "      <th>2001</th>\n",
       "      <td>2783.1</td>\n",
       "    </tr>\n",
       "    <tr>\n",
       "      <th>2006</th>\n",
       "      <td>2753.2</td>\n",
       "    </tr>\n",
       "    <tr>\n",
       "      <th>2013</th>\n",
       "      <td>2748.4</td>\n",
       "    </tr>\n",
       "    <tr>\n",
       "      <th>1984</th>\n",
       "      <td>2686.7</td>\n",
       "    </tr>\n",
       "    <tr>\n",
       "      <th>1998</th>\n",
       "      <td>2623.1</td>\n",
       "    </tr>\n",
       "    <tr>\n",
       "      <th>1988</th>\n",
       "      <td>2598.6</td>\n",
       "    </tr>\n",
       "    <tr>\n",
       "      <th>1986</th>\n",
       "      <td>2536.1</td>\n",
       "    </tr>\n",
       "    <tr>\n",
       "      <th>2011</th>\n",
       "      <td>2524.2</td>\n",
       "    </tr>\n",
       "    <tr>\n",
       "      <th>1989</th>\n",
       "      <td>2463.2</td>\n",
       "    </tr>\n",
       "    <tr>\n",
       "      <th>1996</th>\n",
       "      <td>2418.0</td>\n",
       "    </tr>\n",
       "    <tr>\n",
       "      <th>2003</th>\n",
       "      <td>2391.2</td>\n",
       "    </tr>\n",
       "    <tr>\n",
       "      <th>2000</th>\n",
       "      <td>2370.5</td>\n",
       "    </tr>\n",
       "    <tr>\n",
       "      <th>1995</th>\n",
       "      <td>2332.6</td>\n",
       "    </tr>\n",
       "    <tr>\n",
       "      <th>2008</th>\n",
       "      <td>2325.1</td>\n",
       "    </tr>\n",
       "    <tr>\n",
       "      <th>1992</th>\n",
       "      <td>2260.8</td>\n",
       "    </tr>\n",
       "    <tr>\n",
       "      <th>2022</th>\n",
       "      <td>2207.2</td>\n",
       "    </tr>\n",
       "    <tr>\n",
       "      <th>1993</th>\n",
       "      <td>2168.7</td>\n",
       "    </tr>\n",
       "    <tr>\n",
       "      <th>2012</th>\n",
       "      <td>2159.9</td>\n",
       "    </tr>\n",
       "    <tr>\n",
       "      <th>2004</th>\n",
       "      <td>2136.4</td>\n",
       "    </tr>\n",
       "    <tr>\n",
       "      <th>1999</th>\n",
       "      <td>2134.0</td>\n",
       "    </tr>\n",
       "    <tr>\n",
       "      <th>1987</th>\n",
       "      <td>2102.8</td>\n",
       "    </tr>\n",
       "    <tr>\n",
       "      <th>2010</th>\n",
       "      <td>2075.1</td>\n",
       "    </tr>\n",
       "    <tr>\n",
       "      <th>2017</th>\n",
       "      <td>2045.6</td>\n",
       "    </tr>\n",
       "    <tr>\n",
       "      <th>1983</th>\n",
       "      <td>1993.7</td>\n",
       "    </tr>\n",
       "    <tr>\n",
       "      <th>2016</th>\n",
       "      <td>1955.7</td>\n",
       "    </tr>\n",
       "    <tr>\n",
       "      <th>1994</th>\n",
       "      <td>1941.8</td>\n",
       "    </tr>\n",
       "    <tr>\n",
       "      <th>2005</th>\n",
       "      <td>1930.7</td>\n",
       "    </tr>\n",
       "    <tr>\n",
       "      <th>2009</th>\n",
       "      <td>1920.9</td>\n",
       "    </tr>\n",
       "    <tr>\n",
       "      <th>2020</th>\n",
       "      <td>1886.6</td>\n",
       "    </tr>\n",
       "    <tr>\n",
       "      <th>1991</th>\n",
       "      <td>1877.0</td>\n",
       "    </tr>\n",
       "    <tr>\n",
       "      <th>2002</th>\n",
       "      <td>1748.9</td>\n",
       "    </tr>\n",
       "    <tr>\n",
       "      <th>2018</th>\n",
       "      <td>1708.2</td>\n",
       "    </tr>\n",
       "    <tr>\n",
       "      <th>1982</th>\n",
       "      <td>1581.7</td>\n",
       "    </tr>\n",
       "    <tr>\n",
       "      <th>2014</th>\n",
       "      <td>1538.4</td>\n",
       "    </tr>\n",
       "    <tr>\n",
       "      <th>1990</th>\n",
       "      <td>1523.8</td>\n",
       "    </tr>\n",
       "    <tr>\n",
       "      <th>1985</th>\n",
       "      <td>1483.9</td>\n",
       "    </tr>\n",
       "    <tr>\n",
       "      <th>2019</th>\n",
       "      <td>1367.5</td>\n",
       "    </tr>\n",
       "    <tr>\n",
       "      <th>2015</th>\n",
       "      <td>1267.1</td>\n",
       "    </tr>\n",
       "    <tr>\n",
       "      <th>2023</th>\n",
       "      <td>1206.0</td>\n",
       "    </tr>\n",
       "    <tr>\n",
       "      <th>1997</th>\n",
       "      <td>1118.9</td>\n",
       "    </tr>\n",
       "  </tbody>\n",
       "</table>\n",
       "</div>"
      ],
      "text/plain": [
       "      total_rainfall\n",
       "date                \n",
       "2007          2886.2\n",
       "2021          2809.6\n",
       "2001          2783.1\n",
       "2006          2753.2\n",
       "2013          2748.4\n",
       "1984          2686.7\n",
       "1998          2623.1\n",
       "1988          2598.6\n",
       "1986          2536.1\n",
       "2011          2524.2\n",
       "1989          2463.2\n",
       "1996          2418.0\n",
       "2003          2391.2\n",
       "2000          2370.5\n",
       "1995          2332.6\n",
       "2008          2325.1\n",
       "1992          2260.8\n",
       "2022          2207.2\n",
       "1993          2168.7\n",
       "2012          2159.9\n",
       "2004          2136.4\n",
       "1999          2134.0\n",
       "1987          2102.8\n",
       "2010          2075.1\n",
       "2017          2045.6\n",
       "1983          1993.7\n",
       "2016          1955.7\n",
       "1994          1941.8\n",
       "2005          1930.7\n",
       "2009          1920.9\n",
       "2020          1886.6\n",
       "1991          1877.0\n",
       "2002          1748.9\n",
       "2018          1708.2\n",
       "1982          1581.7\n",
       "2014          1538.4\n",
       "1990          1523.8\n",
       "1985          1483.9\n",
       "2019          1367.5\n",
       "2015          1267.1\n",
       "2023          1206.0\n",
       "1997          1118.9"
      ]
     },
     "execution_count": 117,
     "metadata": {},
     "output_type": "execute_result"
    }
   ],
   "source": [
    "# Alternatively, I can do a descending sort on the 'yearly_rainfall' table by total_rainfall and pick the top number\n",
    "yearly_rainfall.sort_values('total_rainfall', ascending = False)"
   ]
  },
  {
   "cell_type": "markdown",
   "metadata": {},
   "source": [
    "2007 has the highest total rainfall in the date range of analysis.\n",
    "\n",
    "Let's repeat this to find the lowest rainfall in the date range of analysis."
   ]
  },
  {
   "cell_type": "code",
   "execution_count": 118,
   "metadata": {},
   "outputs": [
    {
     "data": {
      "text/html": [
       "<div>\n",
       "<style scoped>\n",
       "    .dataframe tbody tr th:only-of-type {\n",
       "        vertical-align: middle;\n",
       "    }\n",
       "\n",
       "    .dataframe tbody tr th {\n",
       "        vertical-align: top;\n",
       "    }\n",
       "\n",
       "    .dataframe thead th {\n",
       "        text-align: right;\n",
       "    }\n",
       "</style>\n",
       "<table border=\"1\" class=\"dataframe\">\n",
       "  <thead>\n",
       "    <tr style=\"text-align: right;\">\n",
       "      <th></th>\n",
       "      <th>total_rainfall</th>\n",
       "    </tr>\n",
       "    <tr>\n",
       "      <th>date</th>\n",
       "      <th></th>\n",
       "    </tr>\n",
       "  </thead>\n",
       "  <tbody>\n",
       "    <tr>\n",
       "      <th>1997</th>\n",
       "      <td>1118.9</td>\n",
       "    </tr>\n",
       "  </tbody>\n",
       "</table>\n",
       "</div>"
      ],
      "text/plain": [
       "      total_rainfall\n",
       "date                \n",
       "1997          1118.9"
      ]
     },
     "execution_count": 118,
     "metadata": {},
     "output_type": "execute_result"
    }
   ],
   "source": [
    "min_yearly_rainfall = yearly_rainfall['total_rainfall'].min()\n",
    "yearly_rainfall[yearly_rainfall['total_rainfall'] == min_yearly_rainfall]"
   ]
  },
  {
   "cell_type": "code",
   "execution_count": 119,
   "metadata": {
    "scrolled": true
   },
   "outputs": [
    {
     "data": {
      "text/html": [
       "<div>\n",
       "<style scoped>\n",
       "    .dataframe tbody tr th:only-of-type {\n",
       "        vertical-align: middle;\n",
       "    }\n",
       "\n",
       "    .dataframe tbody tr th {\n",
       "        vertical-align: top;\n",
       "    }\n",
       "\n",
       "    .dataframe thead th {\n",
       "        text-align: right;\n",
       "    }\n",
       "</style>\n",
       "<table border=\"1\" class=\"dataframe\">\n",
       "  <thead>\n",
       "    <tr style=\"text-align: right;\">\n",
       "      <th></th>\n",
       "      <th>total_rainfall</th>\n",
       "    </tr>\n",
       "    <tr>\n",
       "      <th>date</th>\n",
       "      <th></th>\n",
       "    </tr>\n",
       "  </thead>\n",
       "  <tbody>\n",
       "    <tr>\n",
       "      <th>1997</th>\n",
       "      <td>1118.9</td>\n",
       "    </tr>\n",
       "    <tr>\n",
       "      <th>2023</th>\n",
       "      <td>1206.0</td>\n",
       "    </tr>\n",
       "    <tr>\n",
       "      <th>2015</th>\n",
       "      <td>1267.1</td>\n",
       "    </tr>\n",
       "    <tr>\n",
       "      <th>2019</th>\n",
       "      <td>1367.5</td>\n",
       "    </tr>\n",
       "    <tr>\n",
       "      <th>1985</th>\n",
       "      <td>1483.9</td>\n",
       "    </tr>\n",
       "    <tr>\n",
       "      <th>1990</th>\n",
       "      <td>1523.8</td>\n",
       "    </tr>\n",
       "    <tr>\n",
       "      <th>2014</th>\n",
       "      <td>1538.4</td>\n",
       "    </tr>\n",
       "    <tr>\n",
       "      <th>1982</th>\n",
       "      <td>1581.7</td>\n",
       "    </tr>\n",
       "    <tr>\n",
       "      <th>2018</th>\n",
       "      <td>1708.2</td>\n",
       "    </tr>\n",
       "    <tr>\n",
       "      <th>2002</th>\n",
       "      <td>1748.9</td>\n",
       "    </tr>\n",
       "    <tr>\n",
       "      <th>1991</th>\n",
       "      <td>1877.0</td>\n",
       "    </tr>\n",
       "    <tr>\n",
       "      <th>2020</th>\n",
       "      <td>1886.6</td>\n",
       "    </tr>\n",
       "    <tr>\n",
       "      <th>2009</th>\n",
       "      <td>1920.9</td>\n",
       "    </tr>\n",
       "    <tr>\n",
       "      <th>2005</th>\n",
       "      <td>1930.7</td>\n",
       "    </tr>\n",
       "    <tr>\n",
       "      <th>1994</th>\n",
       "      <td>1941.8</td>\n",
       "    </tr>\n",
       "    <tr>\n",
       "      <th>2016</th>\n",
       "      <td>1955.7</td>\n",
       "    </tr>\n",
       "    <tr>\n",
       "      <th>1983</th>\n",
       "      <td>1993.7</td>\n",
       "    </tr>\n",
       "    <tr>\n",
       "      <th>2017</th>\n",
       "      <td>2045.6</td>\n",
       "    </tr>\n",
       "    <tr>\n",
       "      <th>2010</th>\n",
       "      <td>2075.1</td>\n",
       "    </tr>\n",
       "    <tr>\n",
       "      <th>1987</th>\n",
       "      <td>2102.8</td>\n",
       "    </tr>\n",
       "    <tr>\n",
       "      <th>1999</th>\n",
       "      <td>2134.0</td>\n",
       "    </tr>\n",
       "    <tr>\n",
       "      <th>2004</th>\n",
       "      <td>2136.4</td>\n",
       "    </tr>\n",
       "    <tr>\n",
       "      <th>2012</th>\n",
       "      <td>2159.9</td>\n",
       "    </tr>\n",
       "    <tr>\n",
       "      <th>1993</th>\n",
       "      <td>2168.7</td>\n",
       "    </tr>\n",
       "    <tr>\n",
       "      <th>2022</th>\n",
       "      <td>2207.2</td>\n",
       "    </tr>\n",
       "    <tr>\n",
       "      <th>1992</th>\n",
       "      <td>2260.8</td>\n",
       "    </tr>\n",
       "    <tr>\n",
       "      <th>2008</th>\n",
       "      <td>2325.1</td>\n",
       "    </tr>\n",
       "    <tr>\n",
       "      <th>1995</th>\n",
       "      <td>2332.6</td>\n",
       "    </tr>\n",
       "    <tr>\n",
       "      <th>2000</th>\n",
       "      <td>2370.5</td>\n",
       "    </tr>\n",
       "    <tr>\n",
       "      <th>2003</th>\n",
       "      <td>2391.2</td>\n",
       "    </tr>\n",
       "    <tr>\n",
       "      <th>1996</th>\n",
       "      <td>2418.0</td>\n",
       "    </tr>\n",
       "    <tr>\n",
       "      <th>1989</th>\n",
       "      <td>2463.2</td>\n",
       "    </tr>\n",
       "    <tr>\n",
       "      <th>2011</th>\n",
       "      <td>2524.2</td>\n",
       "    </tr>\n",
       "    <tr>\n",
       "      <th>1986</th>\n",
       "      <td>2536.1</td>\n",
       "    </tr>\n",
       "    <tr>\n",
       "      <th>1988</th>\n",
       "      <td>2598.6</td>\n",
       "    </tr>\n",
       "    <tr>\n",
       "      <th>1998</th>\n",
       "      <td>2623.1</td>\n",
       "    </tr>\n",
       "    <tr>\n",
       "      <th>1984</th>\n",
       "      <td>2686.7</td>\n",
       "    </tr>\n",
       "    <tr>\n",
       "      <th>2013</th>\n",
       "      <td>2748.4</td>\n",
       "    </tr>\n",
       "    <tr>\n",
       "      <th>2006</th>\n",
       "      <td>2753.2</td>\n",
       "    </tr>\n",
       "    <tr>\n",
       "      <th>2001</th>\n",
       "      <td>2783.1</td>\n",
       "    </tr>\n",
       "    <tr>\n",
       "      <th>2021</th>\n",
       "      <td>2809.6</td>\n",
       "    </tr>\n",
       "    <tr>\n",
       "      <th>2007</th>\n",
       "      <td>2886.2</td>\n",
       "    </tr>\n",
       "  </tbody>\n",
       "</table>\n",
       "</div>"
      ],
      "text/plain": [
       "      total_rainfall\n",
       "date                \n",
       "1997          1118.9\n",
       "2023          1206.0\n",
       "2015          1267.1\n",
       "2019          1367.5\n",
       "1985          1483.9\n",
       "1990          1523.8\n",
       "2014          1538.4\n",
       "1982          1581.7\n",
       "2018          1708.2\n",
       "2002          1748.9\n",
       "1991          1877.0\n",
       "2020          1886.6\n",
       "2009          1920.9\n",
       "2005          1930.7\n",
       "1994          1941.8\n",
       "2016          1955.7\n",
       "1983          1993.7\n",
       "2017          2045.6\n",
       "2010          2075.1\n",
       "1987          2102.8\n",
       "1999          2134.0\n",
       "2004          2136.4\n",
       "2012          2159.9\n",
       "1993          2168.7\n",
       "2022          2207.2\n",
       "1992          2260.8\n",
       "2008          2325.1\n",
       "1995          2332.6\n",
       "2000          2370.5\n",
       "2003          2391.2\n",
       "1996          2418.0\n",
       "1989          2463.2\n",
       "2011          2524.2\n",
       "1986          2536.1\n",
       "1988          2598.6\n",
       "1998          2623.1\n",
       "1984          2686.7\n",
       "2013          2748.4\n",
       "2006          2753.2\n",
       "2001          2783.1\n",
       "2021          2809.6\n",
       "2007          2886.2"
      ]
     },
     "execution_count": 119,
     "metadata": {},
     "output_type": "execute_result"
    }
   ],
   "source": [
    "# Alternatively, I can do an ascending sort on the 'yearly_rainfall' table by total_rainfall and pick the top number\n",
    "yearly_rainfall.sort_values('total_rainfall', ascending = True)"
   ]
  },
  {
   "cell_type": "markdown",
   "metadata": {},
   "source": [
    "1997 has the lowest total rainfall in the date range of analysis."
   ]
  },
  {
   "cell_type": "markdown",
   "metadata": {},
   "source": [
    "##### c. Which month have the highest and lowest number of rainy days in 1990, 2000, 2010 and 2020?"
   ]
  },
  {
   "cell_type": "markdown",
   "metadata": {},
   "source": [
    "I'll start by finding the month with the highest number of rainy days in 1990."
   ]
  },
  {
   "cell_type": "code",
   "execution_count": 120,
   "metadata": {},
   "outputs": [
    {
     "data": {
      "text/html": [
       "<div>\n",
       "<style scoped>\n",
       "    .dataframe tbody tr th:only-of-type {\n",
       "        vertical-align: middle;\n",
       "    }\n",
       "\n",
       "    .dataframe tbody tr th {\n",
       "        vertical-align: top;\n",
       "    }\n",
       "\n",
       "    .dataframe thead th {\n",
       "        text-align: right;\n",
       "    }\n",
       "</style>\n",
       "<table border=\"1\" class=\"dataframe\">\n",
       "  <thead>\n",
       "    <tr style=\"text-align: right;\">\n",
       "      <th></th>\n",
       "      <th>date</th>\n",
       "      <th>no_of_rainy_days</th>\n",
       "    </tr>\n",
       "  </thead>\n",
       "  <tbody>\n",
       "    <tr>\n",
       "      <th>104</th>\n",
       "      <td>1990-09-01</td>\n",
       "      <td>17</td>\n",
       "    </tr>\n",
       "    <tr>\n",
       "      <th>106</th>\n",
       "      <td>1990-11-01</td>\n",
       "      <td>17</td>\n",
       "    </tr>\n",
       "  </tbody>\n",
       "</table>\n",
       "</div>"
      ],
      "text/plain": [
       "          date  no_of_rainy_days\n",
       "104 1990-09-01                17\n",
       "106 1990-11-01                17"
      ]
     },
     "execution_count": 120,
     "metadata": {},
     "output_type": "execute_result"
    }
   ],
   "source": [
    "# First I find the value of the max rainy days in 1990\n",
    "max_rain_days_1990 = rain_days[rain_days['date'].dt.year == 1990]['no_of_rainy_days'].max()\n",
    "\n",
    "# Then I use this as a filter to get the right row with the date and max rain day value\n",
    "rain_days[(rain_days['date'].dt.year == 1990) & (rain_days['no_of_rainy_days'] == max_rain_days_1990)]"
   ]
  },
  {
   "cell_type": "code",
   "execution_count": 121,
   "metadata": {},
   "outputs": [],
   "source": [
    "# Creating a function for max rainy days\n",
    "def max_rain_days(year):\n",
    "    max_rain_days_year = rain_days[rain_days['date'].dt.year == year]['no_of_rainy_days'].max()\n",
    "    return rain_days[(rain_days['date'].dt.year == year) & (rain_days['no_of_rainy_days'] == max_rain_days_year)]"
   ]
  },
  {
   "cell_type": "code",
   "execution_count": 122,
   "metadata": {},
   "outputs": [
    {
     "name": "stdout",
     "output_type": "stream",
     "text": [
      "          date  no_of_rainy_days\n",
      "104 1990-09-01                17\n",
      "106 1990-11-01                17\n",
      "          date  no_of_rainy_days\n",
      "226 2000-11-01                21\n",
      "          date  no_of_rainy_days\n",
      "346 2010-11-01                21\n",
      "          date  no_of_rainy_days\n",
      "462 2020-07-01                22\n"
     ]
    }
   ],
   "source": [
    "# Highest rainy days\n",
    "print(max_rain_days(1990))\n",
    "print(max_rain_days(2000))\n",
    "print(max_rain_days(2010))\n",
    "print(max_rain_days(2020))"
   ]
  },
  {
   "cell_type": "markdown",
   "metadata": {},
   "source": [
    "The highest total number of rainy days in 1990, 2000, 2010 and 2020 are as follows:<br>\n",
    "September 1990 and November 1990: 17 days<br>\n",
    "November 2000: 21 days<br>\n",
    "November 2010: 21 days<br>\n",
    "July 2020: 22 days\n",
    "\n",
    "Let's repeat the function, but for the months with the lowest number of rainy days."
   ]
  },
  {
   "cell_type": "code",
   "execution_count": 123,
   "metadata": {},
   "outputs": [],
   "source": [
    "# Creating a function for min rainy days\n",
    "def min_rain_days(year):\n",
    "    min_rain_days_year = rain_days[rain_days['date'].dt.year == year]['no_of_rainy_days'].min()\n",
    "    return rain_days[(rain_days['date'].dt.year == year) & (rain_days['no_of_rainy_days'] == min_rain_days_year)]"
   ]
  },
  {
   "cell_type": "code",
   "execution_count": 124,
   "metadata": {},
   "outputs": [
    {
     "name": "stdout",
     "output_type": "stream",
     "text": [
      "         date  no_of_rainy_days\n",
      "98 1990-03-01                 4\n",
      "          date  no_of_rainy_days\n",
      "220 2000-05-01                10\n",
      "          date  no_of_rainy_days\n",
      "337 2010-02-01                 4\n",
      "          date  no_of_rainy_days\n",
      "456 2020-01-01                 6\n"
     ]
    }
   ],
   "source": [
    "# Lowest rainy days\n",
    "print(min_rain_days(1990))\n",
    "print(min_rain_days(2000))\n",
    "print(min_rain_days(2010))\n",
    "print(min_rain_days(2020))"
   ]
  },
  {
   "cell_type": "markdown",
   "metadata": {},
   "source": [
    "The lowest total number of rainy days in 1990, 2000, 2010 and 2020 are as follows:<br>\n",
    "March 1990: 4 days<br>\n",
    "May 2000: 10 days<br>\n",
    "February 2010: 4 days<br>\n",
    "January 2020: 6 days"
   ]
  },
  {
   "cell_type": "markdown",
   "metadata": {},
   "source": [
    "##### d. Which year have the highest and lowest number of rainy days in the date range of analysis?"
   ]
  },
  {
   "cell_type": "code",
   "execution_count": 125,
   "metadata": {},
   "outputs": [
    {
     "name": "stderr",
     "output_type": "stream",
     "text": [
      "/var/folders/w4/0rkrlv1d2cg4g7rbby5yb_tr0000gn/T/ipykernel_81423/3495434096.py:2: FutureWarning:\n",
      "\n",
      "The default value of numeric_only in DataFrameGroupBy.sum is deprecated. In a future version, numeric_only will default to False. Either specify numeric_only or select only columns which should be valid for the function.\n",
      "\n"
     ]
    },
    {
     "data": {
      "text/html": [
       "<div>\n",
       "<style scoped>\n",
       "    .dataframe tbody tr th:only-of-type {\n",
       "        vertical-align: middle;\n",
       "    }\n",
       "\n",
       "    .dataframe tbody tr th {\n",
       "        vertical-align: top;\n",
       "    }\n",
       "\n",
       "    .dataframe thead th {\n",
       "        text-align: right;\n",
       "    }\n",
       "</style>\n",
       "<table border=\"1\" class=\"dataframe\">\n",
       "  <thead>\n",
       "    <tr style=\"text-align: right;\">\n",
       "      <th></th>\n",
       "      <th>no_of_rainy_days</th>\n",
       "    </tr>\n",
       "    <tr>\n",
       "      <th>date</th>\n",
       "      <th></th>\n",
       "    </tr>\n",
       "  </thead>\n",
       "  <tbody>\n",
       "    <tr>\n",
       "      <th>1982</th>\n",
       "      <td>130</td>\n",
       "    </tr>\n",
       "    <tr>\n",
       "      <th>1983</th>\n",
       "      <td>145</td>\n",
       "    </tr>\n",
       "    <tr>\n",
       "      <th>1984</th>\n",
       "      <td>191</td>\n",
       "    </tr>\n",
       "    <tr>\n",
       "      <th>1985</th>\n",
       "      <td>181</td>\n",
       "    </tr>\n",
       "    <tr>\n",
       "      <th>1986</th>\n",
       "      <td>174</td>\n",
       "    </tr>\n",
       "  </tbody>\n",
       "</table>\n",
       "</div>"
      ],
      "text/plain": [
       "      no_of_rainy_days\n",
       "date                  \n",
       "1982               130\n",
       "1983               145\n",
       "1984               191\n",
       "1985               181\n",
       "1986               174"
      ]
     },
     "execution_count": 125,
     "metadata": {},
     "output_type": "execute_result"
    }
   ],
   "source": [
    "# First I find the sum of rainy days grouped by year\n",
    "yearly_rain_days = rain_days.groupby(rain_days['date'].dt.year).sum()\n",
    "yearly_rain_days.head()"
   ]
  },
  {
   "cell_type": "code",
   "execution_count": 126,
   "metadata": {},
   "outputs": [
    {
     "data": {
      "text/html": [
       "<div>\n",
       "<style scoped>\n",
       "    .dataframe tbody tr th:only-of-type {\n",
       "        vertical-align: middle;\n",
       "    }\n",
       "\n",
       "    .dataframe tbody tr th {\n",
       "        vertical-align: top;\n",
       "    }\n",
       "\n",
       "    .dataframe thead th {\n",
       "        text-align: right;\n",
       "    }\n",
       "</style>\n",
       "<table border=\"1\" class=\"dataframe\">\n",
       "  <thead>\n",
       "    <tr style=\"text-align: right;\">\n",
       "      <th></th>\n",
       "      <th>no_of_rainy_days</th>\n",
       "    </tr>\n",
       "    <tr>\n",
       "      <th>date</th>\n",
       "      <th></th>\n",
       "    </tr>\n",
       "  </thead>\n",
       "  <tbody>\n",
       "    <tr>\n",
       "      <th>2022</th>\n",
       "      <td>210</td>\n",
       "    </tr>\n",
       "  </tbody>\n",
       "</table>\n",
       "</div>"
      ],
      "text/plain": [
       "      no_of_rainy_days\n",
       "date                  \n",
       "2022               210"
      ]
     },
     "execution_count": 126,
     "metadata": {},
     "output_type": "execute_result"
    }
   ],
   "source": [
    "# Then I find the max value of this table\n",
    "max_yearly_rain_days = yearly_rain_days['no_of_rainy_days'].max()\n",
    "\n",
    "# Finally, I filter the table according to the max value\n",
    "yearly_rain_days[yearly_rain_days['no_of_rainy_days'] == max_yearly_rain_days]"
   ]
  },
  {
   "cell_type": "code",
   "execution_count": 127,
   "metadata": {
    "scrolled": true
   },
   "outputs": [
    {
     "data": {
      "text/html": [
       "<div>\n",
       "<style scoped>\n",
       "    .dataframe tbody tr th:only-of-type {\n",
       "        vertical-align: middle;\n",
       "    }\n",
       "\n",
       "    .dataframe tbody tr th {\n",
       "        vertical-align: top;\n",
       "    }\n",
       "\n",
       "    .dataframe thead th {\n",
       "        text-align: right;\n",
       "    }\n",
       "</style>\n",
       "<table border=\"1\" class=\"dataframe\">\n",
       "  <thead>\n",
       "    <tr style=\"text-align: right;\">\n",
       "      <th></th>\n",
       "      <th>no_of_rainy_days</th>\n",
       "    </tr>\n",
       "    <tr>\n",
       "      <th>date</th>\n",
       "      <th></th>\n",
       "    </tr>\n",
       "  </thead>\n",
       "  <tbody>\n",
       "    <tr>\n",
       "      <th>2022</th>\n",
       "      <td>210</td>\n",
       "    </tr>\n",
       "    <tr>\n",
       "      <th>2013</th>\n",
       "      <td>206</td>\n",
       "    </tr>\n",
       "    <tr>\n",
       "      <th>2017</th>\n",
       "      <td>204</td>\n",
       "    </tr>\n",
       "    <tr>\n",
       "      <th>2007</th>\n",
       "      <td>195</td>\n",
       "    </tr>\n",
       "    <tr>\n",
       "      <th>1984</th>\n",
       "      <td>191</td>\n",
       "    </tr>\n",
       "    <tr>\n",
       "      <th>2012</th>\n",
       "      <td>191</td>\n",
       "    </tr>\n",
       "    <tr>\n",
       "      <th>2000</th>\n",
       "      <td>188</td>\n",
       "    </tr>\n",
       "    <tr>\n",
       "      <th>2011</th>\n",
       "      <td>188</td>\n",
       "    </tr>\n",
       "    <tr>\n",
       "      <th>2018</th>\n",
       "      <td>188</td>\n",
       "    </tr>\n",
       "    <tr>\n",
       "      <th>2003</th>\n",
       "      <td>186</td>\n",
       "    </tr>\n",
       "    <tr>\n",
       "      <th>2001</th>\n",
       "      <td>184</td>\n",
       "    </tr>\n",
       "    <tr>\n",
       "      <th>2008</th>\n",
       "      <td>182</td>\n",
       "    </tr>\n",
       "    <tr>\n",
       "      <th>2021</th>\n",
       "      <td>182</td>\n",
       "    </tr>\n",
       "    <tr>\n",
       "      <th>1985</th>\n",
       "      <td>181</td>\n",
       "    </tr>\n",
       "    <tr>\n",
       "      <th>2016</th>\n",
       "      <td>179</td>\n",
       "    </tr>\n",
       "    <tr>\n",
       "      <th>1995</th>\n",
       "      <td>179</td>\n",
       "    </tr>\n",
       "    <tr>\n",
       "      <th>2010</th>\n",
       "      <td>178</td>\n",
       "    </tr>\n",
       "    <tr>\n",
       "      <th>2020</th>\n",
       "      <td>178</td>\n",
       "    </tr>\n",
       "    <tr>\n",
       "      <th>1998</th>\n",
       "      <td>177</td>\n",
       "    </tr>\n",
       "    <tr>\n",
       "      <th>1999</th>\n",
       "      <td>177</td>\n",
       "    </tr>\n",
       "    <tr>\n",
       "      <th>2005</th>\n",
       "      <td>175</td>\n",
       "    </tr>\n",
       "    <tr>\n",
       "      <th>2006</th>\n",
       "      <td>174</td>\n",
       "    </tr>\n",
       "    <tr>\n",
       "      <th>1986</th>\n",
       "      <td>174</td>\n",
       "    </tr>\n",
       "    <tr>\n",
       "      <th>1989</th>\n",
       "      <td>173</td>\n",
       "    </tr>\n",
       "    <tr>\n",
       "      <th>1988</th>\n",
       "      <td>173</td>\n",
       "    </tr>\n",
       "    <tr>\n",
       "      <th>1996</th>\n",
       "      <td>170</td>\n",
       "    </tr>\n",
       "    <tr>\n",
       "      <th>2009</th>\n",
       "      <td>166</td>\n",
       "    </tr>\n",
       "    <tr>\n",
       "      <th>1992</th>\n",
       "      <td>163</td>\n",
       "    </tr>\n",
       "    <tr>\n",
       "      <th>1993</th>\n",
       "      <td>163</td>\n",
       "    </tr>\n",
       "    <tr>\n",
       "      <th>1994</th>\n",
       "      <td>160</td>\n",
       "    </tr>\n",
       "    <tr>\n",
       "      <th>2014</th>\n",
       "      <td>152</td>\n",
       "    </tr>\n",
       "    <tr>\n",
       "      <th>1987</th>\n",
       "      <td>151</td>\n",
       "    </tr>\n",
       "    <tr>\n",
       "      <th>2004</th>\n",
       "      <td>147</td>\n",
       "    </tr>\n",
       "    <tr>\n",
       "      <th>1991</th>\n",
       "      <td>146</td>\n",
       "    </tr>\n",
       "    <tr>\n",
       "      <th>1983</th>\n",
       "      <td>145</td>\n",
       "    </tr>\n",
       "    <tr>\n",
       "      <th>1990</th>\n",
       "      <td>142</td>\n",
       "    </tr>\n",
       "    <tr>\n",
       "      <th>2002</th>\n",
       "      <td>139</td>\n",
       "    </tr>\n",
       "    <tr>\n",
       "      <th>1982</th>\n",
       "      <td>130</td>\n",
       "    </tr>\n",
       "    <tr>\n",
       "      <th>2015</th>\n",
       "      <td>125</td>\n",
       "    </tr>\n",
       "    <tr>\n",
       "      <th>2019</th>\n",
       "      <td>120</td>\n",
       "    </tr>\n",
       "    <tr>\n",
       "      <th>1997</th>\n",
       "      <td>116</td>\n",
       "    </tr>\n",
       "    <tr>\n",
       "      <th>2023</th>\n",
       "      <td>77</td>\n",
       "    </tr>\n",
       "  </tbody>\n",
       "</table>\n",
       "</div>"
      ],
      "text/plain": [
       "      no_of_rainy_days\n",
       "date                  \n",
       "2022               210\n",
       "2013               206\n",
       "2017               204\n",
       "2007               195\n",
       "1984               191\n",
       "2012               191\n",
       "2000               188\n",
       "2011               188\n",
       "2018               188\n",
       "2003               186\n",
       "2001               184\n",
       "2008               182\n",
       "2021               182\n",
       "1985               181\n",
       "2016               179\n",
       "1995               179\n",
       "2010               178\n",
       "2020               178\n",
       "1998               177\n",
       "1999               177\n",
       "2005               175\n",
       "2006               174\n",
       "1986               174\n",
       "1989               173\n",
       "1988               173\n",
       "1996               170\n",
       "2009               166\n",
       "1992               163\n",
       "1993               163\n",
       "1994               160\n",
       "2014               152\n",
       "1987               151\n",
       "2004               147\n",
       "1991               146\n",
       "1983               145\n",
       "1990               142\n",
       "2002               139\n",
       "1982               130\n",
       "2015               125\n",
       "2019               120\n",
       "1997               116\n",
       "2023                77"
      ]
     },
     "execution_count": 127,
     "metadata": {},
     "output_type": "execute_result"
    }
   ],
   "source": [
    "# Alternatively, I can do a descending sort on the 'yearly_rain_days' table by 'no_of_rainy_days' and pick the top value\n",
    "yearly_rain_days.sort_values('no_of_rainy_days', ascending = False)"
   ]
  },
  {
   "cell_type": "markdown",
   "metadata": {},
   "source": [
    "2013 has the highest number of rainy days in the date range of analysis.\n",
    "\n",
    "Let's repeat the above to find the year with the lowest number of rainy days in the date range of analysis."
   ]
  },
  {
   "cell_type": "code",
   "execution_count": 128,
   "metadata": {},
   "outputs": [
    {
     "data": {
      "text/html": [
       "<div>\n",
       "<style scoped>\n",
       "    .dataframe tbody tr th:only-of-type {\n",
       "        vertical-align: middle;\n",
       "    }\n",
       "\n",
       "    .dataframe tbody tr th {\n",
       "        vertical-align: top;\n",
       "    }\n",
       "\n",
       "    .dataframe thead th {\n",
       "        text-align: right;\n",
       "    }\n",
       "</style>\n",
       "<table border=\"1\" class=\"dataframe\">\n",
       "  <thead>\n",
       "    <tr style=\"text-align: right;\">\n",
       "      <th></th>\n",
       "      <th>no_of_rainy_days</th>\n",
       "    </tr>\n",
       "    <tr>\n",
       "      <th>date</th>\n",
       "      <th></th>\n",
       "    </tr>\n",
       "  </thead>\n",
       "  <tbody>\n",
       "    <tr>\n",
       "      <th>2023</th>\n",
       "      <td>77</td>\n",
       "    </tr>\n",
       "  </tbody>\n",
       "</table>\n",
       "</div>"
      ],
      "text/plain": [
       "      no_of_rainy_days\n",
       "date                  \n",
       "2023                77"
      ]
     },
     "execution_count": 128,
     "metadata": {},
     "output_type": "execute_result"
    }
   ],
   "source": [
    "min_yearly_rain_days = yearly_rain_days['no_of_rainy_days'].min()\n",
    "yearly_rain_days[yearly_rain_days['no_of_rainy_days'] == min_yearly_rain_days]"
   ]
  },
  {
   "cell_type": "code",
   "execution_count": 129,
   "metadata": {
    "scrolled": true
   },
   "outputs": [
    {
     "data": {
      "text/html": [
       "<div>\n",
       "<style scoped>\n",
       "    .dataframe tbody tr th:only-of-type {\n",
       "        vertical-align: middle;\n",
       "    }\n",
       "\n",
       "    .dataframe tbody tr th {\n",
       "        vertical-align: top;\n",
       "    }\n",
       "\n",
       "    .dataframe thead th {\n",
       "        text-align: right;\n",
       "    }\n",
       "</style>\n",
       "<table border=\"1\" class=\"dataframe\">\n",
       "  <thead>\n",
       "    <tr style=\"text-align: right;\">\n",
       "      <th></th>\n",
       "      <th>no_of_rainy_days</th>\n",
       "    </tr>\n",
       "    <tr>\n",
       "      <th>date</th>\n",
       "      <th></th>\n",
       "    </tr>\n",
       "  </thead>\n",
       "  <tbody>\n",
       "    <tr>\n",
       "      <th>2023</th>\n",
       "      <td>77</td>\n",
       "    </tr>\n",
       "    <tr>\n",
       "      <th>1997</th>\n",
       "      <td>116</td>\n",
       "    </tr>\n",
       "    <tr>\n",
       "      <th>2019</th>\n",
       "      <td>120</td>\n",
       "    </tr>\n",
       "    <tr>\n",
       "      <th>2015</th>\n",
       "      <td>125</td>\n",
       "    </tr>\n",
       "    <tr>\n",
       "      <th>1982</th>\n",
       "      <td>130</td>\n",
       "    </tr>\n",
       "    <tr>\n",
       "      <th>2002</th>\n",
       "      <td>139</td>\n",
       "    </tr>\n",
       "    <tr>\n",
       "      <th>1990</th>\n",
       "      <td>142</td>\n",
       "    </tr>\n",
       "    <tr>\n",
       "      <th>1983</th>\n",
       "      <td>145</td>\n",
       "    </tr>\n",
       "    <tr>\n",
       "      <th>1991</th>\n",
       "      <td>146</td>\n",
       "    </tr>\n",
       "    <tr>\n",
       "      <th>2004</th>\n",
       "      <td>147</td>\n",
       "    </tr>\n",
       "    <tr>\n",
       "      <th>1987</th>\n",
       "      <td>151</td>\n",
       "    </tr>\n",
       "    <tr>\n",
       "      <th>2014</th>\n",
       "      <td>152</td>\n",
       "    </tr>\n",
       "    <tr>\n",
       "      <th>1994</th>\n",
       "      <td>160</td>\n",
       "    </tr>\n",
       "    <tr>\n",
       "      <th>1993</th>\n",
       "      <td>163</td>\n",
       "    </tr>\n",
       "    <tr>\n",
       "      <th>1992</th>\n",
       "      <td>163</td>\n",
       "    </tr>\n",
       "    <tr>\n",
       "      <th>2009</th>\n",
       "      <td>166</td>\n",
       "    </tr>\n",
       "    <tr>\n",
       "      <th>1996</th>\n",
       "      <td>170</td>\n",
       "    </tr>\n",
       "    <tr>\n",
       "      <th>1988</th>\n",
       "      <td>173</td>\n",
       "    </tr>\n",
       "    <tr>\n",
       "      <th>1989</th>\n",
       "      <td>173</td>\n",
       "    </tr>\n",
       "    <tr>\n",
       "      <th>2006</th>\n",
       "      <td>174</td>\n",
       "    </tr>\n",
       "    <tr>\n",
       "      <th>1986</th>\n",
       "      <td>174</td>\n",
       "    </tr>\n",
       "    <tr>\n",
       "      <th>2005</th>\n",
       "      <td>175</td>\n",
       "    </tr>\n",
       "    <tr>\n",
       "      <th>1999</th>\n",
       "      <td>177</td>\n",
       "    </tr>\n",
       "    <tr>\n",
       "      <th>1998</th>\n",
       "      <td>177</td>\n",
       "    </tr>\n",
       "    <tr>\n",
       "      <th>2010</th>\n",
       "      <td>178</td>\n",
       "    </tr>\n",
       "    <tr>\n",
       "      <th>2020</th>\n",
       "      <td>178</td>\n",
       "    </tr>\n",
       "    <tr>\n",
       "      <th>1995</th>\n",
       "      <td>179</td>\n",
       "    </tr>\n",
       "    <tr>\n",
       "      <th>2016</th>\n",
       "      <td>179</td>\n",
       "    </tr>\n",
       "    <tr>\n",
       "      <th>1985</th>\n",
       "      <td>181</td>\n",
       "    </tr>\n",
       "    <tr>\n",
       "      <th>2008</th>\n",
       "      <td>182</td>\n",
       "    </tr>\n",
       "    <tr>\n",
       "      <th>2021</th>\n",
       "      <td>182</td>\n",
       "    </tr>\n",
       "    <tr>\n",
       "      <th>2001</th>\n",
       "      <td>184</td>\n",
       "    </tr>\n",
       "    <tr>\n",
       "      <th>2003</th>\n",
       "      <td>186</td>\n",
       "    </tr>\n",
       "    <tr>\n",
       "      <th>2000</th>\n",
       "      <td>188</td>\n",
       "    </tr>\n",
       "    <tr>\n",
       "      <th>2018</th>\n",
       "      <td>188</td>\n",
       "    </tr>\n",
       "    <tr>\n",
       "      <th>2011</th>\n",
       "      <td>188</td>\n",
       "    </tr>\n",
       "    <tr>\n",
       "      <th>1984</th>\n",
       "      <td>191</td>\n",
       "    </tr>\n",
       "    <tr>\n",
       "      <th>2012</th>\n",
       "      <td>191</td>\n",
       "    </tr>\n",
       "    <tr>\n",
       "      <th>2007</th>\n",
       "      <td>195</td>\n",
       "    </tr>\n",
       "    <tr>\n",
       "      <th>2017</th>\n",
       "      <td>204</td>\n",
       "    </tr>\n",
       "    <tr>\n",
       "      <th>2013</th>\n",
       "      <td>206</td>\n",
       "    </tr>\n",
       "    <tr>\n",
       "      <th>2022</th>\n",
       "      <td>210</td>\n",
       "    </tr>\n",
       "  </tbody>\n",
       "</table>\n",
       "</div>"
      ],
      "text/plain": [
       "      no_of_rainy_days\n",
       "date                  \n",
       "2023                77\n",
       "1997               116\n",
       "2019               120\n",
       "2015               125\n",
       "1982               130\n",
       "2002               139\n",
       "1990               142\n",
       "1983               145\n",
       "1991               146\n",
       "2004               147\n",
       "1987               151\n",
       "2014               152\n",
       "1994               160\n",
       "1993               163\n",
       "1992               163\n",
       "2009               166\n",
       "1996               170\n",
       "1988               173\n",
       "1989               173\n",
       "2006               174\n",
       "1986               174\n",
       "2005               175\n",
       "1999               177\n",
       "1998               177\n",
       "2010               178\n",
       "2020               178\n",
       "1995               179\n",
       "2016               179\n",
       "1985               181\n",
       "2008               182\n",
       "2021               182\n",
       "2001               184\n",
       "2003               186\n",
       "2000               188\n",
       "2018               188\n",
       "2011               188\n",
       "1984               191\n",
       "2012               191\n",
       "2007               195\n",
       "2017               204\n",
       "2013               206\n",
       "2022               210"
      ]
     },
     "execution_count": 129,
     "metadata": {},
     "output_type": "execute_result"
    }
   ],
   "source": [
    "# Alternatively, I can do an ascending sort on the 'yearly_rain_days' table by 'no_of_rainy_days' and pick the top value\n",
    "yearly_rain_days.sort_values('no_of_rainy_days', ascending = True)"
   ]
  },
  {
   "cell_type": "markdown",
   "metadata": {},
   "source": [
    "2023 has the lowest number of rainy days in the date range of analysis."
   ]
  },
  {
   "cell_type": "markdown",
   "metadata": {},
   "source": [
    "##### e. Are there any outliers months in the dataset?"
   ]
  },
  {
   "cell_type": "markdown",
   "metadata": {},
   "source": [
    "I will start off by finding outliers and their corresponding months in the 'total_rainfall' column, and create a 'for' loop to find outliers in the other numerical columns.\n",
    "\n",
    "In this scenario, outliers are found based on the definition that **outliers are more than 3 standard deviations away from the mean (ie. 3 sigma rule).**"
   ]
  },
  {
   "cell_type": "code",
   "execution_count": 130,
   "metadata": {},
   "outputs": [
    {
     "name": "stdout",
     "output_type": "stream",
     "text": [
      "175.68476190476184\n",
      "111.77137147805858\n"
     ]
    }
   ],
   "source": [
    "# Finding the mean and standard deviation of rainfall using the functions created earlier\n",
    "print(average(elec['total_rainfall']))\n",
    "print(stdev(elec['total_rainfall']))"
   ]
  },
  {
   "cell_type": "code",
   "execution_count": 131,
   "metadata": {},
   "outputs": [
    {
     "name": "stdout",
     "output_type": "stream",
     "text": [
      "The upper bound is 510.9988763389376 and the lower bound is -159.6293525294139.\n"
     ]
    }
   ],
   "source": [
    "# Finding the upper bound and lower bound based on the definition that outliers are 3 sd from the mean\n",
    "upper_bound = (average(elec['total_rainfall'])) + ((stdev(elec['total_rainfall'])) * 3)\n",
    "lower_bound = (average(elec['total_rainfall'])) - ((stdev(elec['total_rainfall'])) * 3)\n",
    "\n",
    "print(f'The upper bound is {upper_bound} and the lower bound is {lower_bound}.')"
   ]
  },
  {
   "cell_type": "code",
   "execution_count": 132,
   "metadata": {},
   "outputs": [
    {
     "data": {
      "text/html": [
       "<div>\n",
       "<style scoped>\n",
       "    .dataframe tbody tr th:only-of-type {\n",
       "        vertical-align: middle;\n",
       "    }\n",
       "\n",
       "    .dataframe tbody tr th {\n",
       "        vertical-align: top;\n",
       "    }\n",
       "\n",
       "    .dataframe thead th {\n",
       "        text-align: right;\n",
       "    }\n",
       "</style>\n",
       "<table border=\"1\" class=\"dataframe\">\n",
       "  <thead>\n",
       "    <tr style=\"text-align: right;\">\n",
       "      <th></th>\n",
       "      <th>date</th>\n",
       "      <th>kwh_per_acc</th>\n",
       "      <th>total_rainfall</th>\n",
       "      <th>no_of_rainy_days</th>\n",
       "      <th>mean_temp</th>\n",
       "      <th>mean_sunshine_hrs</th>\n",
       "      <th>mean_relative_humidity</th>\n",
       "    </tr>\n",
       "  </thead>\n",
       "  <tbody>\n",
       "    <tr>\n",
       "      <th>69</th>\n",
       "      <td>2006-12-01</td>\n",
       "      <td>454.1</td>\n",
       "      <td>765.9</td>\n",
       "      <td>22</td>\n",
       "      <td>26.6</td>\n",
       "      <td>3.2</td>\n",
       "      <td>88.5</td>\n",
       "    </tr>\n",
       "    <tr>\n",
       "      <th>126</th>\n",
       "      <td>2011-01-01</td>\n",
       "      <td>436.2</td>\n",
       "      <td>513.2</td>\n",
       "      <td>17</td>\n",
       "      <td>26.3</td>\n",
       "      <td>4.5</td>\n",
       "      <td>85.8</td>\n",
       "    </tr>\n",
       "    <tr>\n",
       "      <th>36</th>\n",
       "      <td>2021-01-01</td>\n",
       "      <td>417.6</td>\n",
       "      <td>692.8</td>\n",
       "      <td>17</td>\n",
       "      <td>26.0</td>\n",
       "      <td>4.2</td>\n",
       "      <td>82.6</td>\n",
       "    </tr>\n",
       "  </tbody>\n",
       "</table>\n",
       "</div>"
      ],
      "text/plain": [
       "          date  kwh_per_acc  total_rainfall  no_of_rainy_days  mean_temp  \\\n",
       "69  2006-12-01        454.1           765.9                22       26.6   \n",
       "126 2011-01-01        436.2           513.2                17       26.3   \n",
       "36  2021-01-01        417.6           692.8                17       26.0   \n",
       "\n",
       "     mean_sunshine_hrs  mean_relative_humidity  \n",
       "69                 3.2                    88.5  \n",
       "126                4.5                    85.8  \n",
       "36                 4.2                    82.6  "
      ]
     },
     "execution_count": 132,
     "metadata": {},
     "output_type": "execute_result"
    }
   ],
   "source": [
    "# Filtering dataset based on the upper and lower bound to find rainfall outliers\n",
    "elec[(elec['total_rainfall'] > upper_bound) | (elec['total_rainfall'] < lower_bound)]"
   ]
  },
  {
   "cell_type": "code",
   "execution_count": 133,
   "metadata": {},
   "outputs": [
    {
     "name": "stdout",
     "output_type": "stream",
     "text": [
      "Column: kwh_per_acc, Upper Bound: 579.5607286403313, Lower Bound: 344.1287951691916\n",
      "Column: kwh_per_acc, Outliers: 2\n",
      "Column: total_rainfall, Upper Bound: 510.9988763389376, Lower Bound: -159.6293525294139\n",
      "Column: total_rainfall, Outliers: 3\n",
      "Column: no_of_rainy_days, Upper Bound: 30.307290376304366, Lower Bound: -1.012052281066273\n",
      "Column: no_of_rainy_days, Outliers: 0\n",
      "Column: mean_temp, Upper Bound: 30.069996723457557, Lower Bound: 25.71000327654243\n",
      "Column: mean_temp, Outliers: 0\n",
      "Column: mean_sunshine_hrs, Upper Bound: 9.400939809501685, Lower Bound: 2.258107809545937\n",
      "Column: mean_sunshine_hrs, Outliers: 0\n",
      "Column: mean_relative_humidity, Upper Bound: 92.41647220357856, Lower Bound: 69.50924208213578\n",
      "Column: mean_relative_humidity, Outliers: 0\n"
     ]
    },
    {
     "data": {
      "text/html": [
       "<div>\n",
       "<style scoped>\n",
       "    .dataframe tbody tr th:only-of-type {\n",
       "        vertical-align: middle;\n",
       "    }\n",
       "\n",
       "    .dataframe tbody tr th {\n",
       "        vertical-align: top;\n",
       "    }\n",
       "\n",
       "    .dataframe thead th {\n",
       "        text-align: right;\n",
       "    }\n",
       "</style>\n",
       "<table border=\"1\" class=\"dataframe\">\n",
       "  <thead>\n",
       "    <tr style=\"text-align: right;\">\n",
       "      <th></th>\n",
       "      <th>date</th>\n",
       "      <th>kwh_per_acc</th>\n",
       "      <th>total_rainfall</th>\n",
       "      <th>no_of_rainy_days</th>\n",
       "      <th>mean_temp</th>\n",
       "      <th>mean_sunshine_hrs</th>\n",
       "      <th>mean_relative_humidity</th>\n",
       "    </tr>\n",
       "  </thead>\n",
       "  <tbody>\n",
       "    <tr>\n",
       "      <th>32</th>\n",
       "      <td>2020-06-01</td>\n",
       "      <td>590.4</td>\n",
       "      <td>233.8</td>\n",
       "      <td>21</td>\n",
       "      <td>28.1</td>\n",
       "      <td>4.3</td>\n",
       "      <td>80.2</td>\n",
       "    </tr>\n",
       "    <tr>\n",
       "      <th>33</th>\n",
       "      <td>2020-07-01</td>\n",
       "      <td>600.5</td>\n",
       "      <td>140.8</td>\n",
       "      <td>22</td>\n",
       "      <td>27.9</td>\n",
       "      <td>5.7</td>\n",
       "      <td>78.2</td>\n",
       "    </tr>\n",
       "    <tr>\n",
       "      <th>69</th>\n",
       "      <td>2006-12-01</td>\n",
       "      <td>454.1</td>\n",
       "      <td>765.9</td>\n",
       "      <td>22</td>\n",
       "      <td>26.6</td>\n",
       "      <td>3.2</td>\n",
       "      <td>88.5</td>\n",
       "    </tr>\n",
       "    <tr>\n",
       "      <th>126</th>\n",
       "      <td>2011-01-01</td>\n",
       "      <td>436.2</td>\n",
       "      <td>513.2</td>\n",
       "      <td>17</td>\n",
       "      <td>26.3</td>\n",
       "      <td>4.5</td>\n",
       "      <td>85.8</td>\n",
       "    </tr>\n",
       "    <tr>\n",
       "      <th>36</th>\n",
       "      <td>2021-01-01</td>\n",
       "      <td>417.6</td>\n",
       "      <td>692.8</td>\n",
       "      <td>17</td>\n",
       "      <td>26.0</td>\n",
       "      <td>4.2</td>\n",
       "      <td>82.6</td>\n",
       "    </tr>\n",
       "  </tbody>\n",
       "</table>\n",
       "</div>"
      ],
      "text/plain": [
       "          date  kwh_per_acc  total_rainfall  no_of_rainy_days  mean_temp  \\\n",
       "32  2020-06-01        590.4           233.8                21       28.1   \n",
       "33  2020-07-01        600.5           140.8                22       27.9   \n",
       "69  2006-12-01        454.1           765.9                22       26.6   \n",
       "126 2011-01-01        436.2           513.2                17       26.3   \n",
       "36  2021-01-01        417.6           692.8                17       26.0   \n",
       "\n",
       "     mean_sunshine_hrs  mean_relative_humidity  \n",
       "32                 4.3                    80.2  \n",
       "33                 5.7                    78.2  \n",
       "69                 3.2                    88.5  \n",
       "126                4.5                    85.8  \n",
       "36                 4.2                    82.6  "
      ]
     },
     "execution_count": 133,
     "metadata": {},
     "output_type": "execute_result"
    }
   ],
   "source": [
    "# Creating a 'for' loop based on all columns\n",
    "\n",
    "outliers = pd.DataFrame()\n",
    "for column in elec.columns:\n",
    "    if column != 'date':\n",
    "        upper_bound = (average(elec[column])) + ((stdev(elec[column])) * 3)\n",
    "        lower_bound = (average(elec[column])) - ((stdev(elec[column])) * 3)\n",
    "        outlier_rows = elec[(elec[column] >= upper_bound) | (elec[column] <= lower_bound)]\n",
    "        print(f\"Column: {column}, Upper Bound: {upper_bound}, Lower Bound: {lower_bound}\")\n",
    "        print(f\"Column: {column}, Outliers: {len(outlier_rows)}\")\n",
    "        outliers = pd.concat([outliers, outlier_rows])\n",
    "\n",
    "outliers"
   ]
  },
  {
   "cell_type": "markdown",
   "metadata": {},
   "source": [
    "The above table shows the outlier months. The first two is based on outliers in terms of the electricity consumption, while the last three is based on outliers in terms of total rainfall.\n",
    "\n",
    "Do note that some values may not make logical sense, namely those with negative lower bounds. While statistically they are 3 standard deviations below the mean, it is not possible to have negative values for total rainfall as well as number of rainy days."
   ]
  },
  {
   "cell_type": "markdown",
   "metadata": {},
   "source": [
    "## Data Visualisation"
   ]
  },
  {
   "cell_type": "markdown",
   "metadata": {},
   "source": [
    "##### 1. Use Seaborn's heatmap with pandas .corr() to visualize correlations between all numeric features."
   ]
  },
  {
   "cell_type": "markdown",
   "metadata": {},
   "source": [
    "As a start, it is beneficial to create a heatmap to understand which weather data has a strong correlation with the amount of household expenditure of electricity. Based on secondary research, we believe that the temperature has a correlation, but we wanted to have a look at other measures of data as well."
   ]
  },
  {
   "cell_type": "code",
   "execution_count": 134,
   "metadata": {},
   "outputs": [
    {
     "name": "stderr",
     "output_type": "stream",
     "text": [
      "/var/folders/w4/0rkrlv1d2cg4g7rbby5yb_tr0000gn/T/ipykernel_81423/4028695592.py:2: FutureWarning:\n",
      "\n",
      "The default value of numeric_only in DataFrame.corr is deprecated. In a future version, it will default to False. Select only valid columns or specify the value of numeric_only to silence this warning.\n",
      "\n",
      "/var/folders/w4/0rkrlv1d2cg4g7rbby5yb_tr0000gn/T/ipykernel_81423/4028695592.py:3: FutureWarning:\n",
      "\n",
      "The default value of numeric_only in DataFrame.corr is deprecated. In a future version, it will default to False. Select only valid columns or specify the value of numeric_only to silence this warning.\n",
      "\n"
     ]
    },
    {
     "data": {
      "image/png": "[encoded data removed]",
      "text/plain": [
       "<Figure size 640x480 with 2 Axes>"
      ]
     },
     "metadata": {},
     "output_type": "display_data"
    }
   ],
   "source": [
    "# plotting a heatmap with contrasting color scheme\n",
    "mask = np.triu(np.ones_like(elec.corr()))\n",
    "sns.heatmap(elec.corr(), annot=True, cmap='coolwarm', mask = mask)\n",
    "plt.title('Correlation Heatmap of Electricity Consumption with Weather Data')\n",
    "plt.show()"
   ]
  },
  {
   "cell_type": "markdown",
   "metadata": {},
   "source": [
    "*Interpretation: From the heatmap above, we can see a mild correlation between the household consumption of electricity (kwh_per_acc) with the mean temperature of the month, with a correlation coefficient of 0.43. We also see a milder correlation with the mean sunshine hours and the number of rainy days.*\n",
    "\n",
    "As both the mean temperature of the month and the household expenditure of electricity are quantitative data, the best way to plot and explore its relationship is to use a scatterplot. We will explore that in part 4 below."
   ]
  },
  {
   "cell_type": "markdown",
   "metadata": {},
   "source": [
    "##### 2. Visualize distributions using histograms."
   ]
  },
  {
   "cell_type": "markdown",
   "metadata": {},
   "source": [
    "In order to understand the distribution shape of the columns, I will visualise distributions of three columns: total rainfall, mean temperature, and household electrical consumption."
   ]
  },
  {
   "cell_type": "code",
   "execution_count": 135,
   "metadata": {},
   "outputs": [
    {
     "data": {
      "image/png": "[encoded data removed]",
      "text/plain": [
       "<Figure size 637.375x500 with 1 Axes>"
      ]
     },
     "metadata": {},
     "output_type": "display_data"
    }
   ],
   "source": [
    "sns.displot([elec['total_rainfall']], kde = True)\n",
    "plt.title('Distribution of monthly total rainfall')\n",
    "plt.xlabel(\"Total Rainfall\")\n",
    "plt.ylabel(\"Count\");"
   ]
  },
  {
   "cell_type": "markdown",
   "metadata": {},
   "source": [
    "*Interpretation: The distribution of total monthly rainfall is close to a normal distribution, but has a right skew and two outliers. The outliers may lead to skewed estimates as it pulls up the mean and standard deviation.*"
   ]
  },
  {
   "cell_type": "code",
   "execution_count": 136,
   "metadata": {},
   "outputs": [
    {
     "data": {
      "image/png": "[encoded data removed]",
      "text/plain": [
       "<Figure size 632.75x500 with 1 Axes>"
      ]
     },
     "metadata": {},
     "output_type": "display_data"
    }
   ],
   "source": [
    "sns.displot([elec['mean_temp']], kde = True)\n",
    "plt.title('Distribution of mean temperature')\n",
    "plt.xlabel(\"Mean Temperature\")\n",
    "plt.ylabel(\"Count\");"
   ]
  },
  {
   "cell_type": "markdown",
   "metadata": {},
   "source": [
    "*Interpretation: The distribution of mean temperature is close to a normal distribution, but has a left skew.*"
   ]
  },
  {
   "cell_type": "code",
   "execution_count": 137,
   "metadata": {},
   "outputs": [
    {
     "data": {
      "image/png": "[encoded data removed]",
      "text/plain": [
       "<Figure size 639.25x500 with 1 Axes>"
      ]
     },
     "metadata": {},
     "output_type": "display_data"
    }
   ],
   "source": [
    "sns.displot([elec['kwh_per_acc']], kde = True)\n",
    "plt.title('Distribution of household electrical consumption')\n",
    "plt.xlabel(\"Household Electrical Consumption\")\n",
    "plt.ylabel(\"Count\");"
   ]
  },
  {
   "cell_type": "markdown",
   "metadata": {},
   "source": [
    "*Interpretation: Similar to the rainfall, the distribution of total monthly rainfall is close to a normal distribution, but has two outliers. The outliers may lead to skewed estimates as it pulls up the mean and standard deviation.*"
   ]
  },
  {
   "cell_type": "markdown",
   "metadata": {},
   "source": [
    "##### 3. Plot and interpret boxplots."
   ]
  },
  {
   "cell_type": "markdown",
   "metadata": {},
   "source": [
    "As we have found that both total rainfall and household electrical consumption have outliers, we will create boxplots for both of them to identify the outliers."
   ]
  },
  {
   "cell_type": "code",
   "execution_count": 138,
   "metadata": {},
   "outputs": [
    {
     "data": {
      "application/vnd.plotly.v1+json": {
       "config": {
        "plotlyServerURL": "https://plot.ly"
       },
       "data": [
        {
         "alignmentgroup": "True",
         "customdata": [
          [
           "2005-01-01T00:00:00"
          ],
          [
           "2005-02-01T00:00:00"
          ],
          [
           "2005-03-01T00:00:00"
          ],
          [
           "2005-04-01T00:00:00"
          ],
          [
           "2005-05-01T00:00:00"
          ],
          [
           "2005-06-01T00:00:00"
          ],
          [
           "2005-07-01T00:00:00"
          ],
          [
           "2005-08-01T00:00:00"
          ],
          [
           "2005-09-01T00:00:00"
          ],
          [
           "2005-10-01T00:00:00"
          ],
          [
           "2005-11-01T00:00:00"
          ],
          [
           "2005-12-01T00:00:00"
          ],
          [
           "2006-01-01T00:00:00"
          ],
          [
           "2006-02-01T00:00:00"
          ],
          [
           "2006-03-01T00:00:00"
          ],
          [
           "2006-04-01T00:00:00"
          ],
          [
           "2006-05-01T00:00:00"
          ],
          [
           "2006-06-01T00:00:00"
          ],
          [
           "2006-07-01T00:00:00"
          ],
          [
           "2006-08-01T00:00:00"
          ],
          [
           "2006-09-01T00:00:00"
          ],
          [
           "2006-10-01T00:00:00"
          ],
          [
           "2006-11-01T00:00:00"
          ],
          [
           "2006-12-01T00:00:00"
          ],
          [
           "2007-01-01T00:00:00"
          ],
          [
           "2007-02-01T00:00:00"
          ],
          [
           "2007-03-01T00:00:00"
          ],
          [
           "2007-04-01T00:00:00"
          ],
          [
           "2007-05-01T00:00:00"
          ],
          [
           "2007-06-01T00:00:00"
          ],
          [
           "2007-07-01T00:00:00"
          ],
          [
           "2007-08-01T00:00:00"
          ],
          [
           "2007-09-01T00:00:00"
          ],
          [
           "2007-10-01T00:00:00"
          ],
          [
           "2007-11-01T00:00:00"
          ],
          [
           "2007-12-01T00:00:00"
          ],
          [
           "2008-01-01T00:00:00"
          ],
          [
           "2008-02-01T00:00:00"
          ],
          [
           "2008-03-01T00:00:00"
          ],
          [
           "2008-04-01T00:00:00"
          ],
          [
           "2008-05-01T00:00:00"
          ],
          [
           "2008-06-01T00:00:00"
          ],
          [
           "2008-07-01T00:00:00"
          ],
          [
           "2008-08-01T00:00:00"
          ],
          [
           "2008-09-01T00:00:00"
          ],
          [
           "2008-10-01T00:00:00"
          ],
          [
           "2008-11-01T00:00:00"
          ],
          [
           "2008-12-01T00:00:00"
          ],
          [
           "2009-01-01T00:00:00"
          ],
          [
           "2009-02-01T00:00:00"
          ],
          [
           "2009-03-01T00:00:00"
          ],
          [
           "2009-04-01T00:00:00"
          ],
          [
           "2009-05-01T00:00:00"
          ],
          [
           "2009-06-01T00:00:00"
          ],
          [
           "2009-07-01T00:00:00"
          ],
          [
           "2009-08-01T00:00:00"
          ],
          [
           "2009-09-01T00:00:00"
          ],
          [
           "2009-10-01T00:00:00"
          ],
          [
           "2009-11-01T00:00:00"
          ],
          [
           "2009-12-01T00:00:00"
          ],
          [
           "2010-01-01T00:00:00"
          ],
          [
           "2010-02-01T00:00:00"
          ],
          [
           "2010-03-01T00:00:00"
          ],
          [
           "2010-04-01T00:00:00"
          ],
          [
           "2010-05-01T00:00:00"
          ],
          [
           "2010-06-01T00:00:00"
          ],
          [
           "2010-07-01T00:00:00"
          ],
          [
           "2010-08-01T00:00:00"
          ],
          [
           "2010-09-01T00:00:00"
          ],
          [
           "2010-10-01T00:00:00"
          ],
          [
           "2010-11-01T00:00:00"
          ],
          [
           "2010-12-01T00:00:00"
          ],
          [
           "2011-01-01T00:00:00"
          ],
          [
           "2011-02-01T00:00:00"
          ],
          [
           "2011-03-01T00:00:00"
          ],
          [
           "2011-04-01T00:00:00"
          ],
          [
           "2011-05-01T00:00:00"
          ],
          [
           "2011-06-01T00:00:00"
          ],
          [
           "2011-07-01T00:00:00"
          ],
          [
           "2011-08-01T00:00:00"
          ],
          [
           "2011-09-01T00:00:00"
          ],
          [
           "2011-10-01T00:00:00"
          ],
          [
           "2011-11-01T00:00:00"
          ],
          [
           "2011-12-01T00:00:00"
          ],
          [
           "2012-01-01T00:00:00"
          ],
          [
           "2012-02-01T00:00:00"
          ],
          [
           "2012-03-01T00:00:00"
          ],
          [
           "2012-04-01T00:00:00"
          ],
          [
           "2012-05-01T00:00:00"
          ],
          [
           "2012-06-01T00:00:00"
          ],
          [
           "2012-07-01T00:00:00"
          ],
          [
           "2012-08-01T00:00:00"
          ],
          [
           "2012-09-01T00:00:00"
          ],
          [
           "2012-10-01T00:00:00"
          ],
          [
           "2012-11-01T00:00:00"
          ],
          [
           "2012-12-01T00:00:00"
          ],
          [
           "2013-01-01T00:00:00"
          ],
          [
           "2013-02-01T00:00:00"
          ],
          [
           "2013-03-01T00:00:00"
          ],
          [
           "2013-04-01T00:00:00"
          ],
          [
           "2013-05-01T00:00:00"
          ],
          [
           "2013-06-01T00:00:00"
          ],
          [
           "2013-07-01T00:00:00"
          ],
          [
           "2013-08-01T00:00:00"
          ],
          [
           "2013-09-01T00:00:00"
          ],
          [
           "2013-10-01T00:00:00"
          ],
          [
           "2013-11-01T00:00:00"
          ],
          [
           "2013-12-01T00:00:00"
          ],
          [
           "2014-01-01T00:00:00"
          ],
          [
           "2014-02-01T00:00:00"
          ],
          [
           "2014-03-01T00:00:00"
          ],
          [
           "2014-04-01T00:00:00"
          ],
          [
           "2014-05-01T00:00:00"
          ],
          [
           "2014-06-01T00:00:00"
          ],
          [
           "2014-07-01T00:00:00"
          ],
          [
           "2014-08-01T00:00:00"
          ],
          [
           "2014-09-01T00:00:00"
          ],
          [
           "2014-10-01T00:00:00"
          ],
          [
           "2014-11-01T00:00:00"
          ],
          [
           "2014-12-01T00:00:00"
          ],
          [
           "2015-01-01T00:00:00"
          ],
          [
           "2015-02-01T00:00:00"
          ],
          [
           "2015-03-01T00:00:00"
          ],
          [
           "2015-04-01T00:00:00"
          ],
          [
           "2015-05-01T00:00:00"
          ],
          [
           "2015-06-01T00:00:00"
          ],
          [
           "2015-07-01T00:00:00"
          ],
          [
           "2015-08-01T00:00:00"
          ],
          [
           "2015-09-01T00:00:00"
          ],
          [
           "2015-10-01T00:00:00"
          ],
          [
           "2015-11-01T00:00:00"
          ],
          [
           "2015-12-01T00:00:00"
          ],
          [
           "2016-01-01T00:00:00"
          ],
          [
           "2016-02-01T00:00:00"
          ],
          [
           "2016-03-01T00:00:00"
          ],
          [
           "2016-04-01T00:00:00"
          ],
          [
           "2016-05-01T00:00:00"
          ],
          [
           "2016-06-01T00:00:00"
          ],
          [
           "2016-07-01T00:00:00"
          ],
          [
           "2016-08-01T00:00:00"
          ],
          [
           "2016-09-01T00:00:00"
          ],
          [
           "2016-10-01T00:00:00"
          ],
          [
           "2016-11-01T00:00:00"
          ],
          [
           "2016-12-01T00:00:00"
          ],
          [
           "2017-01-01T00:00:00"
          ],
          [
           "2017-02-01T00:00:00"
          ],
          [
           "2017-03-01T00:00:00"
          ],
          [
           "2017-04-01T00:00:00"
          ],
          [
           "2017-05-01T00:00:00"
          ],
          [
           "2017-06-01T00:00:00"
          ],
          [
           "2017-07-01T00:00:00"
          ],
          [
           "2017-08-01T00:00:00"
          ],
          [
           "2017-09-01T00:00:00"
          ],
          [
           "2017-10-01T00:00:00"
          ],
          [
           "2017-11-01T00:00:00"
          ],
          [
           "2017-12-01T00:00:00"
          ],
          [
           "2018-01-01T00:00:00"
          ],
          [
           "2018-02-01T00:00:00"
          ],
          [
           "2018-03-01T00:00:00"
          ],
          [
           "2018-04-01T00:00:00"
          ],
          [
           "2018-05-01T00:00:00"
          ],
          [
           "2018-06-01T00:00:00"
          ],
          [
           "2018-07-01T00:00:00"
          ],
          [
           "2018-08-01T00:00:00"
          ],
          [
           "2018-09-01T00:00:00"
          ],
          [
           "2018-10-01T00:00:00"
          ],
          [
           "2018-11-01T00:00:00"
          ],
          [
           "2018-12-01T00:00:00"
          ],
          [
           "2019-01-01T00:00:00"
          ],
          [
           "2019-02-01T00:00:00"
          ],
          [
           "2019-03-01T00:00:00"
          ],
          [
           "2019-04-01T00:00:00"
          ],
          [
           "2019-05-01T00:00:00"
          ],
          [
           "2019-06-01T00:00:00"
          ],
          [
           "2019-07-01T00:00:00"
          ],
          [
           "2019-08-01T00:00:00"
          ],
          [
           "2019-09-01T00:00:00"
          ],
          [
           "2019-10-01T00:00:00"
          ],
          [
           "2019-11-01T00:00:00"
          ],
          [
           "2019-12-01T00:00:00"
          ],
          [
           "2020-01-01T00:00:00"
          ],
          [
           "2020-02-01T00:00:00"
          ],
          [
           "2020-03-01T00:00:00"
          ],
          [
           "2020-04-01T00:00:00"
          ],
          [
           "2020-05-01T00:00:00"
          ],
          [
           "2020-06-01T00:00:00"
          ],
          [
           "2020-07-01T00:00:00"
          ],
          [
           "2020-08-01T00:00:00"
          ],
          [
           "2020-09-01T00:00:00"
          ],
          [
           "2020-10-01T00:00:00"
          ],
          [
           "2020-11-01T00:00:00"
          ],
          [
           "2020-12-01T00:00:00"
          ],
          [
           "2021-01-01T00:00:00"
          ],
          [
           "2021-02-01T00:00:00"
          ],
          [
           "2021-03-01T00:00:00"
          ],
          [
           "2021-04-01T00:00:00"
          ],
          [
           "2021-05-01T00:00:00"
          ],
          [
           "2021-06-01T00:00:00"
          ],
          [
           "2021-07-01T00:00:00"
          ],
          [
           "2021-08-01T00:00:00"
          ],
          [
           "2021-09-01T00:00:00"
          ],
          [
           "2021-10-01T00:00:00"
          ],
          [
           "2021-11-01T00:00:00"
          ],
          [
           "2021-12-01T00:00:00"
          ],
          [
           "2022-01-01T00:00:00"
          ],
          [
           "2022-02-01T00:00:00"
          ],
          [
           "2022-03-01T00:00:00"
          ],
          [
           "2022-04-01T00:00:00"
          ],
          [
           "2022-05-01T00:00:00"
          ],
          [
           "2022-06-01T00:00:00"
          ]
         ],
         "hovertemplate": "kwh_per_acc=%{x}<br>date=%{customdata[0]}<extra></extra>",
         "legendgroup": "",
         "marker": {
          "color": "#636efa"
         },
         "name": "",
         "notched": false,
         "offsetgroup": "",
         "orientation": "h",
         "showlegend": false,
         "type": "box",
         "x": [
          418.1,
          408.3,
          446.9,
          496.2,
          496.8,
          519.7,
          497.7,
          489.3,
          477.7,
          480.8,
          479.7,
          441.6,
          430.5,
          418.2,
          433.6,
          472.2,
          481.2,
          491.1,
          472.6,
          500.8,
          498.7,
          483.3,
          491.2,
          454.1,
          434,
          407.2,
          413.5,
          467.1,
          495.8,
          507.8,
          513.8,
          505.8,
          467.8,
          468.2,
          497.9,
          444.9,
          424,
          429,
          406.8,
          444.3,
          491,
          516.3,
          473.8,
          459.1,
          466.8,
          467.9,
          481,
          433,
          426.7,
          412.5,
          412,
          455.3,
          496.1,
          541.9,
          529.2,
          507.1,
          492.5,
          492.5,
          497.5,
          455.9,
          433.4,
          446.1,
          482.1,
          513.5,
          505.4,
          531.5,
          502.4,
          471.9,
          472,
          486.9,
          509.6,
          466.3,
          436.2,
          404.1,
          404,
          454.5,
          490.1,
          521,
          505.5,
          508.6,
          501.4,
          479.3,
          463.8,
          431.9,
          431.1,
          430.9,
          432.2,
          459.1,
          472.5,
          514,
          502.9,
          493.9,
          483.2,
          471.1,
          478,
          440.3,
          430.2,
          418.9,
          417.4,
          473.9,
          508.1,
          525.1,
          508.6,
          513,
          465.9,
          459,
          471.1,
          436.8,
          420.2,
          402.5,
          400,
          462.4,
          494.6,
          516.2,
          506.6,
          510,
          474.7,
          463.5,
          486.8,
          453,
          414.7,
          390.6,
          403.3,
          463.7,
          476.3,
          491,
          500.4,
          507.9,
          491.8,
          494.2,
          506.8,
          476.6,
          436,
          443.2,
          444.8,
          490.5,
          520.7,
          531.7,
          480.7,
          483.8,
          484.1,
          483.9,
          478.9,
          425.6,
          419.5,
          423.9,
          390.4,
          426.6,
          453.6,
          501.7,
          507.5,
          453.7,
          442.8,
          447.4,
          446.5,
          416.4,
          398,
          371,
          378.5,
          430,
          447.2,
          473.4,
          443.4,
          432.8,
          441.9,
          441.4,
          422,
          382,
          399.7,
          406.7,
          393.5,
          425.3,
          448.4,
          448.1,
          431.9,
          447.4,
          464.4,
          449.7,
          433.4,
          399,
          383.1,
          405.5,
          419.7,
          452.2,
          450.3,
          590.4,
          600.5,
          483.3,
          459.2,
          443.9,
          454.6,
          444.8,
          417.6,
          397.9,
          399,
          449.4,
          477.4,
          522.2,
          501.7,
          509.5,
          468.5,
          455.4,
          451.6,
          453.5,
          431.1,
          435.3,
          413.1,
          443.6,
          468.9,
          478.4
         ],
         "x0": " ",
         "xaxis": "x",
         "y0": " ",
         "yaxis": "y"
        }
       ],
       "layout": {
        "autosize": true,
        "boxmode": "group",
        "legend": {
         "tracegroupgap": 0
        },
        "template": {
         "data": {
          "bar": [
           {
            "error_x": {
             "color": "#2a3f5f"
            },
            "error_y": {
             "color": "#2a3f5f"
            },
            "marker": {
             "line": {
              "color": "#E5ECF6",
              "width": 0.5
             },
             "pattern": {
              "fillmode": "overlay",
              "size": 10,
              "solidity": 0.2
             }
            },
            "type": "bar"
           }
          ],
          "barpolar": [
           {
            "marker": {
             "line": {
              "color": "#E5ECF6",
              "width": 0.5
             },
             "pattern": {
              "fillmode": "overlay",
              "size": 10,
              "solidity": 0.2
             }
            },
            "type": "barpolar"
           }
          ],
          "carpet": [
           {
            "aaxis": {
             "endlinecolor": "#2a3f5f",
             "gridcolor": "white",
             "linecolor": "white",
             "minorgridcolor": "white",
             "startlinecolor": "#2a3f5f"
            },
            "baxis": {
             "endlinecolor": "#2a3f5f",
             "gridcolor": "white",
             "linecolor": "white",
             "minorgridcolor": "white",
             "startlinecolor": "#2a3f5f"
            },
            "type": "carpet"
           }
          ],
          "choropleth": [
           {
            "colorbar": {
             "outlinewidth": 0,
             "ticks": ""
            },
            "type": "choropleth"
           }
          ],
          "contour": [
           {
            "colorbar": {
             "outlinewidth": 0,
             "ticks": ""
            },
            "colorscale": [
             [
              0,
              "#0d0887"
             ],
             [
              0.1111111111111111,
              "#46039f"
             ],
             [
              0.2222222222222222,
              "#7201a8"
             ],
             [
              0.3333333333333333,
              "#9c179e"
             ],
             [
              0.4444444444444444,
              "#bd3786"
             ],
             [
              0.5555555555555556,
              "#d8576b"
             ],
             [
              0.6666666666666666,
              "#ed7953"
             ],
             [
              0.7777777777777778,
              "#fb9f3a"
             ],
             [
              0.8888888888888888,
              "#fdca26"
             ],
             [
              1,
              "#f0f921"
             ]
            ],
            "type": "contour"
           }
          ],
          "contourcarpet": [
           {
            "colorbar": {
             "outlinewidth": 0,
             "ticks": ""
            },
            "type": "contourcarpet"
           }
          ],
          "heatmap": [
           {
            "colorbar": {
             "outlinewidth": 0,
             "ticks": ""
            },
            "colorscale": [
             [
              0,
              "#0d0887"
             ],
             [
              0.1111111111111111,
              "#46039f"
             ],
             [
              0.2222222222222222,
              "#7201a8"
             ],
             [
              0.3333333333333333,
              "#9c179e"
             ],
             [
              0.4444444444444444,
              "#bd3786"
             ],
             [
              0.5555555555555556,
              "#d8576b"
             ],
             [
              0.6666666666666666,
              "#ed7953"
             ],
             [
              0.7777777777777778,
              "#fb9f3a"
             ],
             [
              0.8888888888888888,
              "#fdca26"
             ],
             [
              1,
              "#f0f921"
             ]
            ],
            "type": "heatmap"
           }
          ],
          "heatmapgl": [
           {
            "colorbar": {
             "outlinewidth": 0,
             "ticks": ""
            },
            "colorscale": [
             [
              0,
              "#0d0887"
             ],
             [
              0.1111111111111111,
              "#46039f"
             ],
             [
              0.2222222222222222,
              "#7201a8"
             ],
             [
              0.3333333333333333,
              "#9c179e"
             ],
             [
              0.4444444444444444,
              "#bd3786"
             ],
             [
              0.5555555555555556,
              "#d8576b"
             ],
             [
              0.6666666666666666,
              "#ed7953"
             ],
             [
              0.7777777777777778,
              "#fb9f3a"
             ],
             [
              0.8888888888888888,
              "#fdca26"
             ],
             [
              1,
              "#f0f921"
             ]
            ],
            "type": "heatmapgl"
           }
          ],
          "histogram": [
           {
            "marker": {
             "pattern": {
              "fillmode": "overlay",
              "size": 10,
              "solidity": 0.2
             }
            },
            "type": "histogram"
           }
          ],
          "histogram2d": [
           {
            "colorbar": {
             "outlinewidth": 0,
             "ticks": ""
            },
            "colorscale": [
             [
              0,
              "#0d0887"
             ],
             [
              0.1111111111111111,
              "#46039f"
             ],
             [
              0.2222222222222222,
              "#7201a8"
             ],
             [
              0.3333333333333333,
              "#9c179e"
             ],
             [
              0.4444444444444444,
              "#bd3786"
             ],
             [
              0.5555555555555556,
              "#d8576b"
             ],
             [
              0.6666666666666666,
              "#ed7953"
             ],
             [
              0.7777777777777778,
              "#fb9f3a"
             ],
             [
              0.8888888888888888,
              "#fdca26"
             ],
             [
              1,
              "#f0f921"
             ]
            ],
            "type": "histogram2d"
           }
          ],
          "histogram2dcontour": [
           {
            "colorbar": {
             "outlinewidth": 0,
             "ticks": ""
            },
            "colorscale": [
             [
              0,
              "#0d0887"
             ],
             [
              0.1111111111111111,
              "#46039f"
             ],
             [
              0.2222222222222222,
              "#7201a8"
             ],
             [
              0.3333333333333333,
              "#9c179e"
             ],
             [
              0.4444444444444444,
              "#bd3786"
             ],
             [
              0.5555555555555556,
              "#d8576b"
             ],
             [
              0.6666666666666666,
              "#ed7953"
             ],
             [
              0.7777777777777778,
              "#fb9f3a"
             ],
             [
              0.8888888888888888,
              "#fdca26"
             ],
             [
              1,
              "#f0f921"
             ]
            ],
            "type": "histogram2dcontour"
           }
          ],
          "mesh3d": [
           {
            "colorbar": {
             "outlinewidth": 0,
             "ticks": ""
            },
            "type": "mesh3d"
           }
          ],
          "parcoords": [
           {
            "line": {
             "colorbar": {
              "outlinewidth": 0,
              "ticks": ""
             }
            },
            "type": "parcoords"
           }
          ],
          "pie": [
           {
            "automargin": true,
            "type": "pie"
           }
          ],
          "scatter": [
           {
            "fillpattern": {
             "fillmode": "overlay",
             "size": 10,
             "solidity": 0.2
            },
            "type": "scatter"
           }
          ],
          "scatter3d": [
           {
            "line": {
             "colorbar": {
              "outlinewidth": 0,
              "ticks": ""
             }
            },
            "marker": {
             "colorbar": {
              "outlinewidth": 0,
              "ticks": ""
             }
            },
            "type": "scatter3d"
           }
          ],
          "scattercarpet": [
           {
            "marker": {
             "colorbar": {
              "outlinewidth": 0,
              "ticks": ""
             }
            },
            "type": "scattercarpet"
           }
          ],
          "scattergeo": [
           {
            "marker": {
             "colorbar": {
              "outlinewidth": 0,
              "ticks": ""
             }
            },
            "type": "scattergeo"
           }
          ],
          "scattergl": [
           {
            "marker": {
             "colorbar": {
              "outlinewidth": 0,
              "ticks": ""
             }
            },
            "type": "scattergl"
           }
          ],
          "scattermapbox": [
           {
            "marker": {
             "colorbar": {
              "outlinewidth": 0,
              "ticks": ""
             }
            },
            "type": "scattermapbox"
           }
          ],
          "scatterpolar": [
           {
            "marker": {
             "colorbar": {
              "outlinewidth": 0,
              "ticks": ""
             }
            },
            "type": "scatterpolar"
           }
          ],
          "scatterpolargl": [
           {
            "marker": {
             "colorbar": {
              "outlinewidth": 0,
              "ticks": ""
             }
            },
            "type": "scatterpolargl"
           }
          ],
          "scatterternary": [
           {
            "marker": {
             "colorbar": {
              "outlinewidth": 0,
              "ticks": ""
             }
            },
            "type": "scatterternary"
           }
          ],
          "surface": [
           {
            "colorbar": {
             "outlinewidth": 0,
             "ticks": ""
            },
            "colorscale": [
             [
              0,
              "#0d0887"
             ],
             [
              0.1111111111111111,
              "#46039f"
             ],
             [
              0.2222222222222222,
              "#7201a8"
             ],
             [
              0.3333333333333333,
              "#9c179e"
             ],
             [
              0.4444444444444444,
              "#bd3786"
             ],
             [
              0.5555555555555556,
              "#d8576b"
             ],
             [
              0.6666666666666666,
              "#ed7953"
             ],
             [
              0.7777777777777778,
              "#fb9f3a"
             ],
             [
              0.8888888888888888,
              "#fdca26"
             ],
             [
              1,
              "#f0f921"
             ]
            ],
            "type": "surface"
           }
          ],
          "table": [
           {
            "cells": {
             "fill": {
              "color": "#EBF0F8"
             },
             "line": {
              "color": "white"
             }
            },
            "header": {
             "fill": {
              "color": "#C8D4E3"
             },
             "line": {
              "color": "white"
             }
            },
            "type": "table"
           }
          ]
         },
         "layout": {
          "annotationdefaults": {
           "arrowcolor": "#2a3f5f",
           "arrowhead": 0,
           "arrowwidth": 1
          },
          "autotypenumbers": "strict",
          "coloraxis": {
           "colorbar": {
            "outlinewidth": 0,
            "ticks": ""
           }
          },
          "colorscale": {
           "diverging": [
            [
             0,
             "#8e0152"
            ],
            [
             0.1,
             "#c51b7d"
            ],
            [
             0.2,
             "#de77ae"
            ],
            [
             0.3,
             "#f1b6da"
            ],
            [
             0.4,
             "#fde0ef"
            ],
            [
             0.5,
             "#f7f7f7"
            ],
            [
             0.6,
             "#e6f5d0"
            ],
            [
             0.7,
             "#b8e186"
            ],
            [
             0.8,
             "#7fbc41"
            ],
            [
             0.9,
             "#4d9221"
            ],
            [
             1,
             "#276419"
            ]
           ],
           "sequential": [
            [
             0,
             "#0d0887"
            ],
            [
             0.1111111111111111,
             "#46039f"
            ],
            [
             0.2222222222222222,
             "#7201a8"
            ],
            [
             0.3333333333333333,
             "#9c179e"
            ],
            [
             0.4444444444444444,
             "#bd3786"
            ],
            [
             0.5555555555555556,
             "#d8576b"
            ],
            [
             0.6666666666666666,
             "#ed7953"
            ],
            [
             0.7777777777777778,
             "#fb9f3a"
            ],
            [
             0.8888888888888888,
             "#fdca26"
            ],
            [
             1,
             "#f0f921"
            ]
           ],
           "sequentialminus": [
            [
             0,
             "#0d0887"
            ],
            [
             0.1111111111111111,
             "#46039f"
            ],
            [
             0.2222222222222222,
             "#7201a8"
            ],
            [
             0.3333333333333333,
             "#9c179e"
            ],
            [
             0.4444444444444444,
             "#bd3786"
            ],
            [
             0.5555555555555556,
             "#d8576b"
            ],
            [
             0.6666666666666666,
             "#ed7953"
            ],
            [
             0.7777777777777778,
             "#fb9f3a"
            ],
            [
             0.8888888888888888,
             "#fdca26"
            ],
            [
             1,
             "#f0f921"
            ]
           ]
          },
          "colorway": [
           "#636efa",
           "#EF553B",
           "#00cc96",
           "#ab63fa",
           "#FFA15A",
           "#19d3f3",
           "#FF6692",
           "#B6E880",
           "#FF97FF",
           "#FECB52"
          ],
          "font": {
           "color": "#2a3f5f"
          },
          "geo": {
           "bgcolor": "white",
           "lakecolor": "white",
           "landcolor": "#E5ECF6",
           "showlakes": true,
           "showland": true,
           "subunitcolor": "white"
          },
          "hoverlabel": {
           "align": "left"
          },
          "hovermode": "closest",
          "mapbox": {
           "style": "light"
          },
          "paper_bgcolor": "white",
          "plot_bgcolor": "#E5ECF6",
          "polar": {
           "angularaxis": {
            "gridcolor": "white",
            "linecolor": "white",
            "ticks": ""
           },
           "bgcolor": "#E5ECF6",
           "radialaxis": {
            "gridcolor": "white",
            "linecolor": "white",
            "ticks": ""
           }
          },
          "scene": {
           "xaxis": {
            "backgroundcolor": "#E5ECF6",
            "gridcolor": "white",
            "gridwidth": 2,
            "linecolor": "white",
            "showbackground": true,
            "ticks": "",
            "zerolinecolor": "white"
           },
           "yaxis": {
            "backgroundcolor": "#E5ECF6",
            "gridcolor": "white",
            "gridwidth": 2,
            "linecolor": "white",
            "showbackground": true,
            "ticks": "",
            "zerolinecolor": "white"
           },
           "zaxis": {
            "backgroundcolor": "#E5ECF6",
            "gridcolor": "white",
            "gridwidth": 2,
            "linecolor": "white",
            "showbackground": true,
            "ticks": "",
            "zerolinecolor": "white"
           }
          },
          "shapedefaults": {
           "line": {
            "color": "#2a3f5f"
           }
          },
          "ternary": {
           "aaxis": {
            "gridcolor": "white",
            "linecolor": "white",
            "ticks": ""
           },
           "baxis": {
            "gridcolor": "white",
            "linecolor": "white",
            "ticks": ""
           },
           "bgcolor": "#E5ECF6",
           "caxis": {
            "gridcolor": "white",
            "linecolor": "white",
            "ticks": ""
           }
          },
          "title": {
           "x": 0.05
          },
          "xaxis": {
           "automargin": true,
           "gridcolor": "white",
           "linecolor": "white",
           "ticks": "",
           "title": {
            "standoff": 15
           },
           "zerolinecolor": "white",
           "zerolinewidth": 2
          },
          "yaxis": {
           "automargin": true,
           "gridcolor": "white",
           "linecolor": "white",
           "ticks": "",
           "title": {
            "standoff": 15
           },
           "zerolinecolor": "white",
           "zerolinewidth": 2
          }
         }
        },
        "title": {
         "text": "Boxplot of household electrical consumption"
        },
        "xaxis": {
         "anchor": "y",
         "autorange": true,
         "domain": [
          0,
          1
         ],
         "range": [
          358.25,
          613.25
         ],
         "title": {
          "text": "kwh_per_acc"
         },
         "type": "linear"
        },
        "yaxis": {
         "anchor": "x",
         "autorange": true,
         "domain": [
          0,
          1
         ],
         "range": [
          -0.5,
          0.5
         ],
         "type": "category"
        }
       }
      },
      "text/html": [
       "<div>                            <div id=\"19b268bf-275d-4655-8c93-29e37a504c8e\" class=\"plotly-graph-div\" style=\"height:525px; width:100%;\"></div>            <script type=\"text/javascript\">                require([\"plotly\"], function(Plotly) {                    window.PLOTLYENV=window.PLOTLYENV || {};                                    if (document.getElementById(\"19b268bf-275d-4655-8c93-29e37a504c8e\")) {                    Plotly.newPlot(                        \"19b268bf-275d-4655-8c93-29e37a504c8e\",                        [{\"alignmentgroup\":\"True\",\"customdata\":[[\"2005-01-01T00:00:00\"],[\"2005-02-01T00:00:00\"],[\"2005-03-01T00:00:00\"],[\"2005-04-01T00:00:00\"],[\"2005-05-01T00:00:00\"],[\"2005-06-01T00:00:00\"],[\"2005-07-01T00:00:00\"],[\"2005-08-01T00:00:00\"],[\"2005-09-01T00:00:00\"],[\"2005-10-01T00:00:00\"],[\"2005-11-01T00:00:00\"],[\"2005-12-01T00:00:00\"],[\"2006-01-01T00:00:00\"],[\"2006-02-01T00:00:00\"],[\"2006-03-01T00:00:00\"],[\"2006-04-01T00:00:00\"],[\"2006-05-01T00:00:00\"],[\"2006-06-01T00:00:00\"],[\"2006-07-01T00:00:00\"],[\"2006-08-01T00:00:00\"],[\"2006-09-01T00:00:00\"],[\"2006-10-01T00:00:00\"],[\"2006-11-01T00:00:00\"],[\"2006-12-01T00:00:00\"],[\"2007-01-01T00:00:00\"],[\"2007-02-01T00:00:00\"],[\"2007-03-01T00:00:00\"],[\"2007-04-01T00:00:00\"],[\"2007-05-01T00:00:00\"],[\"2007-06-01T00:00:00\"],[\"2007-07-01T00:00:00\"],[\"2007-08-01T00:00:00\"],[\"2007-09-01T00:00:00\"],[\"2007-10-01T00:00:00\"],[\"2007-11-01T00:00:00\"],[\"2007-12-01T00:00:00\"],[\"2008-01-01T00:00:00\"],[\"2008-02-01T00:00:00\"],[\"2008-03-01T00:00:00\"],[\"2008-04-01T00:00:00\"],[\"2008-05-01T00:00:00\"],[\"2008-06-01T00:00:00\"],[\"2008-07-01T00:00:00\"],[\"2008-08-01T00:00:00\"],[\"2008-09-01T00:00:00\"],[\"2008-10-01T00:00:00\"],[\"2008-11-01T00:00:00\"],[\"2008-12-01T00:00:00\"],[\"2009-01-01T00:00:00\"],[\"2009-02-01T00:00:00\"],[\"2009-03-01T00:00:00\"],[\"2009-04-01T00:00:00\"],[\"2009-05-01T00:00:00\"],[\"2009-06-01T00:00:00\"],[\"2009-07-01T00:00:00\"],[\"2009-08-01T00:00:00\"],[\"2009-09-01T00:00:00\"],[\"2009-10-01T00:00:00\"],[\"2009-11-01T00:00:00\"],[\"2009-12-01T00:00:00\"],[\"2010-01-01T00:00:00\"],[\"2010-02-01T00:00:00\"],[\"2010-03-01T00:00:00\"],[\"2010-04-01T00:00:00\"],[\"2010-05-01T00:00:00\"],[\"2010-06-01T00:00:00\"],[\"2010-07-01T00:00:00\"],[\"2010-08-01T00:00:00\"],[\"2010-09-01T00:00:00\"],[\"2010-10-01T00:00:00\"],[\"2010-11-01T00:00:00\"],[\"2010-12-01T00:00:00\"],[\"2011-01-01T00:00:00\"],[\"2011-02-01T00:00:00\"],[\"2011-03-01T00:00:00\"],[\"2011-04-01T00:00:00\"],[\"2011-05-01T00:00:00\"],[\"2011-06-01T00:00:00\"],[\"2011-07-01T00:00:00\"],[\"2011-08-01T00:00:00\"],[\"2011-09-01T00:00:00\"],[\"2011-10-01T00:00:00\"],[\"2011-11-01T00:00:00\"],[\"2011-12-01T00:00:00\"],[\"2012-01-01T00:00:00\"],[\"2012-02-01T00:00:00\"],[\"2012-03-01T00:00:00\"],[\"2012-04-01T00:00:00\"],[\"2012-05-01T00:00:00\"],[\"2012-06-01T00:00:00\"],[\"2012-07-01T00:00:00\"],[\"2012-08-01T00:00:00\"],[\"2012-09-01T00:00:00\"],[\"2012-10-01T00:00:00\"],[\"2012-11-01T00:00:00\"],[\"2012-12-01T00:00:00\"],[\"2013-01-01T00:00:00\"],[\"2013-02-01T00:00:00\"],[\"2013-03-01T00:00:00\"],[\"2013-04-01T00:00:00\"],[\"2013-05-01T00:00:00\"],[\"2013-06-01T00:00:00\"],[\"2013-07-01T00:00:00\"],[\"2013-08-01T00:00:00\"],[\"2013-09-01T00:00:00\"],[\"2013-10-01T00:00:00\"],[\"2013-11-01T00:00:00\"],[\"2013-12-01T00:00:00\"],[\"2014-01-01T00:00:00\"],[\"2014-02-01T00:00:00\"],[\"2014-03-01T00:00:00\"],[\"2014-04-01T00:00:00\"],[\"2014-05-01T00:00:00\"],[\"2014-06-01T00:00:00\"],[\"2014-07-01T00:00:00\"],[\"2014-08-01T00:00:00\"],[\"2014-09-01T00:00:00\"],[\"2014-10-01T00:00:00\"],[\"2014-11-01T00:00:00\"],[\"2014-12-01T00:00:00\"],[\"2015-01-01T00:00:00\"],[\"2015-02-01T00:00:00\"],[\"2015-03-01T00:00:00\"],[\"2015-04-01T00:00:00\"],[\"2015-05-01T00:00:00\"],[\"2015-06-01T00:00:00\"],[\"2015-07-01T00:00:00\"],[\"2015-08-01T00:00:00\"],[\"2015-09-01T00:00:00\"],[\"2015-10-01T00:00:00\"],[\"2015-11-01T00:00:00\"],[\"2015-12-01T00:00:00\"],[\"2016-01-01T00:00:00\"],[\"2016-02-01T00:00:00\"],[\"2016-03-01T00:00:00\"],[\"2016-04-01T00:00:00\"],[\"2016-05-01T00:00:00\"],[\"2016-06-01T00:00:00\"],[\"2016-07-01T00:00:00\"],[\"2016-08-01T00:00:00\"],[\"2016-09-01T00:00:00\"],[\"2016-10-01T00:00:00\"],[\"2016-11-01T00:00:00\"],[\"2016-12-01T00:00:00\"],[\"2017-01-01T00:00:00\"],[\"2017-02-01T00:00:00\"],[\"2017-03-01T00:00:00\"],[\"2017-04-01T00:00:00\"],[\"2017-05-01T00:00:00\"],[\"2017-06-01T00:00:00\"],[\"2017-07-01T00:00:00\"],[\"2017-08-01T00:00:00\"],[\"2017-09-01T00:00:00\"],[\"2017-10-01T00:00:00\"],[\"2017-11-01T00:00:00\"],[\"2017-12-01T00:00:00\"],[\"2018-01-01T00:00:00\"],[\"2018-02-01T00:00:00\"],[\"2018-03-01T00:00:00\"],[\"2018-04-01T00:00:00\"],[\"2018-05-01T00:00:00\"],[\"2018-06-01T00:00:00\"],[\"2018-07-01T00:00:00\"],[\"2018-08-01T00:00:00\"],[\"2018-09-01T00:00:00\"],[\"2018-10-01T00:00:00\"],[\"2018-11-01T00:00:00\"],[\"2018-12-01T00:00:00\"],[\"2019-01-01T00:00:00\"],[\"2019-02-01T00:00:00\"],[\"2019-03-01T00:00:00\"],[\"2019-04-01T00:00:00\"],[\"2019-05-01T00:00:00\"],[\"2019-06-01T00:00:00\"],[\"2019-07-01T00:00:00\"],[\"2019-08-01T00:00:00\"],[\"2019-09-01T00:00:00\"],[\"2019-10-01T00:00:00\"],[\"2019-11-01T00:00:00\"],[\"2019-12-01T00:00:00\"],[\"2020-01-01T00:00:00\"],[\"2020-02-01T00:00:00\"],[\"2020-03-01T00:00:00\"],[\"2020-04-01T00:00:00\"],[\"2020-05-01T00:00:00\"],[\"2020-06-01T00:00:00\"],[\"2020-07-01T00:00:00\"],[\"2020-08-01T00:00:00\"],[\"2020-09-01T00:00:00\"],[\"2020-10-01T00:00:00\"],[\"2020-11-01T00:00:00\"],[\"2020-12-01T00:00:00\"],[\"2021-01-01T00:00:00\"],[\"2021-02-01T00:00:00\"],[\"2021-03-01T00:00:00\"],[\"2021-04-01T00:00:00\"],[\"2021-05-01T00:00:00\"],[\"2021-06-01T00:00:00\"],[\"2021-07-01T00:00:00\"],[\"2021-08-01T00:00:00\"],[\"2021-09-01T00:00:00\"],[\"2021-10-01T00:00:00\"],[\"2021-11-01T00:00:00\"],[\"2021-12-01T00:00:00\"],[\"2022-01-01T00:00:00\"],[\"2022-02-01T00:00:00\"],[\"2022-03-01T00:00:00\"],[\"2022-04-01T00:00:00\"],[\"2022-05-01T00:00:00\"],[\"2022-06-01T00:00:00\"]],\"hovertemplate\":\"kwh_per_acc=%{x}\\u003cbr\\u003edate=%{customdata[0]}\\u003cextra\\u003e\\u003c\\u002fextra\\u003e\",\"legendgroup\":\"\",\"marker\":{\"color\":\"#636efa\"},\"name\":\"\",\"notched\":false,\"offsetgroup\":\"\",\"orientation\":\"h\",\"showlegend\":false,\"x\":[418.1,408.3,446.9,496.2,496.8,519.7,497.7,489.3,477.7,480.8,479.7,441.6,430.5,418.2,433.6,472.2,481.2,491.1,472.6,500.8,498.7,483.3,491.2,454.1,434.0,407.2,413.5,467.1,495.8,507.8,513.8,505.8,467.8,468.2,497.9,444.9,424.0,429.0,406.8,444.3,491.0,516.3,473.8,459.1,466.8,467.9,481.0,433.0,426.7,412.5,412.0,455.3,496.1,541.9,529.2,507.1,492.5,492.5,497.5,455.9,433.4,446.1,482.1,513.5,505.4,531.5,502.4,471.9,472.0,486.9,509.6,466.3,436.2,404.1,404.0,454.5,490.1,521.0,505.5,508.6,501.4,479.3,463.8,431.9,431.1,430.9,432.2,459.1,472.5,514.0,502.9,493.9,483.2,471.1,478.0,440.3,430.2,418.9,417.4,473.9,508.1,525.1,508.6,513.0,465.9,459.0,471.1,436.8,420.2,402.5,400.0,462.4,494.6,516.2,506.6,510.0,474.7,463.5,486.8,453.0,414.7,390.6,403.3,463.7,476.3,491.0,500.4,507.9,491.8,494.2,506.8,476.6,436.0,443.2,444.8,490.5,520.7,531.7,480.7,483.8,484.1,483.9,478.9,425.6,419.5,423.9,390.4,426.6,453.6,501.7,507.5,453.7,442.8,447.4,446.5,416.4,398.0,371.0,378.5,430.0,447.2,473.4,443.4,432.8,441.9,441.4,422.0,382.0,399.7,406.7,393.5,425.3,448.4,448.1,431.9,447.4,464.4,449.7,433.4,399.0,383.1,405.5,419.7,452.2,450.3,590.4,600.5,483.3,459.2,443.9,454.6,444.8,417.6,397.9,399.0,449.4,477.4,522.2,501.7,509.5,468.5,455.4,451.6,453.5,431.1,435.3,413.1,443.6,468.9,478.4],\"x0\":\" \",\"xaxis\":\"x\",\"y0\":\" \",\"yaxis\":\"y\",\"type\":\"box\"}],                        {\"template\":{\"data\":{\"histogram2dcontour\":[{\"type\":\"histogram2dcontour\",\"colorbar\":{\"outlinewidth\":0,\"ticks\":\"\"},\"colorscale\":[[0.0,\"#0d0887\"],[0.1111111111111111,\"#46039f\"],[0.2222222222222222,\"#7201a8\"],[0.3333333333333333,\"#9c179e\"],[0.4444444444444444,\"#bd3786\"],[0.5555555555555556,\"#d8576b\"],[0.6666666666666666,\"#ed7953\"],[0.7777777777777778,\"#fb9f3a\"],[0.8888888888888888,\"#fdca26\"],[1.0,\"#f0f921\"]]}],\"choropleth\":[{\"type\":\"choropleth\",\"colorbar\":{\"outlinewidth\":0,\"ticks\":\"\"}}],\"histogram2d\":[{\"type\":\"histogram2d\",\"colorbar\":{\"outlinewidth\":0,\"ticks\":\"\"},\"colorscale\":[[0.0,\"#0d0887\"],[0.1111111111111111,\"#46039f\"],[0.2222222222222222,\"#7201a8\"],[0.3333333333333333,\"#9c179e\"],[0.4444444444444444,\"#bd3786\"],[0.5555555555555556,\"#d8576b\"],[0.6666666666666666,\"#ed7953\"],[0.7777777777777778,\"#fb9f3a\"],[0.8888888888888888,\"#fdca26\"],[1.0,\"#f0f921\"]]}],\"heatmap\":[{\"type\":\"heatmap\",\"colorbar\":{\"outlinewidth\":0,\"ticks\":\"\"},\"colorscale\":[[0.0,\"#0d0887\"],[0.1111111111111111,\"#46039f\"],[0.2222222222222222,\"#7201a8\"],[0.3333333333333333,\"#9c179e\"],[0.4444444444444444,\"#bd3786\"],[0.5555555555555556,\"#d8576b\"],[0.6666666666666666,\"#ed7953\"],[0.7777777777777778,\"#fb9f3a\"],[0.8888888888888888,\"#fdca26\"],[1.0,\"#f0f921\"]]}],\"heatmapgl\":[{\"type\":\"heatmapgl\",\"colorbar\":{\"outlinewidth\":0,\"ticks\":\"\"},\"colorscale\":[[0.0,\"#0d0887\"],[0.1111111111111111,\"#46039f\"],[0.2222222222222222,\"#7201a8\"],[0.3333333333333333,\"#9c179e\"],[0.4444444444444444,\"#bd3786\"],[0.5555555555555556,\"#d8576b\"],[0.6666666666666666,\"#ed7953\"],[0.7777777777777778,\"#fb9f3a\"],[0.8888888888888888,\"#fdca26\"],[1.0,\"#f0f921\"]]}],\"contourcarpet\":[{\"type\":\"contourcarpet\",\"colorbar\":{\"outlinewidth\":0,\"ticks\":\"\"}}],\"contour\":[{\"type\":\"contour\",\"colorbar\":{\"outlinewidth\":0,\"ticks\":\"\"},\"colorscale\":[[0.0,\"#0d0887\"],[0.1111111111111111,\"#46039f\"],[0.2222222222222222,\"#7201a8\"],[0.3333333333333333,\"#9c179e\"],[0.4444444444444444,\"#bd3786\"],[0.5555555555555556,\"#d8576b\"],[0.6666666666666666,\"#ed7953\"],[0.7777777777777778,\"#fb9f3a\"],[0.8888888888888888,\"#fdca26\"],[1.0,\"#f0f921\"]]}],\"surface\":[{\"type\":\"surface\",\"colorbar\":{\"outlinewidth\":0,\"ticks\":\"\"},\"colorscale\":[[0.0,\"#0d0887\"],[0.1111111111111111,\"#46039f\"],[0.2222222222222222,\"#7201a8\"],[0.3333333333333333,\"#9c179e\"],[0.4444444444444444,\"#bd3786\"],[0.5555555555555556,\"#d8576b\"],[0.6666666666666666,\"#ed7953\"],[0.7777777777777778,\"#fb9f3a\"],[0.8888888888888888,\"#fdca26\"],[1.0,\"#f0f921\"]]}],\"mesh3d\":[{\"type\":\"mesh3d\",\"colorbar\":{\"outlinewidth\":0,\"ticks\":\"\"}}],\"scatter\":[{\"fillpattern\":{\"fillmode\":\"overlay\",\"size\":10,\"solidity\":0.2},\"type\":\"scatter\"}],\"parcoords\":[{\"type\":\"parcoords\",\"line\":{\"colorbar\":{\"outlinewidth\":0,\"ticks\":\"\"}}}],\"scatterpolargl\":[{\"type\":\"scatterpolargl\",\"marker\":{\"colorbar\":{\"outlinewidth\":0,\"ticks\":\"\"}}}],\"bar\":[{\"error_x\":{\"color\":\"#2a3f5f\"},\"error_y\":{\"color\":\"#2a3f5f\"},\"marker\":{\"line\":{\"color\":\"#E5ECF6\",\"width\":0.5},\"pattern\":{\"fillmode\":\"overlay\",\"size\":10,\"solidity\":0.2}},\"type\":\"bar\"}],\"scattergeo\":[{\"type\":\"scattergeo\",\"marker\":{\"colorbar\":{\"outlinewidth\":0,\"ticks\":\"\"}}}],\"scatterpolar\":[{\"type\":\"scatterpolar\",\"marker\":{\"colorbar\":{\"outlinewidth\":0,\"ticks\":\"\"}}}],\"histogram\":[{\"marker\":{\"pattern\":{\"fillmode\":\"overlay\",\"size\":10,\"solidity\":0.2}},\"type\":\"histogram\"}],\"scattergl\":[{\"type\":\"scattergl\",\"marker\":{\"colorbar\":{\"outlinewidth\":0,\"ticks\":\"\"}}}],\"scatter3d\":[{\"type\":\"scatter3d\",\"line\":{\"colorbar\":{\"outlinewidth\":0,\"ticks\":\"\"}},\"marker\":{\"colorbar\":{\"outlinewidth\":0,\"ticks\":\"\"}}}],\"scattermapbox\":[{\"type\":\"scattermapbox\",\"marker\":{\"colorbar\":{\"outlinewidth\":0,\"ticks\":\"\"}}}],\"scatterternary\":[{\"type\":\"scatterternary\",\"marker\":{\"colorbar\":{\"outlinewidth\":0,\"ticks\":\"\"}}}],\"scattercarpet\":[{\"type\":\"scattercarpet\",\"marker\":{\"colorbar\":{\"outlinewidth\":0,\"ticks\":\"\"}}}],\"carpet\":[{\"aaxis\":{\"endlinecolor\":\"#2a3f5f\",\"gridcolor\":\"white\",\"linecolor\":\"white\",\"minorgridcolor\":\"white\",\"startlinecolor\":\"#2a3f5f\"},\"baxis\":{\"endlinecolor\":\"#2a3f5f\",\"gridcolor\":\"white\",\"linecolor\":\"white\",\"minorgridcolor\":\"white\",\"startlinecolor\":\"#2a3f5f\"},\"type\":\"carpet\"}],\"table\":[{\"cells\":{\"fill\":{\"color\":\"#EBF0F8\"},\"line\":{\"color\":\"white\"}},\"header\":{\"fill\":{\"color\":\"#C8D4E3\"},\"line\":{\"color\":\"white\"}},\"type\":\"table\"}],\"barpolar\":[{\"marker\":{\"line\":{\"color\":\"#E5ECF6\",\"width\":0.5},\"pattern\":{\"fillmode\":\"overlay\",\"size\":10,\"solidity\":0.2}},\"type\":\"barpolar\"}],\"pie\":[{\"automargin\":true,\"type\":\"pie\"}]},\"layout\":{\"autotypenumbers\":\"strict\",\"colorway\":[\"#636efa\",\"#EF553B\",\"#00cc96\",\"#ab63fa\",\"#FFA15A\",\"#19d3f3\",\"#FF6692\",\"#B6E880\",\"#FF97FF\",\"#FECB52\"],\"font\":{\"color\":\"#2a3f5f\"},\"hovermode\":\"closest\",\"hoverlabel\":{\"align\":\"left\"},\"paper_bgcolor\":\"white\",\"plot_bgcolor\":\"#E5ECF6\",\"polar\":{\"bgcolor\":\"#E5ECF6\",\"angularaxis\":{\"gridcolor\":\"white\",\"linecolor\":\"white\",\"ticks\":\"\"},\"radialaxis\":{\"gridcolor\":\"white\",\"linecolor\":\"white\",\"ticks\":\"\"}},\"ternary\":{\"bgcolor\":\"#E5ECF6\",\"aaxis\":{\"gridcolor\":\"white\",\"linecolor\":\"white\",\"ticks\":\"\"},\"baxis\":{\"gridcolor\":\"white\",\"linecolor\":\"white\",\"ticks\":\"\"},\"caxis\":{\"gridcolor\":\"white\",\"linecolor\":\"white\",\"ticks\":\"\"}},\"coloraxis\":{\"colorbar\":{\"outlinewidth\":0,\"ticks\":\"\"}},\"colorscale\":{\"sequential\":[[0.0,\"#0d0887\"],[0.1111111111111111,\"#46039f\"],[0.2222222222222222,\"#7201a8\"],[0.3333333333333333,\"#9c179e\"],[0.4444444444444444,\"#bd3786\"],[0.5555555555555556,\"#d8576b\"],[0.6666666666666666,\"#ed7953\"],[0.7777777777777778,\"#fb9f3a\"],[0.8888888888888888,\"#fdca26\"],[1.0,\"#f0f921\"]],\"sequentialminus\":[[0.0,\"#0d0887\"],[0.1111111111111111,\"#46039f\"],[0.2222222222222222,\"#7201a8\"],[0.3333333333333333,\"#9c179e\"],[0.4444444444444444,\"#bd3786\"],[0.5555555555555556,\"#d8576b\"],[0.6666666666666666,\"#ed7953\"],[0.7777777777777778,\"#fb9f3a\"],[0.8888888888888888,\"#fdca26\"],[1.0,\"#f0f921\"]],\"diverging\":[[0,\"#8e0152\"],[0.1,\"#c51b7d\"],[0.2,\"#de77ae\"],[0.3,\"#f1b6da\"],[0.4,\"#fde0ef\"],[0.5,\"#f7f7f7\"],[0.6,\"#e6f5d0\"],[0.7,\"#b8e186\"],[0.8,\"#7fbc41\"],[0.9,\"#4d9221\"],[1,\"#276419\"]]},\"xaxis\":{\"gridcolor\":\"white\",\"linecolor\":\"white\",\"ticks\":\"\",\"title\":{\"standoff\":15},\"zerolinecolor\":\"white\",\"automargin\":true,\"zerolinewidth\":2},\"yaxis\":{\"gridcolor\":\"white\",\"linecolor\":\"white\",\"ticks\":\"\",\"title\":{\"standoff\":15},\"zerolinecolor\":\"white\",\"automargin\":true,\"zerolinewidth\":2},\"scene\":{\"xaxis\":{\"backgroundcolor\":\"#E5ECF6\",\"gridcolor\":\"white\",\"linecolor\":\"white\",\"showbackground\":true,\"ticks\":\"\",\"zerolinecolor\":\"white\",\"gridwidth\":2},\"yaxis\":{\"backgroundcolor\":\"#E5ECF6\",\"gridcolor\":\"white\",\"linecolor\":\"white\",\"showbackground\":true,\"ticks\":\"\",\"zerolinecolor\":\"white\",\"gridwidth\":2},\"zaxis\":{\"backgroundcolor\":\"#E5ECF6\",\"gridcolor\":\"white\",\"linecolor\":\"white\",\"showbackground\":true,\"ticks\":\"\",\"zerolinecolor\":\"white\",\"gridwidth\":2}},\"shapedefaults\":{\"line\":{\"color\":\"#2a3f5f\"}},\"annotationdefaults\":{\"arrowcolor\":\"#2a3f5f\",\"arrowhead\":0,\"arrowwidth\":1},\"geo\":{\"bgcolor\":\"white\",\"landcolor\":\"#E5ECF6\",\"subunitcolor\":\"white\",\"showland\":true,\"showlakes\":true,\"lakecolor\":\"white\"},\"title\":{\"x\":0.05},\"mapbox\":{\"style\":\"light\"}}},\"xaxis\":{\"anchor\":\"y\",\"domain\":[0.0,1.0],\"title\":{\"text\":\"kwh_per_acc\"}},\"yaxis\":{\"anchor\":\"x\",\"domain\":[0.0,1.0]},\"legend\":{\"tracegroupgap\":0},\"title\":{\"text\":\"Boxplot of household electrical consumption\"},\"boxmode\":\"group\"},                        {\"responsive\": true}                    ).then(function(){\n",
       "                            \n",
       "var gd = document.getElementById('19b268bf-275d-4655-8c93-29e37a504c8e');\n",
       "var x = new MutationObserver(function (mutations, observer) {{\n",
       "        var display = window.getComputedStyle(gd).display;\n",
       "        if (!display || display === 'none') {{\n",
       "            console.log([gd, 'removed!']);\n",
       "            Plotly.purge(gd);\n",
       "            observer.disconnect();\n",
       "        }}\n",
       "}});\n",
       "\n",
       "// Listen for the removal of the full notebook cells\n",
       "var notebookContainer = gd.closest('#notebook-container');\n",
       "if (notebookContainer) {{\n",
       "    x.observe(notebookContainer, {childList: true});\n",
       "}}\n",
       "\n",
       "// Listen for the clearing of the current output cell\n",
       "var outputEl = gd.closest('.output');\n",
       "if (outputEl) {{\n",
       "    x.observe(outputEl, {childList: true});\n",
       "}}\n",
       "\n",
       "                        })                };                });            </script>        </div>"
      ]
     },
     "metadata": {},
     "output_type": "display_data"
    }
   ],
   "source": [
    "boxplt = px.box(elec, x = 'kwh_per_acc', hover_data=[\"date\"], title = 'Boxplot of household electrical consumption')\n",
    "boxplt.show()"
   ]
  },
  {
   "cell_type": "markdown",
   "metadata": {},
   "source": [
    "*Interpretation: By hovering over the boxplot, we can see the value of the lower and upper fences, as well as the quartiles. By hovering over the outliers, we can see that the two outliers are in the months of June and July 2020. This corresponds to the two outliers identified earlier.*"
   ]
  },
  {
   "cell_type": "code",
   "execution_count": 139,
   "metadata": {},
   "outputs": [
    {
     "data": {
      "application/vnd.plotly.v1+json": {
       "config": {
        "plotlyServerURL": "https://plot.ly"
       },
       "data": [
        {
         "alignmentgroup": "True",
         "customdata": [
          [
           "2005-01-01T00:00:00"
          ],
          [
           "2005-02-01T00:00:00"
          ],
          [
           "2005-03-01T00:00:00"
          ],
          [
           "2005-04-01T00:00:00"
          ],
          [
           "2005-05-01T00:00:00"
          ],
          [
           "2005-06-01T00:00:00"
          ],
          [
           "2005-07-01T00:00:00"
          ],
          [
           "2005-08-01T00:00:00"
          ],
          [
           "2005-09-01T00:00:00"
          ],
          [
           "2005-10-01T00:00:00"
          ],
          [
           "2005-11-01T00:00:00"
          ],
          [
           "2005-12-01T00:00:00"
          ],
          [
           "2006-01-01T00:00:00"
          ],
          [
           "2006-02-01T00:00:00"
          ],
          [
           "2006-03-01T00:00:00"
          ],
          [
           "2006-04-01T00:00:00"
          ],
          [
           "2006-05-01T00:00:00"
          ],
          [
           "2006-06-01T00:00:00"
          ],
          [
           "2006-07-01T00:00:00"
          ],
          [
           "2006-08-01T00:00:00"
          ],
          [
           "2006-09-01T00:00:00"
          ],
          [
           "2006-10-01T00:00:00"
          ],
          [
           "2006-11-01T00:00:00"
          ],
          [
           "2006-12-01T00:00:00"
          ],
          [
           "2007-01-01T00:00:00"
          ],
          [
           "2007-02-01T00:00:00"
          ],
          [
           "2007-03-01T00:00:00"
          ],
          [
           "2007-04-01T00:00:00"
          ],
          [
           "2007-05-01T00:00:00"
          ],
          [
           "2007-06-01T00:00:00"
          ],
          [
           "2007-07-01T00:00:00"
          ],
          [
           "2007-08-01T00:00:00"
          ],
          [
           "2007-09-01T00:00:00"
          ],
          [
           "2007-10-01T00:00:00"
          ],
          [
           "2007-11-01T00:00:00"
          ],
          [
           "2007-12-01T00:00:00"
          ],
          [
           "2008-01-01T00:00:00"
          ],
          [
           "2008-02-01T00:00:00"
          ],
          [
           "2008-03-01T00:00:00"
          ],
          [
           "2008-04-01T00:00:00"
          ],
          [
           "2008-05-01T00:00:00"
          ],
          [
           "2008-06-01T00:00:00"
          ],
          [
           "2008-07-01T00:00:00"
          ],
          [
           "2008-08-01T00:00:00"
          ],
          [
           "2008-09-01T00:00:00"
          ],
          [
           "2008-10-01T00:00:00"
          ],
          [
           "2008-11-01T00:00:00"
          ],
          [
           "2008-12-01T00:00:00"
          ],
          [
           "2009-01-01T00:00:00"
          ],
          [
           "2009-02-01T00:00:00"
          ],
          [
           "2009-03-01T00:00:00"
          ],
          [
           "2009-04-01T00:00:00"
          ],
          [
           "2009-05-01T00:00:00"
          ],
          [
           "2009-06-01T00:00:00"
          ],
          [
           "2009-07-01T00:00:00"
          ],
          [
           "2009-08-01T00:00:00"
          ],
          [
           "2009-09-01T00:00:00"
          ],
          [
           "2009-10-01T00:00:00"
          ],
          [
           "2009-11-01T00:00:00"
          ],
          [
           "2009-12-01T00:00:00"
          ],
          [
           "2010-01-01T00:00:00"
          ],
          [
           "2010-02-01T00:00:00"
          ],
          [
           "2010-03-01T00:00:00"
          ],
          [
           "2010-04-01T00:00:00"
          ],
          [
           "2010-05-01T00:00:00"
          ],
          [
           "2010-06-01T00:00:00"
          ],
          [
           "2010-07-01T00:00:00"
          ],
          [
           "2010-08-01T00:00:00"
          ],
          [
           "2010-09-01T00:00:00"
          ],
          [
           "2010-10-01T00:00:00"
          ],
          [
           "2010-11-01T00:00:00"
          ],
          [
           "2010-12-01T00:00:00"
          ],
          [
           "2011-01-01T00:00:00"
          ],
          [
           "2011-02-01T00:00:00"
          ],
          [
           "2011-03-01T00:00:00"
          ],
          [
           "2011-04-01T00:00:00"
          ],
          [
           "2011-05-01T00:00:00"
          ],
          [
           "2011-06-01T00:00:00"
          ],
          [
           "2011-07-01T00:00:00"
          ],
          [
           "2011-08-01T00:00:00"
          ],
          [
           "2011-09-01T00:00:00"
          ],
          [
           "2011-10-01T00:00:00"
          ],
          [
           "2011-11-01T00:00:00"
          ],
          [
           "2011-12-01T00:00:00"
          ],
          [
           "2012-01-01T00:00:00"
          ],
          [
           "2012-02-01T00:00:00"
          ],
          [
           "2012-03-01T00:00:00"
          ],
          [
           "2012-04-01T00:00:00"
          ],
          [
           "2012-05-01T00:00:00"
          ],
          [
           "2012-06-01T00:00:00"
          ],
          [
           "2012-07-01T00:00:00"
          ],
          [
           "2012-08-01T00:00:00"
          ],
          [
           "2012-09-01T00:00:00"
          ],
          [
           "2012-10-01T00:00:00"
          ],
          [
           "2012-11-01T00:00:00"
          ],
          [
           "2012-12-01T00:00:00"
          ],
          [
           "2013-01-01T00:00:00"
          ],
          [
           "2013-02-01T00:00:00"
          ],
          [
           "2013-03-01T00:00:00"
          ],
          [
           "2013-04-01T00:00:00"
          ],
          [
           "2013-05-01T00:00:00"
          ],
          [
           "2013-06-01T00:00:00"
          ],
          [
           "2013-07-01T00:00:00"
          ],
          [
           "2013-08-01T00:00:00"
          ],
          [
           "2013-09-01T00:00:00"
          ],
          [
           "2013-10-01T00:00:00"
          ],
          [
           "2013-11-01T00:00:00"
          ],
          [
           "2013-12-01T00:00:00"
          ],
          [
           "2014-01-01T00:00:00"
          ],
          [
           "2014-02-01T00:00:00"
          ],
          [
           "2014-03-01T00:00:00"
          ],
          [
           "2014-04-01T00:00:00"
          ],
          [
           "2014-05-01T00:00:00"
          ],
          [
           "2014-06-01T00:00:00"
          ],
          [
           "2014-07-01T00:00:00"
          ],
          [
           "2014-08-01T00:00:00"
          ],
          [
           "2014-09-01T00:00:00"
          ],
          [
           "2014-10-01T00:00:00"
          ],
          [
           "2014-11-01T00:00:00"
          ],
          [
           "2014-12-01T00:00:00"
          ],
          [
           "2015-01-01T00:00:00"
          ],
          [
           "2015-02-01T00:00:00"
          ],
          [
           "2015-03-01T00:00:00"
          ],
          [
           "2015-04-01T00:00:00"
          ],
          [
           "2015-05-01T00:00:00"
          ],
          [
           "2015-06-01T00:00:00"
          ],
          [
           "2015-07-01T00:00:00"
          ],
          [
           "2015-08-01T00:00:00"
          ],
          [
           "2015-09-01T00:00:00"
          ],
          [
           "2015-10-01T00:00:00"
          ],
          [
           "2015-11-01T00:00:00"
          ],
          [
           "2015-12-01T00:00:00"
          ],
          [
           "2016-01-01T00:00:00"
          ],
          [
           "2016-02-01T00:00:00"
          ],
          [
           "2016-03-01T00:00:00"
          ],
          [
           "2016-04-01T00:00:00"
          ],
          [
           "2016-05-01T00:00:00"
          ],
          [
           "2016-06-01T00:00:00"
          ],
          [
           "2016-07-01T00:00:00"
          ],
          [
           "2016-08-01T00:00:00"
          ],
          [
           "2016-09-01T00:00:00"
          ],
          [
           "2016-10-01T00:00:00"
          ],
          [
           "2016-11-01T00:00:00"
          ],
          [
           "2016-12-01T00:00:00"
          ],
          [
           "2017-01-01T00:00:00"
          ],
          [
           "2017-02-01T00:00:00"
          ],
          [
           "2017-03-01T00:00:00"
          ],
          [
           "2017-04-01T00:00:00"
          ],
          [
           "2017-05-01T00:00:00"
          ],
          [
           "2017-06-01T00:00:00"
          ],
          [
           "2017-07-01T00:00:00"
          ],
          [
           "2017-08-01T00:00:00"
          ],
          [
           "2017-09-01T00:00:00"
          ],
          [
           "2017-10-01T00:00:00"
          ],
          [
           "2017-11-01T00:00:00"
          ],
          [
           "2017-12-01T00:00:00"
          ],
          [
           "2018-01-01T00:00:00"
          ],
          [
           "2018-02-01T00:00:00"
          ],
          [
           "2018-03-01T00:00:00"
          ],
          [
           "2018-04-01T00:00:00"
          ],
          [
           "2018-05-01T00:00:00"
          ],
          [
           "2018-06-01T00:00:00"
          ],
          [
           "2018-07-01T00:00:00"
          ],
          [
           "2018-08-01T00:00:00"
          ],
          [
           "2018-09-01T00:00:00"
          ],
          [
           "2018-10-01T00:00:00"
          ],
          [
           "2018-11-01T00:00:00"
          ],
          [
           "2018-12-01T00:00:00"
          ],
          [
           "2019-01-01T00:00:00"
          ],
          [
           "2019-02-01T00:00:00"
          ],
          [
           "2019-03-01T00:00:00"
          ],
          [
           "2019-04-01T00:00:00"
          ],
          [
           "2019-05-01T00:00:00"
          ],
          [
           "2019-06-01T00:00:00"
          ],
          [
           "2019-07-01T00:00:00"
          ],
          [
           "2019-08-01T00:00:00"
          ],
          [
           "2019-09-01T00:00:00"
          ],
          [
           "2019-10-01T00:00:00"
          ],
          [
           "2019-11-01T00:00:00"
          ],
          [
           "2019-12-01T00:00:00"
          ],
          [
           "2020-01-01T00:00:00"
          ],
          [
           "2020-02-01T00:00:00"
          ],
          [
           "2020-03-01T00:00:00"
          ],
          [
           "2020-04-01T00:00:00"
          ],
          [
           "2020-05-01T00:00:00"
          ],
          [
           "2020-06-01T00:00:00"
          ],
          [
           "2020-07-01T00:00:00"
          ],
          [
           "2020-08-01T00:00:00"
          ],
          [
           "2020-09-01T00:00:00"
          ],
          [
           "2020-10-01T00:00:00"
          ],
          [
           "2020-11-01T00:00:00"
          ],
          [
           "2020-12-01T00:00:00"
          ],
          [
           "2021-01-01T00:00:00"
          ],
          [
           "2021-02-01T00:00:00"
          ],
          [
           "2021-03-01T00:00:00"
          ],
          [
           "2021-04-01T00:00:00"
          ],
          [
           "2021-05-01T00:00:00"
          ],
          [
           "2021-06-01T00:00:00"
          ],
          [
           "2021-07-01T00:00:00"
          ],
          [
           "2021-08-01T00:00:00"
          ],
          [
           "2021-09-01T00:00:00"
          ],
          [
           "2021-10-01T00:00:00"
          ],
          [
           "2021-11-01T00:00:00"
          ],
          [
           "2021-12-01T00:00:00"
          ],
          [
           "2022-01-01T00:00:00"
          ],
          [
           "2022-02-01T00:00:00"
          ],
          [
           "2022-03-01T00:00:00"
          ],
          [
           "2022-04-01T00:00:00"
          ],
          [
           "2022-05-01T00:00:00"
          ],
          [
           "2022-06-01T00:00:00"
          ]
         ],
         "hovertemplate": "total_rainfall=%{x}<br>date=%{customdata[0]}<extra></extra>",
         "legendgroup": "",
         "marker": {
          "color": "#636efa"
         },
         "name": "",
         "notched": false,
         "offsetgroup": "",
         "orientation": "h",
         "showlegend": false,
         "type": "box",
         "x": [
          163.2,
          8.4,
          82.4,
          81.7,
          331.1,
          82.3,
          104,
          58.5,
          175.7,
          314.5,
          362.9,
          166,
          454.4,
          115.5,
          83.1,
          239.8,
          205.7,
          236.8,
          153.8,
          127.3,
          83.3,
          102,
          185.6,
          765.9,
          450.1,
          105.5,
          269.1,
          240.2,
          127.2,
          139,
          141.7,
          190.7,
          149,
          237.2,
          367.9,
          468.6,
          262.6,
          129.2,
          294.1,
          87.2,
          124.9,
          118.3,
          89.1,
          327.3,
          164.4,
          159.5,
          324.3,
          244.2,
          38.3,
          201.8,
          223.3,
          183.7,
          198.6,
          21.8,
          161,
          177.8,
          109.6,
          133.4,
          281.8,
          189.8,
          69.5,
          6.3,
          238,
          158.5,
          157.5,
          240.5,
          298.5,
          158.4,
          121.5,
          166.2,
          278.8,
          181.4,
          513.2,
          23,
          256.6,
          217.8,
          127,
          213,
          76.6,
          81.4,
          136.4,
          216.8,
          377.8,
          284.6,
          106.1,
          83.6,
          313.4,
          260.6,
          292,
          53,
          130.8,
          119,
          107.6,
          122.2,
          208.2,
          363.4,
          262,
          395.2,
          85.8,
          159.4,
          211.4,
          111.4,
          174.6,
          165.6,
          257,
          285.4,
          292.4,
          348.2,
          75.4,
          0.2,
          66,
          110,
          125.8,
          71.4,
          148.6,
          241,
          83.6,
          120,
          250.8,
          245.6,
          79.6,
          18.8,
          84.4,
          73.2,
          89,
          95.8,
          116.8,
          185.8,
          61.6,
          87.2,
          72.6,
          302.3,
          126.6,
          186,
          6.2,
          89.8,
          193.8,
          162.8,
          168.6,
          139.2,
          118.9,
          181,
          290.2,
          292.6,
          197.6,
          158.4,
          136.2,
          208.6,
          190,
          106,
          79.6,
          84.2,
          124.4,
          120.8,
          268.6,
          371.2,
          287,
          14.8,
          44.6,
          61.2,
          132.2,
          182.6,
          143.2,
          121.6,
          144.4,
          234.4,
          169.6,
          172.6,
          63.6,
          31.6,
          72.2,
          174.8,
          69,
          173.8,
          12.2,
          11.8,
          22.8,
          176.8,
          137.4,
          421.5,
          88.4,
          65,
          108.8,
          188,
          255.6,
          233.8,
          140.8,
          103.4,
          150.2,
          78.8,
          220.6,
          253.2,
          692.8,
          1,
          182.4,
          290.4,
          245.8,
          93.4,
          195.8,
          293.6,
          205.4,
          177,
          312.4,
          119.6,
          99.8,
          175,
          163.2,
          239.6,
          102,
          211.8
         ],
         "x0": " ",
         "xaxis": "x",
         "y0": " ",
         "yaxis": "y"
        }
       ],
       "layout": {
        "autosize": true,
        "boxmode": "group",
        "legend": {
         "tracegroupgap": 0
        },
        "template": {
         "data": {
          "bar": [
           {
            "error_x": {
             "color": "#2a3f5f"
            },
            "error_y": {
             "color": "#2a3f5f"
            },
            "marker": {
             "line": {
              "color": "#E5ECF6",
              "width": 0.5
             },
             "pattern": {
              "fillmode": "overlay",
              "size": 10,
              "solidity": 0.2
             }
            },
            "type": "bar"
           }
          ],
          "barpolar": [
           {
            "marker": {
             "line": {
              "color": "#E5ECF6",
              "width": 0.5
             },
             "pattern": {
              "fillmode": "overlay",
              "size": 10,
              "solidity": 0.2
             }
            },
            "type": "barpolar"
           }
          ],
          "carpet": [
           {
            "aaxis": {
             "endlinecolor": "#2a3f5f",
             "gridcolor": "white",
             "linecolor": "white",
             "minorgridcolor": "white",
             "startlinecolor": "#2a3f5f"
            },
            "baxis": {
             "endlinecolor": "#2a3f5f",
             "gridcolor": "white",
             "linecolor": "white",
             "minorgridcolor": "white",
             "startlinecolor": "#2a3f5f"
            },
            "type": "carpet"
           }
          ],
          "choropleth": [
           {
            "colorbar": {
             "outlinewidth": 0,
             "ticks": ""
            },
            "type": "choropleth"
           }
          ],
          "contour": [
           {
            "colorbar": {
             "outlinewidth": 0,
             "ticks": ""
            },
            "colorscale": [
             [
              0,
              "#0d0887"
             ],
             [
              0.1111111111111111,
              "#46039f"
             ],
             [
              0.2222222222222222,
              "#7201a8"
             ],
             [
              0.3333333333333333,
              "#9c179e"
             ],
             [
              0.4444444444444444,
              "#bd3786"
             ],
             [
              0.5555555555555556,
              "#d8576b"
             ],
             [
              0.6666666666666666,
              "#ed7953"
             ],
             [
              0.7777777777777778,
              "#fb9f3a"
             ],
             [
              0.8888888888888888,
              "#fdca26"
             ],
             [
              1,
              "#f0f921"
             ]
            ],
            "type": "contour"
           }
          ],
          "contourcarpet": [
           {
            "colorbar": {
             "outlinewidth": 0,
             "ticks": ""
            },
            "type": "contourcarpet"
           }
          ],
          "heatmap": [
           {
            "colorbar": {
             "outlinewidth": 0,
             "ticks": ""
            },
            "colorscale": [
             [
              0,
              "#0d0887"
             ],
             [
              0.1111111111111111,
              "#46039f"
             ],
             [
              0.2222222222222222,
              "#7201a8"
             ],
             [
              0.3333333333333333,
              "#9c179e"
             ],
             [
              0.4444444444444444,
              "#bd3786"
             ],
             [
              0.5555555555555556,
              "#d8576b"
             ],
             [
              0.6666666666666666,
              "#ed7953"
             ],
             [
              0.7777777777777778,
              "#fb9f3a"
             ],
             [
              0.8888888888888888,
              "#fdca26"
             ],
             [
              1,
              "#f0f921"
             ]
            ],
            "type": "heatmap"
           }
          ],
          "heatmapgl": [
           {
            "colorbar": {
             "outlinewidth": 0,
             "ticks": ""
            },
            "colorscale": [
             [
              0,
              "#0d0887"
             ],
             [
              0.1111111111111111,
              "#46039f"
             ],
             [
              0.2222222222222222,
              "#7201a8"
             ],
             [
              0.3333333333333333,
              "#9c179e"
             ],
             [
              0.4444444444444444,
              "#bd3786"
             ],
             [
              0.5555555555555556,
              "#d8576b"
             ],
             [
              0.6666666666666666,
              "#ed7953"
             ],
             [
              0.7777777777777778,
              "#fb9f3a"
             ],
             [
              0.8888888888888888,
              "#fdca26"
             ],
             [
              1,
              "#f0f921"
             ]
            ],
            "type": "heatmapgl"
           }
          ],
          "histogram": [
           {
            "marker": {
             "pattern": {
              "fillmode": "overlay",
              "size": 10,
              "solidity": 0.2
             }
            },
            "type": "histogram"
           }
          ],
          "histogram2d": [
           {
            "colorbar": {
             "outlinewidth": 0,
             "ticks": ""
            },
            "colorscale": [
             [
              0,
              "#0d0887"
             ],
             [
              0.1111111111111111,
              "#46039f"
             ],
             [
              0.2222222222222222,
              "#7201a8"
             ],
             [
              0.3333333333333333,
              "#9c179e"
             ],
             [
              0.4444444444444444,
              "#bd3786"
             ],
             [
              0.5555555555555556,
              "#d8576b"
             ],
             [
              0.6666666666666666,
              "#ed7953"
             ],
             [
              0.7777777777777778,
              "#fb9f3a"
             ],
             [
              0.8888888888888888,
              "#fdca26"
             ],
             [
              1,
              "#f0f921"
             ]
            ],
            "type": "histogram2d"
           }
          ],
          "histogram2dcontour": [
           {
            "colorbar": {
             "outlinewidth": 0,
             "ticks": ""
            },
            "colorscale": [
             [
              0,
              "#0d0887"
             ],
             [
              0.1111111111111111,
              "#46039f"
             ],
             [
              0.2222222222222222,
              "#7201a8"
             ],
             [
              0.3333333333333333,
              "#9c179e"
             ],
             [
              0.4444444444444444,
              "#bd3786"
             ],
             [
              0.5555555555555556,
              "#d8576b"
             ],
             [
              0.6666666666666666,
              "#ed7953"
             ],
             [
              0.7777777777777778,
              "#fb9f3a"
             ],
             [
              0.8888888888888888,
              "#fdca26"
             ],
             [
              1,
              "#f0f921"
             ]
            ],
            "type": "histogram2dcontour"
           }
          ],
          "mesh3d": [
           {
            "colorbar": {
             "outlinewidth": 0,
             "ticks": ""
            },
            "type": "mesh3d"
           }
          ],
          "parcoords": [
           {
            "line": {
             "colorbar": {
              "outlinewidth": 0,
              "ticks": ""
             }
            },
            "type": "parcoords"
           }
          ],
          "pie": [
           {
            "automargin": true,
            "type": "pie"
           }
          ],
          "scatter": [
           {
            "fillpattern": {
             "fillmode": "overlay",
             "size": 10,
             "solidity": 0.2
            },
            "type": "scatter"
           }
          ],
          "scatter3d": [
           {
            "line": {
             "colorbar": {
              "outlinewidth": 0,
              "ticks": ""
             }
            },
            "marker": {
             "colorbar": {
              "outlinewidth": 0,
              "ticks": ""
             }
            },
            "type": "scatter3d"
           }
          ],
          "scattercarpet": [
           {
            "marker": {
             "colorbar": {
              "outlinewidth": 0,
              "ticks": ""
             }
            },
            "type": "scattercarpet"
           }
          ],
          "scattergeo": [
           {
            "marker": {
             "colorbar": {
              "outlinewidth": 0,
              "ticks": ""
             }
            },
            "type": "scattergeo"
           }
          ],
          "scattergl": [
           {
            "marker": {
             "colorbar": {
              "outlinewidth": 0,
              "ticks": ""
             }
            },
            "type": "scattergl"
           }
          ],
          "scattermapbox": [
           {
            "marker": {
             "colorbar": {
              "outlinewidth": 0,
              "ticks": ""
             }
            },
            "type": "scattermapbox"
           }
          ],
          "scatterpolar": [
           {
            "marker": {
             "colorbar": {
              "outlinewidth": 0,
              "ticks": ""
             }
            },
            "type": "scatterpolar"
           }
          ],
          "scatterpolargl": [
           {
            "marker": {
             "colorbar": {
              "outlinewidth": 0,
              "ticks": ""
             }
            },
            "type": "scatterpolargl"
           }
          ],
          "scatterternary": [
           {
            "marker": {
             "colorbar": {
              "outlinewidth": 0,
              "ticks": ""
             }
            },
            "type": "scatterternary"
           }
          ],
          "surface": [
           {
            "colorbar": {
             "outlinewidth": 0,
             "ticks": ""
            },
            "colorscale": [
             [
              0,
              "#0d0887"
             ],
             [
              0.1111111111111111,
              "#46039f"
             ],
             [
              0.2222222222222222,
              "#7201a8"
             ],
             [
              0.3333333333333333,
              "#9c179e"
             ],
             [
              0.4444444444444444,
              "#bd3786"
             ],
             [
              0.5555555555555556,
              "#d8576b"
             ],
             [
              0.6666666666666666,
              "#ed7953"
             ],
             [
              0.7777777777777778,
              "#fb9f3a"
             ],
             [
              0.8888888888888888,
              "#fdca26"
             ],
             [
              1,
              "#f0f921"
             ]
            ],
            "type": "surface"
           }
          ],
          "table": [
           {
            "cells": {
             "fill": {
              "color": "#EBF0F8"
             },
             "line": {
              "color": "white"
             }
            },
            "header": {
             "fill": {
              "color": "#C8D4E3"
             },
             "line": {
              "color": "white"
             }
            },
            "type": "table"
           }
          ]
         },
         "layout": {
          "annotationdefaults": {
           "arrowcolor": "#2a3f5f",
           "arrowhead": 0,
           "arrowwidth": 1
          },
          "autotypenumbers": "strict",
          "coloraxis": {
           "colorbar": {
            "outlinewidth": 0,
            "ticks": ""
           }
          },
          "colorscale": {
           "diverging": [
            [
             0,
             "#8e0152"
            ],
            [
             0.1,
             "#c51b7d"
            ],
            [
             0.2,
             "#de77ae"
            ],
            [
             0.3,
             "#f1b6da"
            ],
            [
             0.4,
             "#fde0ef"
            ],
            [
             0.5,
             "#f7f7f7"
            ],
            [
             0.6,
             "#e6f5d0"
            ],
            [
             0.7,
             "#b8e186"
            ],
            [
             0.8,
             "#7fbc41"
            ],
            [
             0.9,
             "#4d9221"
            ],
            [
             1,
             "#276419"
            ]
           ],
           "sequential": [
            [
             0,
             "#0d0887"
            ],
            [
             0.1111111111111111,
             "#46039f"
            ],
            [
             0.2222222222222222,
             "#7201a8"
            ],
            [
             0.3333333333333333,
             "#9c179e"
            ],
            [
             0.4444444444444444,
             "#bd3786"
            ],
            [
             0.5555555555555556,
             "#d8576b"
            ],
            [
             0.6666666666666666,
             "#ed7953"
            ],
            [
             0.7777777777777778,
             "#fb9f3a"
            ],
            [
             0.8888888888888888,
             "#fdca26"
            ],
            [
             1,
             "#f0f921"
            ]
           ],
           "sequentialminus": [
            [
             0,
             "#0d0887"
            ],
            [
             0.1111111111111111,
             "#46039f"
            ],
            [
             0.2222222222222222,
             "#7201a8"
            ],
            [
             0.3333333333333333,
             "#9c179e"
            ],
            [
             0.4444444444444444,
             "#bd3786"
            ],
            [
             0.5555555555555556,
             "#d8576b"
            ],
            [
             0.6666666666666666,
             "#ed7953"
            ],
            [
             0.7777777777777778,
             "#fb9f3a"
            ],
            [
             0.8888888888888888,
             "#fdca26"
            ],
            [
             1,
             "#f0f921"
            ]
           ]
          },
          "colorway": [
           "#636efa",
           "#EF553B",
           "#00cc96",
           "#ab63fa",
           "#FFA15A",
           "#19d3f3",
           "#FF6692",
           "#B6E880",
           "#FF97FF",
           "#FECB52"
          ],
          "font": {
           "color": "#2a3f5f"
          },
          "geo": {
           "bgcolor": "white",
           "lakecolor": "white",
           "landcolor": "#E5ECF6",
           "showlakes": true,
           "showland": true,
           "subunitcolor": "white"
          },
          "hoverlabel": {
           "align": "left"
          },
          "hovermode": "closest",
          "mapbox": {
           "style": "light"
          },
          "paper_bgcolor": "white",
          "plot_bgcolor": "#E5ECF6",
          "polar": {
           "angularaxis": {
            "gridcolor": "white",
            "linecolor": "white",
            "ticks": ""
           },
           "bgcolor": "#E5ECF6",
           "radialaxis": {
            "gridcolor": "white",
            "linecolor": "white",
            "ticks": ""
           }
          },
          "scene": {
           "xaxis": {
            "backgroundcolor": "#E5ECF6",
            "gridcolor": "white",
            "gridwidth": 2,
            "linecolor": "white",
            "showbackground": true,
            "ticks": "",
            "zerolinecolor": "white"
           },
           "yaxis": {
            "backgroundcolor": "#E5ECF6",
            "gridcolor": "white",
            "gridwidth": 2,
            "linecolor": "white",
            "showbackground": true,
            "ticks": "",
            "zerolinecolor": "white"
           },
           "zaxis": {
            "backgroundcolor": "#E5ECF6",
            "gridcolor": "white",
            "gridwidth": 2,
            "linecolor": "white",
            "showbackground": true,
            "ticks": "",
            "zerolinecolor": "white"
           }
          },
          "shapedefaults": {
           "line": {
            "color": "#2a3f5f"
           }
          },
          "ternary": {
           "aaxis": {
            "gridcolor": "white",
            "linecolor": "white",
            "ticks": ""
           },
           "baxis": {
            "gridcolor": "white",
            "linecolor": "white",
            "ticks": ""
           },
           "bgcolor": "#E5ECF6",
           "caxis": {
            "gridcolor": "white",
            "linecolor": "white",
            "ticks": ""
           }
          },
          "title": {
           "x": 0.05
          },
          "xaxis": {
           "automargin": true,
           "gridcolor": "white",
           "linecolor": "white",
           "ticks": "",
           "title": {
            "standoff": 15
           },
           "zerolinecolor": "white",
           "zerolinewidth": 2
          },
          "yaxis": {
           "automargin": true,
           "gridcolor": "white",
           "linecolor": "white",
           "ticks": "",
           "title": {
            "standoff": 15
           },
           "zerolinecolor": "white",
           "zerolinewidth": 2
          }
         }
        },
        "title": {
         "text": "Boxplot of total rainfall"
        },
        "xaxis": {
         "anchor": "y",
         "autorange": true,
         "domain": [
          0,
          1
         ],
         "range": [
          -42.33888888888889,
          808.4388888888889
         ],
         "title": {
          "text": "total_rainfall"
         },
         "type": "linear"
        },
        "yaxis": {
         "anchor": "x",
         "autorange": true,
         "domain": [
          0,
          1
         ],
         "range": [
          -0.5,
          0.5
         ],
         "type": "category"
        }
       }
      },
      "text/html": [
       "<div>                            <div id=\"be1a0f43-7637-44ff-969b-594cb042faa2\" class=\"plotly-graph-div\" style=\"height:525px; width:100%;\"></div>            <script type=\"text/javascript\">                require([\"plotly\"], function(Plotly) {                    window.PLOTLYENV=window.PLOTLYENV || {};                                    if (document.getElementById(\"be1a0f43-7637-44ff-969b-594cb042faa2\")) {                    Plotly.newPlot(                        \"be1a0f43-7637-44ff-969b-594cb042faa2\",                        [{\"alignmentgroup\":\"True\",\"customdata\":[[\"2005-01-01T00:00:00\"],[\"2005-02-01T00:00:00\"],[\"2005-03-01T00:00:00\"],[\"2005-04-01T00:00:00\"],[\"2005-05-01T00:00:00\"],[\"2005-06-01T00:00:00\"],[\"2005-07-01T00:00:00\"],[\"2005-08-01T00:00:00\"],[\"2005-09-01T00:00:00\"],[\"2005-10-01T00:00:00\"],[\"2005-11-01T00:00:00\"],[\"2005-12-01T00:00:00\"],[\"2006-01-01T00:00:00\"],[\"2006-02-01T00:00:00\"],[\"2006-03-01T00:00:00\"],[\"2006-04-01T00:00:00\"],[\"2006-05-01T00:00:00\"],[\"2006-06-01T00:00:00\"],[\"2006-07-01T00:00:00\"],[\"2006-08-01T00:00:00\"],[\"2006-09-01T00:00:00\"],[\"2006-10-01T00:00:00\"],[\"2006-11-01T00:00:00\"],[\"2006-12-01T00:00:00\"],[\"2007-01-01T00:00:00\"],[\"2007-02-01T00:00:00\"],[\"2007-03-01T00:00:00\"],[\"2007-04-01T00:00:00\"],[\"2007-05-01T00:00:00\"],[\"2007-06-01T00:00:00\"],[\"2007-07-01T00:00:00\"],[\"2007-08-01T00:00:00\"],[\"2007-09-01T00:00:00\"],[\"2007-10-01T00:00:00\"],[\"2007-11-01T00:00:00\"],[\"2007-12-01T00:00:00\"],[\"2008-01-01T00:00:00\"],[\"2008-02-01T00:00:00\"],[\"2008-03-01T00:00:00\"],[\"2008-04-01T00:00:00\"],[\"2008-05-01T00:00:00\"],[\"2008-06-01T00:00:00\"],[\"2008-07-01T00:00:00\"],[\"2008-08-01T00:00:00\"],[\"2008-09-01T00:00:00\"],[\"2008-10-01T00:00:00\"],[\"2008-11-01T00:00:00\"],[\"2008-12-01T00:00:00\"],[\"2009-01-01T00:00:00\"],[\"2009-02-01T00:00:00\"],[\"2009-03-01T00:00:00\"],[\"2009-04-01T00:00:00\"],[\"2009-05-01T00:00:00\"],[\"2009-06-01T00:00:00\"],[\"2009-07-01T00:00:00\"],[\"2009-08-01T00:00:00\"],[\"2009-09-01T00:00:00\"],[\"2009-10-01T00:00:00\"],[\"2009-11-01T00:00:00\"],[\"2009-12-01T00:00:00\"],[\"2010-01-01T00:00:00\"],[\"2010-02-01T00:00:00\"],[\"2010-03-01T00:00:00\"],[\"2010-04-01T00:00:00\"],[\"2010-05-01T00:00:00\"],[\"2010-06-01T00:00:00\"],[\"2010-07-01T00:00:00\"],[\"2010-08-01T00:00:00\"],[\"2010-09-01T00:00:00\"],[\"2010-10-01T00:00:00\"],[\"2010-11-01T00:00:00\"],[\"2010-12-01T00:00:00\"],[\"2011-01-01T00:00:00\"],[\"2011-02-01T00:00:00\"],[\"2011-03-01T00:00:00\"],[\"2011-04-01T00:00:00\"],[\"2011-05-01T00:00:00\"],[\"2011-06-01T00:00:00\"],[\"2011-07-01T00:00:00\"],[\"2011-08-01T00:00:00\"],[\"2011-09-01T00:00:00\"],[\"2011-10-01T00:00:00\"],[\"2011-11-01T00:00:00\"],[\"2011-12-01T00:00:00\"],[\"2012-01-01T00:00:00\"],[\"2012-02-01T00:00:00\"],[\"2012-03-01T00:00:00\"],[\"2012-04-01T00:00:00\"],[\"2012-05-01T00:00:00\"],[\"2012-06-01T00:00:00\"],[\"2012-07-01T00:00:00\"],[\"2012-08-01T00:00:00\"],[\"2012-09-01T00:00:00\"],[\"2012-10-01T00:00:00\"],[\"2012-11-01T00:00:00\"],[\"2012-12-01T00:00:00\"],[\"2013-01-01T00:00:00\"],[\"2013-02-01T00:00:00\"],[\"2013-03-01T00:00:00\"],[\"2013-04-01T00:00:00\"],[\"2013-05-01T00:00:00\"],[\"2013-06-01T00:00:00\"],[\"2013-07-01T00:00:00\"],[\"2013-08-01T00:00:00\"],[\"2013-09-01T00:00:00\"],[\"2013-10-01T00:00:00\"],[\"2013-11-01T00:00:00\"],[\"2013-12-01T00:00:00\"],[\"2014-01-01T00:00:00\"],[\"2014-02-01T00:00:00\"],[\"2014-03-01T00:00:00\"],[\"2014-04-01T00:00:00\"],[\"2014-05-01T00:00:00\"],[\"2014-06-01T00:00:00\"],[\"2014-07-01T00:00:00\"],[\"2014-08-01T00:00:00\"],[\"2014-09-01T00:00:00\"],[\"2014-10-01T00:00:00\"],[\"2014-11-01T00:00:00\"],[\"2014-12-01T00:00:00\"],[\"2015-01-01T00:00:00\"],[\"2015-02-01T00:00:00\"],[\"2015-03-01T00:00:00\"],[\"2015-04-01T00:00:00\"],[\"2015-05-01T00:00:00\"],[\"2015-06-01T00:00:00\"],[\"2015-07-01T00:00:00\"],[\"2015-08-01T00:00:00\"],[\"2015-09-01T00:00:00\"],[\"2015-10-01T00:00:00\"],[\"2015-11-01T00:00:00\"],[\"2015-12-01T00:00:00\"],[\"2016-01-01T00:00:00\"],[\"2016-02-01T00:00:00\"],[\"2016-03-01T00:00:00\"],[\"2016-04-01T00:00:00\"],[\"2016-05-01T00:00:00\"],[\"2016-06-01T00:00:00\"],[\"2016-07-01T00:00:00\"],[\"2016-08-01T00:00:00\"],[\"2016-09-01T00:00:00\"],[\"2016-10-01T00:00:00\"],[\"2016-11-01T00:00:00\"],[\"2016-12-01T00:00:00\"],[\"2017-01-01T00:00:00\"],[\"2017-02-01T00:00:00\"],[\"2017-03-01T00:00:00\"],[\"2017-04-01T00:00:00\"],[\"2017-05-01T00:00:00\"],[\"2017-06-01T00:00:00\"],[\"2017-07-01T00:00:00\"],[\"2017-08-01T00:00:00\"],[\"2017-09-01T00:00:00\"],[\"2017-10-01T00:00:00\"],[\"2017-11-01T00:00:00\"],[\"2017-12-01T00:00:00\"],[\"2018-01-01T00:00:00\"],[\"2018-02-01T00:00:00\"],[\"2018-03-01T00:00:00\"],[\"2018-04-01T00:00:00\"],[\"2018-05-01T00:00:00\"],[\"2018-06-01T00:00:00\"],[\"2018-07-01T00:00:00\"],[\"2018-08-01T00:00:00\"],[\"2018-09-01T00:00:00\"],[\"2018-10-01T00:00:00\"],[\"2018-11-01T00:00:00\"],[\"2018-12-01T00:00:00\"],[\"2019-01-01T00:00:00\"],[\"2019-02-01T00:00:00\"],[\"2019-03-01T00:00:00\"],[\"2019-04-01T00:00:00\"],[\"2019-05-01T00:00:00\"],[\"2019-06-01T00:00:00\"],[\"2019-07-01T00:00:00\"],[\"2019-08-01T00:00:00\"],[\"2019-09-01T00:00:00\"],[\"2019-10-01T00:00:00\"],[\"2019-11-01T00:00:00\"],[\"2019-12-01T00:00:00\"],[\"2020-01-01T00:00:00\"],[\"2020-02-01T00:00:00\"],[\"2020-03-01T00:00:00\"],[\"2020-04-01T00:00:00\"],[\"2020-05-01T00:00:00\"],[\"2020-06-01T00:00:00\"],[\"2020-07-01T00:00:00\"],[\"2020-08-01T00:00:00\"],[\"2020-09-01T00:00:00\"],[\"2020-10-01T00:00:00\"],[\"2020-11-01T00:00:00\"],[\"2020-12-01T00:00:00\"],[\"2021-01-01T00:00:00\"],[\"2021-02-01T00:00:00\"],[\"2021-03-01T00:00:00\"],[\"2021-04-01T00:00:00\"],[\"2021-05-01T00:00:00\"],[\"2021-06-01T00:00:00\"],[\"2021-07-01T00:00:00\"],[\"2021-08-01T00:00:00\"],[\"2021-09-01T00:00:00\"],[\"2021-10-01T00:00:00\"],[\"2021-11-01T00:00:00\"],[\"2021-12-01T00:00:00\"],[\"2022-01-01T00:00:00\"],[\"2022-02-01T00:00:00\"],[\"2022-03-01T00:00:00\"],[\"2022-04-01T00:00:00\"],[\"2022-05-01T00:00:00\"],[\"2022-06-01T00:00:00\"]],\"hovertemplate\":\"total_rainfall=%{x}\\u003cbr\\u003edate=%{customdata[0]}\\u003cextra\\u003e\\u003c\\u002fextra\\u003e\",\"legendgroup\":\"\",\"marker\":{\"color\":\"#636efa\"},\"name\":\"\",\"notched\":false,\"offsetgroup\":\"\",\"orientation\":\"h\",\"showlegend\":false,\"x\":[163.2,8.4,82.4,81.7,331.1,82.3,104.0,58.5,175.7,314.5,362.9,166.0,454.4,115.5,83.1,239.8,205.7,236.8,153.8,127.3,83.3,102.0,185.6,765.9,450.1,105.5,269.1,240.2,127.2,139.0,141.7,190.7,149.0,237.2,367.9,468.6,262.6,129.2,294.1,87.2,124.9,118.3,89.1,327.3,164.4,159.5,324.3,244.2,38.3,201.8,223.3,183.7,198.6,21.8,161.0,177.8,109.6,133.4,281.8,189.8,69.5,6.3,238.0,158.5,157.5,240.5,298.5,158.4,121.5,166.2,278.8,181.4,513.2,23.0,256.6,217.8,127.0,213.0,76.6,81.4,136.4,216.8,377.8,284.6,106.1,83.6,313.4,260.6,292.0,53.0,130.8,119.0,107.6,122.2,208.2,363.4,262.0,395.2,85.8,159.4,211.4,111.4,174.6,165.6,257.0,285.4,292.4,348.2,75.4,0.2,66.0,110.0,125.8,71.4,148.6,241.0,83.6,120.0,250.8,245.6,79.6,18.8,84.4,73.2,89.0,95.8,116.8,185.8,61.6,87.2,72.6,302.3,126.6,186.0,6.2,89.8,193.8,162.8,168.6,139.2,118.9,181.0,290.2,292.6,197.6,158.4,136.2,208.6,190.0,106.0,79.6,84.2,124.4,120.8,268.6,371.2,287.0,14.8,44.6,61.2,132.2,182.6,143.2,121.6,144.4,234.4,169.6,172.6,63.6,31.6,72.2,174.8,69.0,173.8,12.2,11.8,22.8,176.8,137.4,421.5,88.4,65.0,108.8,188.0,255.6,233.8,140.8,103.4,150.2,78.8,220.6,253.2,692.8,1.0,182.4,290.4,245.8,93.4,195.8,293.6,205.4,177.0,312.4,119.6,99.8,175.0,163.2,239.6,102.0,211.8],\"x0\":\" \",\"xaxis\":\"x\",\"y0\":\" \",\"yaxis\":\"y\",\"type\":\"box\"}],                        {\"template\":{\"data\":{\"histogram2dcontour\":[{\"type\":\"histogram2dcontour\",\"colorbar\":{\"outlinewidth\":0,\"ticks\":\"\"},\"colorscale\":[[0.0,\"#0d0887\"],[0.1111111111111111,\"#46039f\"],[0.2222222222222222,\"#7201a8\"],[0.3333333333333333,\"#9c179e\"],[0.4444444444444444,\"#bd3786\"],[0.5555555555555556,\"#d8576b\"],[0.6666666666666666,\"#ed7953\"],[0.7777777777777778,\"#fb9f3a\"],[0.8888888888888888,\"#fdca26\"],[1.0,\"#f0f921\"]]}],\"choropleth\":[{\"type\":\"choropleth\",\"colorbar\":{\"outlinewidth\":0,\"ticks\":\"\"}}],\"histogram2d\":[{\"type\":\"histogram2d\",\"colorbar\":{\"outlinewidth\":0,\"ticks\":\"\"},\"colorscale\":[[0.0,\"#0d0887\"],[0.1111111111111111,\"#46039f\"],[0.2222222222222222,\"#7201a8\"],[0.3333333333333333,\"#9c179e\"],[0.4444444444444444,\"#bd3786\"],[0.5555555555555556,\"#d8576b\"],[0.6666666666666666,\"#ed7953\"],[0.7777777777777778,\"#fb9f3a\"],[0.8888888888888888,\"#fdca26\"],[1.0,\"#f0f921\"]]}],\"heatmap\":[{\"type\":\"heatmap\",\"colorbar\":{\"outlinewidth\":0,\"ticks\":\"\"},\"colorscale\":[[0.0,\"#0d0887\"],[0.1111111111111111,\"#46039f\"],[0.2222222222222222,\"#7201a8\"],[0.3333333333333333,\"#9c179e\"],[0.4444444444444444,\"#bd3786\"],[0.5555555555555556,\"#d8576b\"],[0.6666666666666666,\"#ed7953\"],[0.7777777777777778,\"#fb9f3a\"],[0.8888888888888888,\"#fdca26\"],[1.0,\"#f0f921\"]]}],\"heatmapgl\":[{\"type\":\"heatmapgl\",\"colorbar\":{\"outlinewidth\":0,\"ticks\":\"\"},\"colorscale\":[[0.0,\"#0d0887\"],[0.1111111111111111,\"#46039f\"],[0.2222222222222222,\"#7201a8\"],[0.3333333333333333,\"#9c179e\"],[0.4444444444444444,\"#bd3786\"],[0.5555555555555556,\"#d8576b\"],[0.6666666666666666,\"#ed7953\"],[0.7777777777777778,\"#fb9f3a\"],[0.8888888888888888,\"#fdca26\"],[1.0,\"#f0f921\"]]}],\"contourcarpet\":[{\"type\":\"contourcarpet\",\"colorbar\":{\"outlinewidth\":0,\"ticks\":\"\"}}],\"contour\":[{\"type\":\"contour\",\"colorbar\":{\"outlinewidth\":0,\"ticks\":\"\"},\"colorscale\":[[0.0,\"#0d0887\"],[0.1111111111111111,\"#46039f\"],[0.2222222222222222,\"#7201a8\"],[0.3333333333333333,\"#9c179e\"],[0.4444444444444444,\"#bd3786\"],[0.5555555555555556,\"#d8576b\"],[0.6666666666666666,\"#ed7953\"],[0.7777777777777778,\"#fb9f3a\"],[0.8888888888888888,\"#fdca26\"],[1.0,\"#f0f921\"]]}],\"surface\":[{\"type\":\"surface\",\"colorbar\":{\"outlinewidth\":0,\"ticks\":\"\"},\"colorscale\":[[0.0,\"#0d0887\"],[0.1111111111111111,\"#46039f\"],[0.2222222222222222,\"#7201a8\"],[0.3333333333333333,\"#9c179e\"],[0.4444444444444444,\"#bd3786\"],[0.5555555555555556,\"#d8576b\"],[0.6666666666666666,\"#ed7953\"],[0.7777777777777778,\"#fb9f3a\"],[0.8888888888888888,\"#fdca26\"],[1.0,\"#f0f921\"]]}],\"mesh3d\":[{\"type\":\"mesh3d\",\"colorbar\":{\"outlinewidth\":0,\"ticks\":\"\"}}],\"scatter\":[{\"fillpattern\":{\"fillmode\":\"overlay\",\"size\":10,\"solidity\":0.2},\"type\":\"scatter\"}],\"parcoords\":[{\"type\":\"parcoords\",\"line\":{\"colorbar\":{\"outlinewidth\":0,\"ticks\":\"\"}}}],\"scatterpolargl\":[{\"type\":\"scatterpolargl\",\"marker\":{\"colorbar\":{\"outlinewidth\":0,\"ticks\":\"\"}}}],\"bar\":[{\"error_x\":{\"color\":\"#2a3f5f\"},\"error_y\":{\"color\":\"#2a3f5f\"},\"marker\":{\"line\":{\"color\":\"#E5ECF6\",\"width\":0.5},\"pattern\":{\"fillmode\":\"overlay\",\"size\":10,\"solidity\":0.2}},\"type\":\"bar\"}],\"scattergeo\":[{\"type\":\"scattergeo\",\"marker\":{\"colorbar\":{\"outlinewidth\":0,\"ticks\":\"\"}}}],\"scatterpolar\":[{\"type\":\"scatterpolar\",\"marker\":{\"colorbar\":{\"outlinewidth\":0,\"ticks\":\"\"}}}],\"histogram\":[{\"marker\":{\"pattern\":{\"fillmode\":\"overlay\",\"size\":10,\"solidity\":0.2}},\"type\":\"histogram\"}],\"scattergl\":[{\"type\":\"scattergl\",\"marker\":{\"colorbar\":{\"outlinewidth\":0,\"ticks\":\"\"}}}],\"scatter3d\":[{\"type\":\"scatter3d\",\"line\":{\"colorbar\":{\"outlinewidth\":0,\"ticks\":\"\"}},\"marker\":{\"colorbar\":{\"outlinewidth\":0,\"ticks\":\"\"}}}],\"scattermapbox\":[{\"type\":\"scattermapbox\",\"marker\":{\"colorbar\":{\"outlinewidth\":0,\"ticks\":\"\"}}}],\"scatterternary\":[{\"type\":\"scatterternary\",\"marker\":{\"colorbar\":{\"outlinewidth\":0,\"ticks\":\"\"}}}],\"scattercarpet\":[{\"type\":\"scattercarpet\",\"marker\":{\"colorbar\":{\"outlinewidth\":0,\"ticks\":\"\"}}}],\"carpet\":[{\"aaxis\":{\"endlinecolor\":\"#2a3f5f\",\"gridcolor\":\"white\",\"linecolor\":\"white\",\"minorgridcolor\":\"white\",\"startlinecolor\":\"#2a3f5f\"},\"baxis\":{\"endlinecolor\":\"#2a3f5f\",\"gridcolor\":\"white\",\"linecolor\":\"white\",\"minorgridcolor\":\"white\",\"startlinecolor\":\"#2a3f5f\"},\"type\":\"carpet\"}],\"table\":[{\"cells\":{\"fill\":{\"color\":\"#EBF0F8\"},\"line\":{\"color\":\"white\"}},\"header\":{\"fill\":{\"color\":\"#C8D4E3\"},\"line\":{\"color\":\"white\"}},\"type\":\"table\"}],\"barpolar\":[{\"marker\":{\"line\":{\"color\":\"#E5ECF6\",\"width\":0.5},\"pattern\":{\"fillmode\":\"overlay\",\"size\":10,\"solidity\":0.2}},\"type\":\"barpolar\"}],\"pie\":[{\"automargin\":true,\"type\":\"pie\"}]},\"layout\":{\"autotypenumbers\":\"strict\",\"colorway\":[\"#636efa\",\"#EF553B\",\"#00cc96\",\"#ab63fa\",\"#FFA15A\",\"#19d3f3\",\"#FF6692\",\"#B6E880\",\"#FF97FF\",\"#FECB52\"],\"font\":{\"color\":\"#2a3f5f\"},\"hovermode\":\"closest\",\"hoverlabel\":{\"align\":\"left\"},\"paper_bgcolor\":\"white\",\"plot_bgcolor\":\"#E5ECF6\",\"polar\":{\"bgcolor\":\"#E5ECF6\",\"angularaxis\":{\"gridcolor\":\"white\",\"linecolor\":\"white\",\"ticks\":\"\"},\"radialaxis\":{\"gridcolor\":\"white\",\"linecolor\":\"white\",\"ticks\":\"\"}},\"ternary\":{\"bgcolor\":\"#E5ECF6\",\"aaxis\":{\"gridcolor\":\"white\",\"linecolor\":\"white\",\"ticks\":\"\"},\"baxis\":{\"gridcolor\":\"white\",\"linecolor\":\"white\",\"ticks\":\"\"},\"caxis\":{\"gridcolor\":\"white\",\"linecolor\":\"white\",\"ticks\":\"\"}},\"coloraxis\":{\"colorbar\":{\"outlinewidth\":0,\"ticks\":\"\"}},\"colorscale\":{\"sequential\":[[0.0,\"#0d0887\"],[0.1111111111111111,\"#46039f\"],[0.2222222222222222,\"#7201a8\"],[0.3333333333333333,\"#9c179e\"],[0.4444444444444444,\"#bd3786\"],[0.5555555555555556,\"#d8576b\"],[0.6666666666666666,\"#ed7953\"],[0.7777777777777778,\"#fb9f3a\"],[0.8888888888888888,\"#fdca26\"],[1.0,\"#f0f921\"]],\"sequentialminus\":[[0.0,\"#0d0887\"],[0.1111111111111111,\"#46039f\"],[0.2222222222222222,\"#7201a8\"],[0.3333333333333333,\"#9c179e\"],[0.4444444444444444,\"#bd3786\"],[0.5555555555555556,\"#d8576b\"],[0.6666666666666666,\"#ed7953\"],[0.7777777777777778,\"#fb9f3a\"],[0.8888888888888888,\"#fdca26\"],[1.0,\"#f0f921\"]],\"diverging\":[[0,\"#8e0152\"],[0.1,\"#c51b7d\"],[0.2,\"#de77ae\"],[0.3,\"#f1b6da\"],[0.4,\"#fde0ef\"],[0.5,\"#f7f7f7\"],[0.6,\"#e6f5d0\"],[0.7,\"#b8e186\"],[0.8,\"#7fbc41\"],[0.9,\"#4d9221\"],[1,\"#276419\"]]},\"xaxis\":{\"gridcolor\":\"white\",\"linecolor\":\"white\",\"ticks\":\"\",\"title\":{\"standoff\":15},\"zerolinecolor\":\"white\",\"automargin\":true,\"zerolinewidth\":2},\"yaxis\":{\"gridcolor\":\"white\",\"linecolor\":\"white\",\"ticks\":\"\",\"title\":{\"standoff\":15},\"zerolinecolor\":\"white\",\"automargin\":true,\"zerolinewidth\":2},\"scene\":{\"xaxis\":{\"backgroundcolor\":\"#E5ECF6\",\"gridcolor\":\"white\",\"linecolor\":\"white\",\"showbackground\":true,\"ticks\":\"\",\"zerolinecolor\":\"white\",\"gridwidth\":2},\"yaxis\":{\"backgroundcolor\":\"#E5ECF6\",\"gridcolor\":\"white\",\"linecolor\":\"white\",\"showbackground\":true,\"ticks\":\"\",\"zerolinecolor\":\"white\",\"gridwidth\":2},\"zaxis\":{\"backgroundcolor\":\"#E5ECF6\",\"gridcolor\":\"white\",\"linecolor\":\"white\",\"showbackground\":true,\"ticks\":\"\",\"zerolinecolor\":\"white\",\"gridwidth\":2}},\"shapedefaults\":{\"line\":{\"color\":\"#2a3f5f\"}},\"annotationdefaults\":{\"arrowcolor\":\"#2a3f5f\",\"arrowhead\":0,\"arrowwidth\":1},\"geo\":{\"bgcolor\":\"white\",\"landcolor\":\"#E5ECF6\",\"subunitcolor\":\"white\",\"showland\":true,\"showlakes\":true,\"lakecolor\":\"white\"},\"title\":{\"x\":0.05},\"mapbox\":{\"style\":\"light\"}}},\"xaxis\":{\"anchor\":\"y\",\"domain\":[0.0,1.0],\"title\":{\"text\":\"total_rainfall\"}},\"yaxis\":{\"anchor\":\"x\",\"domain\":[0.0,1.0]},\"legend\":{\"tracegroupgap\":0},\"title\":{\"text\":\"Boxplot of total rainfall\"},\"boxmode\":\"group\"},                        {\"responsive\": true}                    ).then(function(){\n",
       "                            \n",
       "var gd = document.getElementById('be1a0f43-7637-44ff-969b-594cb042faa2');\n",
       "var x = new MutationObserver(function (mutations, observer) {{\n",
       "        var display = window.getComputedStyle(gd).display;\n",
       "        if (!display || display === 'none') {{\n",
       "            console.log([gd, 'removed!']);\n",
       "            Plotly.purge(gd);\n",
       "            observer.disconnect();\n",
       "        }}\n",
       "}});\n",
       "\n",
       "// Listen for the removal of the full notebook cells\n",
       "var notebookContainer = gd.closest('#notebook-container');\n",
       "if (notebookContainer) {{\n",
       "    x.observe(notebookContainer, {childList: true});\n",
       "}}\n",
       "\n",
       "// Listen for the clearing of the current output cell\n",
       "var outputEl = gd.closest('.output');\n",
       "if (outputEl) {{\n",
       "    x.observe(outputEl, {childList: true});\n",
       "}}\n",
       "\n",
       "                        })                };                });            </script>        </div>"
      ]
     },
     "metadata": {},
     "output_type": "display_data"
    }
   ],
   "source": [
    "boxplt_rain = px.box(elec, x = 'total_rainfall', hover_data=[\"date\"], title = 'Boxplot of total rainfall')\n",
    "boxplt_rain.show()"
   ]
  },
  {
   "cell_type": "markdown",
   "metadata": {},
   "source": [
    "*Interpretation: By hovering over the boxplot, we can see the value of the lower and upper fences, as well as the quartiles. By hovering over the outliers, we can see six outliers. The top three are in the months of December 2006, January 2021, and January 2011. This corresponds to the three outliers identified earlier.*\n",
    "\n",
    "*However, this boxplot includes three more outliers. This is due to the different calculation of the upper bounds. While I used the standard deviation method earlier, it appears that Plotly used the interquartile range method.*"
   ]
  },
  {
   "cell_type": "markdown",
   "metadata": {},
   "source": [
    "##### 4. Plot and interpret scatter plots to view relationships between features."
   ]
  },
  {
   "cell_type": "markdown",
   "metadata": {},
   "source": [
    "The main scatter plot that I will create is one between the mean temperature and the household consumption of electricity. This is so that we can see the relationship between the two, which has the highest correlation coefficient above, and is the reason for this study."
   ]
  },
  {
   "cell_type": "code",
   "execution_count": 140,
   "metadata": {},
   "outputs": [
    {
     "data": {
      "application/vnd.plotly.v1+json": {
       "config": {
        "plotlyServerURL": "https://plot.ly"
       },
       "data": [
        {
         "hovertemplate": "mean_temp=%{x}<br>kwh_per_acc=%{y}<extra></extra>",
         "legendgroup": "",
         "marker": {
          "color": "#636efa",
          "symbol": "circle"
         },
         "mode": "markers",
         "name": "",
         "orientation": "v",
         "showlegend": false,
         "type": "scatter",
         "x": [
          26.6,
          28.5,
          28.5,
          28.7,
          28.5,
          28.8,
          28,
          28.2,
          28.2,
          27.6,
          27.3,
          27.3,
          26.5,
          27.5,
          28.3,
          27.6,
          28.1,
          27.8,
          28.4,
          28.3,
          28,
          28.3,
          27.3,
          26.6,
          26.5,
          27.3,
          27.5,
          28.1,
          28.3,
          28.4,
          27.7,
          27.7,
          27.8,
          27.8,
          26.9,
          26.4,
          26.8,
          26.7,
          26.5,
          28.1,
          28.8,
          28.2,
          27.8,
          27.4,
          27.7,
          27.6,
          27.3,
          26.9,
          26.8,
          27.3,
          27.2,
          28.5,
          28.7,
          29.1,
          28.3,
          28.3,
          28.3,
          28.2,
          27.2,
          27.1,
          27.5,
          28.9,
          28.6,
          28.6,
          29.2,
          28.3,
          27.7,
          27.9,
          28,
          28.3,
          27.4,
          26.8,
          26.3,
          27.3,
          27.1,
          27.9,
          28.5,
          28.4,
          28.7,
          27.9,
          27.8,
          27.3,
          27.1,
          26.6,
          26.7,
          27.2,
          27,
          27.6,
          28.2,
          28.7,
          27.7,
          27.9,
          27.9,
          27.7,
          27.1,
          26.7,
          27.1,
          26.5,
          28.3,
          28.2,
          28.2,
          29,
          27.8,
          27.9,
          27.5,
          27.7,
          27.1,
          26.5,
          26.2,
          27.2,
          27.9,
          28.2,
          28.6,
          29,
          28.7,
          27.7,
          28.5,
          28.4,
          27.5,
          27,
          26.9,
          27,
          28.2,
          28.6,
          28.7,
          29,
          29.1,
          28.4,
          28.7,
          28.7,
          28,
          27.7,
          28.3,
          27.8,
          29,
          29.4,
          29.3,
          28.5,
          28.4,
          28.9,
          28.3,
          28.3,
          27.4,
          27.4,
          26.9,
          26.9,
          27.4,
          27.8,
          28.5,
          28.5,
          28.3,
          28.1,
          28,
          27.9,
          27.1,
          27,
          26.1,
          27.2,
          28,
          28.5,
          28.7,
          28.4,
          28.5,
          28.5,
          28,
          27.9,
          27.3,
          27.6,
          28,
          28.2,
          28.7,
          28.6,
          29.3,
          28.4,
          29,
          29.1,
          29,
          28.1,
          28,
          26.7,
          27.7,
          27.9,
          28.6,
          28.9,
          28.9,
          28.1,
          27.9,
          28.3,
          27.5,
          28.3,
          27.2,
          27.2,
          26,
          27.3,
          27.9,
          28.2,
          28.7,
          28.5,
          28.6,
          27.6,
          28.3,
          28.5,
          27.6,
          27.7,
          27.4,
          27.3,
          28.1,
          28.1,
          29.2,
          27.9
         ],
         "xaxis": "x",
         "y": [
          418.1,
          408.3,
          446.9,
          496.2,
          496.8,
          519.7,
          497.7,
          489.3,
          477.7,
          480.8,
          479.7,
          441.6,
          430.5,
          418.2,
          433.6,
          472.2,
          481.2,
          491.1,
          472.6,
          500.8,
          498.7,
          483.3,
          491.2,
          454.1,
          434,
          407.2,
          413.5,
          467.1,
          495.8,
          507.8,
          513.8,
          505.8,
          467.8,
          468.2,
          497.9,
          444.9,
          424,
          429,
          406.8,
          444.3,
          491,
          516.3,
          473.8,
          459.1,
          466.8,
          467.9,
          481,
          433,
          426.7,
          412.5,
          412,
          455.3,
          496.1,
          541.9,
          529.2,
          507.1,
          492.5,
          492.5,
          497.5,
          455.9,
          433.4,
          446.1,
          482.1,
          513.5,
          505.4,
          531.5,
          502.4,
          471.9,
          472,
          486.9,
          509.6,
          466.3,
          436.2,
          404.1,
          404,
          454.5,
          490.1,
          521,
          505.5,
          508.6,
          501.4,
          479.3,
          463.8,
          431.9,
          431.1,
          430.9,
          432.2,
          459.1,
          472.5,
          514,
          502.9,
          493.9,
          483.2,
          471.1,
          478,
          440.3,
          430.2,
          418.9,
          417.4,
          473.9,
          508.1,
          525.1,
          508.6,
          513,
          465.9,
          459,
          471.1,
          436.8,
          420.2,
          402.5,
          400,
          462.4,
          494.6,
          516.2,
          506.6,
          510,
          474.7,
          463.5,
          486.8,
          453,
          414.7,
          390.6,
          403.3,
          463.7,
          476.3,
          491,
          500.4,
          507.9,
          491.8,
          494.2,
          506.8,
          476.6,
          436,
          443.2,
          444.8,
          490.5,
          520.7,
          531.7,
          480.7,
          483.8,
          484.1,
          483.9,
          478.9,
          425.6,
          419.5,
          423.9,
          390.4,
          426.6,
          453.6,
          501.7,
          507.5,
          453.7,
          442.8,
          447.4,
          446.5,
          416.4,
          398,
          371,
          378.5,
          430,
          447.2,
          473.4,
          443.4,
          432.8,
          441.9,
          441.4,
          422,
          382,
          399.7,
          406.7,
          393.5,
          425.3,
          448.4,
          448.1,
          431.9,
          447.4,
          464.4,
          449.7,
          433.4,
          399,
          383.1,
          405.5,
          419.7,
          452.2,
          450.3,
          590.4,
          600.5,
          483.3,
          459.2,
          443.9,
          454.6,
          444.8,
          417.6,
          397.9,
          399,
          449.4,
          477.4,
          522.2,
          501.7,
          509.5,
          468.5,
          455.4,
          451.6,
          453.5,
          431.1,
          435.3,
          413.1,
          443.6,
          468.9,
          478.4
         ],
         "yaxis": "y"
        },
        {
         "hovertemplate": "<b>OLS trendline</b><br>kwh_per_acc = 23.3829 * mean_temp + -190.304<br>R<sup>2</sup>=0.187515<br><br>mean_temp=%{x}<br>kwh_per_acc=%{y} <b>(trend)</b><extra></extra>",
         "legendgroup": "",
         "marker": {
          "color": "#636efa",
          "symbol": "circle"
         },
         "mode": "lines",
         "name": "",
         "showlegend": false,
         "type": "scatter",
         "x": [
          26,
          26.1,
          26.2,
          26.3,
          26.4,
          26.5,
          26.5,
          26.5,
          26.5,
          26.5,
          26.6,
          26.6,
          26.6,
          26.7,
          26.7,
          26.7,
          26.7,
          26.8,
          26.8,
          26.8,
          26.9,
          26.9,
          26.9,
          26.9,
          26.9,
          27,
          27,
          27,
          27,
          27.1,
          27.1,
          27.1,
          27.1,
          27.1,
          27.1,
          27.1,
          27.2,
          27.2,
          27.2,
          27.2,
          27.2,
          27.2,
          27.2,
          27.3,
          27.3,
          27.3,
          27.3,
          27.3,
          27.3,
          27.3,
          27.3,
          27.3,
          27.3,
          27.3,
          27.4,
          27.4,
          27.4,
          27.4,
          27.4,
          27.4,
          27.5,
          27.5,
          27.5,
          27.5,
          27.5,
          27.5,
          27.6,
          27.6,
          27.6,
          27.6,
          27.6,
          27.6,
          27.6,
          27.7,
          27.7,
          27.7,
          27.7,
          27.7,
          27.7,
          27.7,
          27.7,
          27.7,
          27.7,
          27.7,
          27.8,
          27.8,
          27.8,
          27.8,
          27.8,
          27.8,
          27.8,
          27.8,
          27.9,
          27.9,
          27.9,
          27.9,
          27.9,
          27.9,
          27.9,
          27.9,
          27.9,
          27.9,
          27.9,
          27.9,
          27.9,
          28,
          28,
          28,
          28,
          28,
          28,
          28,
          28,
          28,
          28.1,
          28.1,
          28.1,
          28.1,
          28.1,
          28.1,
          28.1,
          28.1,
          28.2,
          28.2,
          28.2,
          28.2,
          28.2,
          28.2,
          28.2,
          28.2,
          28.2,
          28.2,
          28.2,
          28.3,
          28.3,
          28.3,
          28.3,
          28.3,
          28.3,
          28.3,
          28.3,
          28.3,
          28.3,
          28.3,
          28.3,
          28.3,
          28.3,
          28.3,
          28.3,
          28.3,
          28.4,
          28.4,
          28.4,
          28.4,
          28.4,
          28.4,
          28.4,
          28.4,
          28.5,
          28.5,
          28.5,
          28.5,
          28.5,
          28.5,
          28.5,
          28.5,
          28.5,
          28.5,
          28.5,
          28.5,
          28.5,
          28.5,
          28.6,
          28.6,
          28.6,
          28.6,
          28.6,
          28.6,
          28.6,
          28.7,
          28.7,
          28.7,
          28.7,
          28.7,
          28.7,
          28.7,
          28.7,
          28.7,
          28.7,
          28.7,
          28.8,
          28.8,
          28.9,
          28.9,
          28.9,
          28.9,
          29,
          29,
          29,
          29,
          29,
          29,
          29.1,
          29.1,
          29.1,
          29.2,
          29.2,
          29.3,
          29.3,
          29.4
         ],
         "xaxis": "x",
         "y": [
          417.651121778149,
          419.989409615536,
          422.32769745292285,
          424.66598529030983,
          427.0042731276967,
          429.3425609650837,
          429.3425609650837,
          429.3425609650837,
          429.3425609650837,
          429.3425609650837,
          431.6808488024707,
          431.6808488024707,
          431.6808488024707,
          434.01913663985755,
          434.01913663985755,
          434.01913663985755,
          434.01913663985755,
          436.35742447724454,
          436.35742447724454,
          436.35742447724454,
          438.6957123146314,
          438.6957123146314,
          438.6957123146314,
          438.6957123146314,
          438.6957123146314,
          441.0340001520184,
          441.0340001520184,
          441.0340001520184,
          441.0340001520184,
          443.3722879894054,
          443.3722879894054,
          443.3722879894054,
          443.3722879894054,
          443.3722879894054,
          443.3722879894054,
          443.3722879894054,
          445.71057582679225,
          445.71057582679225,
          445.71057582679225,
          445.71057582679225,
          445.71057582679225,
          445.71057582679225,
          445.71057582679225,
          448.04886366417924,
          448.04886366417924,
          448.04886366417924,
          448.04886366417924,
          448.04886366417924,
          448.04886366417924,
          448.04886366417924,
          448.04886366417924,
          448.04886366417924,
          448.04886366417924,
          448.04886366417924,
          450.3871515015661,
          450.3871515015661,
          450.3871515015661,
          450.3871515015661,
          450.3871515015661,
          450.3871515015661,
          452.7254393389531,
          452.7254393389531,
          452.7254393389531,
          452.7254393389531,
          452.7254393389531,
          452.7254393389531,
          455.0637271763401,
          455.0637271763401,
          455.0637271763401,
          455.0637271763401,
          455.0637271763401,
          455.0637271763401,
          455.0637271763401,
          457.40201501372695,
          457.40201501372695,
          457.40201501372695,
          457.40201501372695,
          457.40201501372695,
          457.40201501372695,
          457.40201501372695,
          457.40201501372695,
          457.40201501372695,
          457.40201501372695,
          457.40201501372695,
          459.74030285111394,
          459.74030285111394,
          459.74030285111394,
          459.74030285111394,
          459.74030285111394,
          459.74030285111394,
          459.74030285111394,
          459.74030285111394,
          462.0785906885008,
          462.0785906885008,
          462.0785906885008,
          462.0785906885008,
          462.0785906885008,
          462.0785906885008,
          462.0785906885008,
          462.0785906885008,
          462.0785906885008,
          462.0785906885008,
          462.0785906885008,
          462.0785906885008,
          462.0785906885008,
          464.4168785258878,
          464.4168785258878,
          464.4168785258878,
          464.4168785258878,
          464.4168785258878,
          464.4168785258878,
          464.4168785258878,
          464.4168785258878,
          464.4168785258878,
          466.7551663632748,
          466.7551663632748,
          466.7551663632748,
          466.7551663632748,
          466.7551663632748,
          466.7551663632748,
          466.7551663632748,
          466.7551663632748,
          469.09345420066165,
          469.09345420066165,
          469.09345420066165,
          469.09345420066165,
          469.09345420066165,
          469.09345420066165,
          469.09345420066165,
          469.09345420066165,
          469.09345420066165,
          469.09345420066165,
          469.09345420066165,
          471.43174203804864,
          471.43174203804864,
          471.43174203804864,
          471.43174203804864,
          471.43174203804864,
          471.43174203804864,
          471.43174203804864,
          471.43174203804864,
          471.43174203804864,
          471.43174203804864,
          471.43174203804864,
          471.43174203804864,
          471.43174203804864,
          471.43174203804864,
          471.43174203804864,
          471.43174203804864,
          471.43174203804864,
          473.7700298754355,
          473.7700298754355,
          473.7700298754355,
          473.7700298754355,
          473.7700298754355,
          473.7700298754355,
          473.7700298754355,
          473.7700298754355,
          476.1083177128225,
          476.1083177128225,
          476.1083177128225,
          476.1083177128225,
          476.1083177128225,
          476.1083177128225,
          476.1083177128225,
          476.1083177128225,
          476.1083177128225,
          476.1083177128225,
          476.1083177128225,
          476.1083177128225,
          476.1083177128225,
          476.1083177128225,
          478.4466055502094,
          478.4466055502094,
          478.4466055502094,
          478.4466055502094,
          478.4466055502094,
          478.4466055502094,
          478.4466055502094,
          480.78489338759636,
          480.78489338759636,
          480.78489338759636,
          480.78489338759636,
          480.78489338759636,
          480.78489338759636,
          480.78489338759636,
          480.78489338759636,
          480.78489338759636,
          480.78489338759636,
          480.78489338759636,
          483.1231812249833,
          483.1231812249833,
          485.4614690623702,
          485.4614690623702,
          485.4614690623702,
          485.4614690623702,
          487.7997568997572,
          487.7997568997572,
          487.7997568997572,
          487.7997568997572,
          487.7997568997572,
          487.7997568997572,
          490.1380447371441,
          490.1380447371441,
          490.1380447371441,
          492.47633257453106,
          492.47633257453106,
          494.814620411918,
          494.814620411918,
          497.1529082493049
         ],
         "yaxis": "y"
        }
       ],
       "layout": {
        "height": 800,
        "legend": {
         "tracegroupgap": 0
        },
        "template": {
         "data": {
          "bar": [
           {
            "error_x": {
             "color": "#2a3f5f"
            },
            "error_y": {
             "color": "#2a3f5f"
            },
            "marker": {
             "line": {
              "color": "#E5ECF6",
              "width": 0.5
             },
             "pattern": {
              "fillmode": "overlay",
              "size": 10,
              "solidity": 0.2
             }
            },
            "type": "bar"
           }
          ],
          "barpolar": [
           {
            "marker": {
             "line": {
              "color": "#E5ECF6",
              "width": 0.5
             },
             "pattern": {
              "fillmode": "overlay",
              "size": 10,
              "solidity": 0.2
             }
            },
            "type": "barpolar"
           }
          ],
          "carpet": [
           {
            "aaxis": {
             "endlinecolor": "#2a3f5f",
             "gridcolor": "white",
             "linecolor": "white",
             "minorgridcolor": "white",
             "startlinecolor": "#2a3f5f"
            },
            "baxis": {
             "endlinecolor": "#2a3f5f",
             "gridcolor": "white",
             "linecolor": "white",
             "minorgridcolor": "white",
             "startlinecolor": "#2a3f5f"
            },
            "type": "carpet"
           }
          ],
          "choropleth": [
           {
            "colorbar": {
             "outlinewidth": 0,
             "ticks": ""
            },
            "type": "choropleth"
           }
          ],
          "contour": [
           {
            "colorbar": {
             "outlinewidth": 0,
             "ticks": ""
            },
            "colorscale": [
             [
              0,
              "#0d0887"
             ],
             [
              0.1111111111111111,
              "#46039f"
             ],
             [
              0.2222222222222222,
              "#7201a8"
             ],
             [
              0.3333333333333333,
              "#9c179e"
             ],
             [
              0.4444444444444444,
              "#bd3786"
             ],
             [
              0.5555555555555556,
              "#d8576b"
             ],
             [
              0.6666666666666666,
              "#ed7953"
             ],
             [
              0.7777777777777778,
              "#fb9f3a"
             ],
             [
              0.8888888888888888,
              "#fdca26"
             ],
             [
              1,
              "#f0f921"
             ]
            ],
            "type": "contour"
           }
          ],
          "contourcarpet": [
           {
            "colorbar": {
             "outlinewidth": 0,
             "ticks": ""
            },
            "type": "contourcarpet"
           }
          ],
          "heatmap": [
           {
            "colorbar": {
             "outlinewidth": 0,
             "ticks": ""
            },
            "colorscale": [
             [
              0,
              "#0d0887"
             ],
             [
              0.1111111111111111,
              "#46039f"
             ],
             [
              0.2222222222222222,
              "#7201a8"
             ],
             [
              0.3333333333333333,
              "#9c179e"
             ],
             [
              0.4444444444444444,
              "#bd3786"
             ],
             [
              0.5555555555555556,
              "#d8576b"
             ],
             [
              0.6666666666666666,
              "#ed7953"
             ],
             [
              0.7777777777777778,
              "#fb9f3a"
             ],
             [
              0.8888888888888888,
              "#fdca26"
             ],
             [
              1,
              "#f0f921"
             ]
            ],
            "type": "heatmap"
           }
          ],
          "heatmapgl": [
           {
            "colorbar": {
             "outlinewidth": 0,
             "ticks": ""
            },
            "colorscale": [
             [
              0,
              "#0d0887"
             ],
             [
              0.1111111111111111,
              "#46039f"
             ],
             [
              0.2222222222222222,
              "#7201a8"
             ],
             [
              0.3333333333333333,
              "#9c179e"
             ],
             [
              0.4444444444444444,
              "#bd3786"
             ],
             [
              0.5555555555555556,
              "#d8576b"
             ],
             [
              0.6666666666666666,
              "#ed7953"
             ],
             [
              0.7777777777777778,
              "#fb9f3a"
             ],
             [
              0.8888888888888888,
              "#fdca26"
             ],
             [
              1,
              "#f0f921"
             ]
            ],
            "type": "heatmapgl"
           }
          ],
          "histogram": [
           {
            "marker": {
             "pattern": {
              "fillmode": "overlay",
              "size": 10,
              "solidity": 0.2
             }
            },
            "type": "histogram"
           }
          ],
          "histogram2d": [
           {
            "colorbar": {
             "outlinewidth": 0,
             "ticks": ""
            },
            "colorscale": [
             [
              0,
              "#0d0887"
             ],
             [
              0.1111111111111111,
              "#46039f"
             ],
             [
              0.2222222222222222,
              "#7201a8"
             ],
             [
              0.3333333333333333,
              "#9c179e"
             ],
             [
              0.4444444444444444,
              "#bd3786"
             ],
             [
              0.5555555555555556,
              "#d8576b"
             ],
             [
              0.6666666666666666,
              "#ed7953"
             ],
             [
              0.7777777777777778,
              "#fb9f3a"
             ],
             [
              0.8888888888888888,
              "#fdca26"
             ],
             [
              1,
              "#f0f921"
             ]
            ],
            "type": "histogram2d"
           }
          ],
          "histogram2dcontour": [
           {
            "colorbar": {
             "outlinewidth": 0,
             "ticks": ""
            },
            "colorscale": [
             [
              0,
              "#0d0887"
             ],
             [
              0.1111111111111111,
              "#46039f"
             ],
             [
              0.2222222222222222,
              "#7201a8"
             ],
             [
              0.3333333333333333,
              "#9c179e"
             ],
             [
              0.4444444444444444,
              "#bd3786"
             ],
             [
              0.5555555555555556,
              "#d8576b"
             ],
             [
              0.6666666666666666,
              "#ed7953"
             ],
             [
              0.7777777777777778,
              "#fb9f3a"
             ],
             [
              0.8888888888888888,
              "#fdca26"
             ],
             [
              1,
              "#f0f921"
             ]
            ],
            "type": "histogram2dcontour"
           }
          ],
          "mesh3d": [
           {
            "colorbar": {
             "outlinewidth": 0,
             "ticks": ""
            },
            "type": "mesh3d"
           }
          ],
          "parcoords": [
           {
            "line": {
             "colorbar": {
              "outlinewidth": 0,
              "ticks": ""
             }
            },
            "type": "parcoords"
           }
          ],
          "pie": [
           {
            "automargin": true,
            "type": "pie"
           }
          ],
          "scatter": [
           {
            "fillpattern": {
             "fillmode": "overlay",
             "size": 10,
             "solidity": 0.2
            },
            "type": "scatter"
           }
          ],
          "scatter3d": [
           {
            "line": {
             "colorbar": {
              "outlinewidth": 0,
              "ticks": ""
             }
            },
            "marker": {
             "colorbar": {
              "outlinewidth": 0,
              "ticks": ""
             }
            },
            "type": "scatter3d"
           }
          ],
          "scattercarpet": [
           {
            "marker": {
             "colorbar": {
              "outlinewidth": 0,
              "ticks": ""
             }
            },
            "type": "scattercarpet"
           }
          ],
          "scattergeo": [
           {
            "marker": {
             "colorbar": {
              "outlinewidth": 0,
              "ticks": ""
             }
            },
            "type": "scattergeo"
           }
          ],
          "scattergl": [
           {
            "marker": {
             "colorbar": {
              "outlinewidth": 0,
              "ticks": ""
             }
            },
            "type": "scattergl"
           }
          ],
          "scattermapbox": [
           {
            "marker": {
             "colorbar": {
              "outlinewidth": 0,
              "ticks": ""
             }
            },
            "type": "scattermapbox"
           }
          ],
          "scatterpolar": [
           {
            "marker": {
             "colorbar": {
              "outlinewidth": 0,
              "ticks": ""
             }
            },
            "type": "scatterpolar"
           }
          ],
          "scatterpolargl": [
           {
            "marker": {
             "colorbar": {
              "outlinewidth": 0,
              "ticks": ""
             }
            },
            "type": "scatterpolargl"
           }
          ],
          "scatterternary": [
           {
            "marker": {
             "colorbar": {
              "outlinewidth": 0,
              "ticks": ""
             }
            },
            "type": "scatterternary"
           }
          ],
          "surface": [
           {
            "colorbar": {
             "outlinewidth": 0,
             "ticks": ""
            },
            "colorscale": [
             [
              0,
              "#0d0887"
             ],
             [
              0.1111111111111111,
              "#46039f"
             ],
             [
              0.2222222222222222,
              "#7201a8"
             ],
             [
              0.3333333333333333,
              "#9c179e"
             ],
             [
              0.4444444444444444,
              "#bd3786"
             ],
             [
              0.5555555555555556,
              "#d8576b"
             ],
             [
              0.6666666666666666,
              "#ed7953"
             ],
             [
              0.7777777777777778,
              "#fb9f3a"
             ],
             [
              0.8888888888888888,
              "#fdca26"
             ],
             [
              1,
              "#f0f921"
             ]
            ],
            "type": "surface"
           }
          ],
          "table": [
           {
            "cells": {
             "fill": {
              "color": "#EBF0F8"
             },
             "line": {
              "color": "white"
             }
            },
            "header": {
             "fill": {
              "color": "#C8D4E3"
             },
             "line": {
              "color": "white"
             }
            },
            "type": "table"
           }
          ]
         },
         "layout": {
          "annotationdefaults": {
           "arrowcolor": "#2a3f5f",
           "arrowhead": 0,
           "arrowwidth": 1
          },
          "autotypenumbers": "strict",
          "coloraxis": {
           "colorbar": {
            "outlinewidth": 0,
            "ticks": ""
           }
          },
          "colorscale": {
           "diverging": [
            [
             0,
             "#8e0152"
            ],
            [
             0.1,
             "#c51b7d"
            ],
            [
             0.2,
             "#de77ae"
            ],
            [
             0.3,
             "#f1b6da"
            ],
            [
             0.4,
             "#fde0ef"
            ],
            [
             0.5,
             "#f7f7f7"
            ],
            [
             0.6,
             "#e6f5d0"
            ],
            [
             0.7,
             "#b8e186"
            ],
            [
             0.8,
             "#7fbc41"
            ],
            [
             0.9,
             "#4d9221"
            ],
            [
             1,
             "#276419"
            ]
           ],
           "sequential": [
            [
             0,
             "#0d0887"
            ],
            [
             0.1111111111111111,
             "#46039f"
            ],
            [
             0.2222222222222222,
             "#7201a8"
            ],
            [
             0.3333333333333333,
             "#9c179e"
            ],
            [
             0.4444444444444444,
             "#bd3786"
            ],
            [
             0.5555555555555556,
             "#d8576b"
            ],
            [
             0.6666666666666666,
             "#ed7953"
            ],
            [
             0.7777777777777778,
             "#fb9f3a"
            ],
            [
             0.8888888888888888,
             "#fdca26"
            ],
            [
             1,
             "#f0f921"
            ]
           ],
           "sequentialminus": [
            [
             0,
             "#0d0887"
            ],
            [
             0.1111111111111111,
             "#46039f"
            ],
            [
             0.2222222222222222,
             "#7201a8"
            ],
            [
             0.3333333333333333,
             "#9c179e"
            ],
            [
             0.4444444444444444,
             "#bd3786"
            ],
            [
             0.5555555555555556,
             "#d8576b"
            ],
            [
             0.6666666666666666,
             "#ed7953"
            ],
            [
             0.7777777777777778,
             "#fb9f3a"
            ],
            [
             0.8888888888888888,
             "#fdca26"
            ],
            [
             1,
             "#f0f921"
            ]
           ]
          },
          "colorway": [
           "#636efa",
           "#EF553B",
           "#00cc96",
           "#ab63fa",
           "#FFA15A",
           "#19d3f3",
           "#FF6692",
           "#B6E880",
           "#FF97FF",
           "#FECB52"
          ],
          "font": {
           "color": "#2a3f5f"
          },
          "geo": {
           "bgcolor": "white",
           "lakecolor": "white",
           "landcolor": "#E5ECF6",
           "showlakes": true,
           "showland": true,
           "subunitcolor": "white"
          },
          "hoverlabel": {
           "align": "left"
          },
          "hovermode": "closest",
          "mapbox": {
           "style": "light"
          },
          "paper_bgcolor": "white",
          "plot_bgcolor": "#E5ECF6",
          "polar": {
           "angularaxis": {
            "gridcolor": "white",
            "linecolor": "white",
            "ticks": ""
           },
           "bgcolor": "#E5ECF6",
           "radialaxis": {
            "gridcolor": "white",
            "linecolor": "white",
            "ticks": ""
           }
          },
          "scene": {
           "xaxis": {
            "backgroundcolor": "#E5ECF6",
            "gridcolor": "white",
            "gridwidth": 2,
            "linecolor": "white",
            "showbackground": true,
            "ticks": "",
            "zerolinecolor": "white"
           },
           "yaxis": {
            "backgroundcolor": "#E5ECF6",
            "gridcolor": "white",
            "gridwidth": 2,
            "linecolor": "white",
            "showbackground": true,
            "ticks": "",
            "zerolinecolor": "white"
           },
           "zaxis": {
            "backgroundcolor": "#E5ECF6",
            "gridcolor": "white",
            "gridwidth": 2,
            "linecolor": "white",
            "showbackground": true,
            "ticks": "",
            "zerolinecolor": "white"
           }
          },
          "shapedefaults": {
           "line": {
            "color": "#2a3f5f"
           }
          },
          "ternary": {
           "aaxis": {
            "gridcolor": "white",
            "linecolor": "white",
            "ticks": ""
           },
           "baxis": {
            "gridcolor": "white",
            "linecolor": "white",
            "ticks": ""
           },
           "bgcolor": "#E5ECF6",
           "caxis": {
            "gridcolor": "white",
            "linecolor": "white",
            "ticks": ""
           }
          },
          "title": {
           "x": 0.05
          },
          "xaxis": {
           "automargin": true,
           "gridcolor": "white",
           "linecolor": "white",
           "ticks": "",
           "title": {
            "standoff": 15
           },
           "zerolinecolor": "white",
           "zerolinewidth": 2
          },
          "yaxis": {
           "automargin": true,
           "gridcolor": "white",
           "linecolor": "white",
           "ticks": "",
           "title": {
            "standoff": 15
           },
           "zerolinecolor": "white",
           "zerolinewidth": 2
          }
         }
        },
        "title": {
         "text": "Relationship between mean temperature and household consumption of electricity"
        },
        "width": 900,
        "xaxis": {
         "anchor": "y",
         "autorange": true,
         "domain": [
          0,
          1
         ],
         "range": [
          25.789597570235383,
          29.610402429764616
         ],
         "title": {
          "text": "mean_temp"
         },
         "type": "linear"
        },
        "yaxis": {
         "anchor": "x",
         "autorange": true,
         "domain": [
          0,
          1
         ],
         "range": [
          356.51294277929156,
          614.9870572207085
         ],
         "title": {
          "text": "kwh_per_acc"
         },
         "type": "linear"
        }
       }
      },
      "text/html": [
       "<div>                            <div id=\"92868e95-aba3-492d-81bf-c4cac07bc49a\" class=\"plotly-graph-div\" style=\"height:800px; width:900px;\"></div>            <script type=\"text/javascript\">                require([\"plotly\"], function(Plotly) {                    window.PLOTLYENV=window.PLOTLYENV || {};                                    if (document.getElementById(\"92868e95-aba3-492d-81bf-c4cac07bc49a\")) {                    Plotly.newPlot(                        \"92868e95-aba3-492d-81bf-c4cac07bc49a\",                        [{\"hovertemplate\":\"mean_temp=%{x}\\u003cbr\\u003ekwh_per_acc=%{y}\\u003cextra\\u003e\\u003c\\u002fextra\\u003e\",\"legendgroup\":\"\",\"marker\":{\"color\":\"#636efa\",\"symbol\":\"circle\"},\"mode\":\"markers\",\"name\":\"\",\"orientation\":\"v\",\"showlegend\":false,\"x\":[26.6,28.5,28.5,28.7,28.5,28.8,28.0,28.2,28.2,27.6,27.3,27.3,26.5,27.5,28.3,27.6,28.1,27.8,28.4,28.3,28.0,28.3,27.3,26.6,26.5,27.3,27.5,28.1,28.3,28.4,27.7,27.7,27.8,27.8,26.9,26.4,26.8,26.7,26.5,28.1,28.8,28.2,27.8,27.4,27.7,27.6,27.3,26.9,26.8,27.3,27.2,28.5,28.7,29.1,28.3,28.3,28.3,28.2,27.2,27.1,27.5,28.9,28.6,28.6,29.2,28.3,27.7,27.9,28.0,28.3,27.4,26.8,26.3,27.3,27.1,27.9,28.5,28.4,28.7,27.9,27.8,27.3,27.1,26.6,26.7,27.2,27.0,27.6,28.2,28.7,27.7,27.9,27.9,27.7,27.1,26.7,27.1,26.5,28.3,28.2,28.2,29.0,27.8,27.9,27.5,27.7,27.1,26.5,26.2,27.2,27.9,28.2,28.6,29.0,28.7,27.7,28.5,28.4,27.5,27.0,26.9,27.0,28.2,28.6,28.7,29.0,29.1,28.4,28.7,28.7,28.0,27.7,28.3,27.8,29.0,29.4,29.3,28.5,28.4,28.9,28.3,28.3,27.4,27.4,26.9,26.9,27.4,27.8,28.5,28.5,28.3,28.1,28.0,27.9,27.1,27.0,26.1,27.2,28.0,28.5,28.7,28.4,28.5,28.5,28.0,27.9,27.3,27.6,28.0,28.2,28.7,28.6,29.3,28.4,29.0,29.1,29.0,28.1,28.0,26.7,27.7,27.9,28.6,28.9,28.9,28.1,27.9,28.3,27.5,28.3,27.2,27.2,26.0,27.3,27.9,28.2,28.7,28.5,28.6,27.6,28.3,28.5,27.6,27.7,27.4,27.3,28.1,28.1,29.2,27.9],\"xaxis\":\"x\",\"y\":[418.1,408.3,446.9,496.2,496.8,519.7,497.7,489.3,477.7,480.8,479.7,441.6,430.5,418.2,433.6,472.2,481.2,491.1,472.6,500.8,498.7,483.3,491.2,454.1,434.0,407.2,413.5,467.1,495.8,507.8,513.8,505.8,467.8,468.2,497.9,444.9,424.0,429.0,406.8,444.3,491.0,516.3,473.8,459.1,466.8,467.9,481.0,433.0,426.7,412.5,412.0,455.3,496.1,541.9,529.2,507.1,492.5,492.5,497.5,455.9,433.4,446.1,482.1,513.5,505.4,531.5,502.4,471.9,472.0,486.9,509.6,466.3,436.2,404.1,404.0,454.5,490.1,521.0,505.5,508.6,501.4,479.3,463.8,431.9,431.1,430.9,432.2,459.1,472.5,514.0,502.9,493.9,483.2,471.1,478.0,440.3,430.2,418.9,417.4,473.9,508.1,525.1,508.6,513.0,465.9,459.0,471.1,436.8,420.2,402.5,400.0,462.4,494.6,516.2,506.6,510.0,474.7,463.5,486.8,453.0,414.7,390.6,403.3,463.7,476.3,491.0,500.4,507.9,491.8,494.2,506.8,476.6,436.0,443.2,444.8,490.5,520.7,531.7,480.7,483.8,484.1,483.9,478.9,425.6,419.5,423.9,390.4,426.6,453.6,501.7,507.5,453.7,442.8,447.4,446.5,416.4,398.0,371.0,378.5,430.0,447.2,473.4,443.4,432.8,441.9,441.4,422.0,382.0,399.7,406.7,393.5,425.3,448.4,448.1,431.9,447.4,464.4,449.7,433.4,399.0,383.1,405.5,419.7,452.2,450.3,590.4,600.5,483.3,459.2,443.9,454.6,444.8,417.6,397.9,399.0,449.4,477.4,522.2,501.7,509.5,468.5,455.4,451.6,453.5,431.1,435.3,413.1,443.6,468.9,478.4],\"yaxis\":\"y\",\"type\":\"scatter\"},{\"hovertemplate\":\"\\u003cb\\u003eOLS trendline\\u003c\\u002fb\\u003e\\u003cbr\\u003ekwh_per_acc = 23.3829 * mean_temp + -190.304\\u003cbr\\u003eR\\u003csup\\u003e2\\u003c\\u002fsup\\u003e=0.187515\\u003cbr\\u003e\\u003cbr\\u003emean_temp=%{x}\\u003cbr\\u003ekwh_per_acc=%{y} \\u003cb\\u003e(trend)\\u003c\\u002fb\\u003e\\u003cextra\\u003e\\u003c\\u002fextra\\u003e\",\"legendgroup\":\"\",\"marker\":{\"color\":\"#636efa\",\"symbol\":\"circle\"},\"mode\":\"lines\",\"name\":\"\",\"showlegend\":false,\"x\":[26.0,26.1,26.2,26.3,26.4,26.5,26.5,26.5,26.5,26.5,26.6,26.6,26.6,26.7,26.7,26.7,26.7,26.8,26.8,26.8,26.9,26.9,26.9,26.9,26.9,27.0,27.0,27.0,27.0,27.1,27.1,27.1,27.1,27.1,27.1,27.1,27.2,27.2,27.2,27.2,27.2,27.2,27.2,27.3,27.3,27.3,27.3,27.3,27.3,27.3,27.3,27.3,27.3,27.3,27.4,27.4,27.4,27.4,27.4,27.4,27.5,27.5,27.5,27.5,27.5,27.5,27.6,27.6,27.6,27.6,27.6,27.6,27.6,27.7,27.7,27.7,27.7,27.7,27.7,27.7,27.7,27.7,27.7,27.7,27.8,27.8,27.8,27.8,27.8,27.8,27.8,27.8,27.9,27.9,27.9,27.9,27.9,27.9,27.9,27.9,27.9,27.9,27.9,27.9,27.9,28.0,28.0,28.0,28.0,28.0,28.0,28.0,28.0,28.0,28.1,28.1,28.1,28.1,28.1,28.1,28.1,28.1,28.2,28.2,28.2,28.2,28.2,28.2,28.2,28.2,28.2,28.2,28.2,28.3,28.3,28.3,28.3,28.3,28.3,28.3,28.3,28.3,28.3,28.3,28.3,28.3,28.3,28.3,28.3,28.3,28.4,28.4,28.4,28.4,28.4,28.4,28.4,28.4,28.5,28.5,28.5,28.5,28.5,28.5,28.5,28.5,28.5,28.5,28.5,28.5,28.5,28.5,28.6,28.6,28.6,28.6,28.6,28.6,28.6,28.7,28.7,28.7,28.7,28.7,28.7,28.7,28.7,28.7,28.7,28.7,28.8,28.8,28.9,28.9,28.9,28.9,29.0,29.0,29.0,29.0,29.0,29.0,29.1,29.1,29.1,29.2,29.2,29.3,29.3,29.4],\"xaxis\":\"x\",\"y\":[417.651121778149,419.989409615536,422.32769745292285,424.66598529030983,427.0042731276967,429.3425609650837,429.3425609650837,429.3425609650837,429.3425609650837,429.3425609650837,431.6808488024707,431.6808488024707,431.6808488024707,434.01913663985755,434.01913663985755,434.01913663985755,434.01913663985755,436.35742447724454,436.35742447724454,436.35742447724454,438.6957123146314,438.6957123146314,438.6957123146314,438.6957123146314,438.6957123146314,441.0340001520184,441.0340001520184,441.0340001520184,441.0340001520184,443.3722879894054,443.3722879894054,443.3722879894054,443.3722879894054,443.3722879894054,443.3722879894054,443.3722879894054,445.71057582679225,445.71057582679225,445.71057582679225,445.71057582679225,445.71057582679225,445.71057582679225,445.71057582679225,448.04886366417924,448.04886366417924,448.04886366417924,448.04886366417924,448.04886366417924,448.04886366417924,448.04886366417924,448.04886366417924,448.04886366417924,448.04886366417924,448.04886366417924,450.3871515015661,450.3871515015661,450.3871515015661,450.3871515015661,450.3871515015661,450.3871515015661,452.7254393389531,452.7254393389531,452.7254393389531,452.7254393389531,452.7254393389531,452.7254393389531,455.0637271763401,455.0637271763401,455.0637271763401,455.0637271763401,455.0637271763401,455.0637271763401,455.0637271763401,457.40201501372695,457.40201501372695,457.40201501372695,457.40201501372695,457.40201501372695,457.40201501372695,457.40201501372695,457.40201501372695,457.40201501372695,457.40201501372695,457.40201501372695,459.74030285111394,459.74030285111394,459.74030285111394,459.74030285111394,459.74030285111394,459.74030285111394,459.74030285111394,459.74030285111394,462.0785906885008,462.0785906885008,462.0785906885008,462.0785906885008,462.0785906885008,462.0785906885008,462.0785906885008,462.0785906885008,462.0785906885008,462.0785906885008,462.0785906885008,462.0785906885008,462.0785906885008,464.4168785258878,464.4168785258878,464.4168785258878,464.4168785258878,464.4168785258878,464.4168785258878,464.4168785258878,464.4168785258878,464.4168785258878,466.7551663632748,466.7551663632748,466.7551663632748,466.7551663632748,466.7551663632748,466.7551663632748,466.7551663632748,466.7551663632748,469.09345420066165,469.09345420066165,469.09345420066165,469.09345420066165,469.09345420066165,469.09345420066165,469.09345420066165,469.09345420066165,469.09345420066165,469.09345420066165,469.09345420066165,471.43174203804864,471.43174203804864,471.43174203804864,471.43174203804864,471.43174203804864,471.43174203804864,471.43174203804864,471.43174203804864,471.43174203804864,471.43174203804864,471.43174203804864,471.43174203804864,471.43174203804864,471.43174203804864,471.43174203804864,471.43174203804864,471.43174203804864,473.7700298754355,473.7700298754355,473.7700298754355,473.7700298754355,473.7700298754355,473.7700298754355,473.7700298754355,473.7700298754355,476.1083177128225,476.1083177128225,476.1083177128225,476.1083177128225,476.1083177128225,476.1083177128225,476.1083177128225,476.1083177128225,476.1083177128225,476.1083177128225,476.1083177128225,476.1083177128225,476.1083177128225,476.1083177128225,478.4466055502094,478.4466055502094,478.4466055502094,478.4466055502094,478.4466055502094,478.4466055502094,478.4466055502094,480.78489338759636,480.78489338759636,480.78489338759636,480.78489338759636,480.78489338759636,480.78489338759636,480.78489338759636,480.78489338759636,480.78489338759636,480.78489338759636,480.78489338759636,483.1231812249833,483.1231812249833,485.4614690623702,485.4614690623702,485.4614690623702,485.4614690623702,487.7997568997572,487.7997568997572,487.7997568997572,487.7997568997572,487.7997568997572,487.7997568997572,490.1380447371441,490.1380447371441,490.1380447371441,492.47633257453106,492.47633257453106,494.814620411918,494.814620411918,497.1529082493049],\"yaxis\":\"y\",\"type\":\"scatter\"}],                        {\"template\":{\"data\":{\"histogram2dcontour\":[{\"type\":\"histogram2dcontour\",\"colorbar\":{\"outlinewidth\":0,\"ticks\":\"\"},\"colorscale\":[[0.0,\"#0d0887\"],[0.1111111111111111,\"#46039f\"],[0.2222222222222222,\"#7201a8\"],[0.3333333333333333,\"#9c179e\"],[0.4444444444444444,\"#bd3786\"],[0.5555555555555556,\"#d8576b\"],[0.6666666666666666,\"#ed7953\"],[0.7777777777777778,\"#fb9f3a\"],[0.8888888888888888,\"#fdca26\"],[1.0,\"#f0f921\"]]}],\"choropleth\":[{\"type\":\"choropleth\",\"colorbar\":{\"outlinewidth\":0,\"ticks\":\"\"}}],\"histogram2d\":[{\"type\":\"histogram2d\",\"colorbar\":{\"outlinewidth\":0,\"ticks\":\"\"},\"colorscale\":[[0.0,\"#0d0887\"],[0.1111111111111111,\"#46039f\"],[0.2222222222222222,\"#7201a8\"],[0.3333333333333333,\"#9c179e\"],[0.4444444444444444,\"#bd3786\"],[0.5555555555555556,\"#d8576b\"],[0.6666666666666666,\"#ed7953\"],[0.7777777777777778,\"#fb9f3a\"],[0.8888888888888888,\"#fdca26\"],[1.0,\"#f0f921\"]]}],\"heatmap\":[{\"type\":\"heatmap\",\"colorbar\":{\"outlinewidth\":0,\"ticks\":\"\"},\"colorscale\":[[0.0,\"#0d0887\"],[0.1111111111111111,\"#46039f\"],[0.2222222222222222,\"#7201a8\"],[0.3333333333333333,\"#9c179e\"],[0.4444444444444444,\"#bd3786\"],[0.5555555555555556,\"#d8576b\"],[0.6666666666666666,\"#ed7953\"],[0.7777777777777778,\"#fb9f3a\"],[0.8888888888888888,\"#fdca26\"],[1.0,\"#f0f921\"]]}],\"heatmapgl\":[{\"type\":\"heatmapgl\",\"colorbar\":{\"outlinewidth\":0,\"ticks\":\"\"},\"colorscale\":[[0.0,\"#0d0887\"],[0.1111111111111111,\"#46039f\"],[0.2222222222222222,\"#7201a8\"],[0.3333333333333333,\"#9c179e\"],[0.4444444444444444,\"#bd3786\"],[0.5555555555555556,\"#d8576b\"],[0.6666666666666666,\"#ed7953\"],[0.7777777777777778,\"#fb9f3a\"],[0.8888888888888888,\"#fdca26\"],[1.0,\"#f0f921\"]]}],\"contourcarpet\":[{\"type\":\"contourcarpet\",\"colorbar\":{\"outlinewidth\":0,\"ticks\":\"\"}}],\"contour\":[{\"type\":\"contour\",\"colorbar\":{\"outlinewidth\":0,\"ticks\":\"\"},\"colorscale\":[[0.0,\"#0d0887\"],[0.1111111111111111,\"#46039f\"],[0.2222222222222222,\"#7201a8\"],[0.3333333333333333,\"#9c179e\"],[0.4444444444444444,\"#bd3786\"],[0.5555555555555556,\"#d8576b\"],[0.6666666666666666,\"#ed7953\"],[0.7777777777777778,\"#fb9f3a\"],[0.8888888888888888,\"#fdca26\"],[1.0,\"#f0f921\"]]}],\"surface\":[{\"type\":\"surface\",\"colorbar\":{\"outlinewidth\":0,\"ticks\":\"\"},\"colorscale\":[[0.0,\"#0d0887\"],[0.1111111111111111,\"#46039f\"],[0.2222222222222222,\"#7201a8\"],[0.3333333333333333,\"#9c179e\"],[0.4444444444444444,\"#bd3786\"],[0.5555555555555556,\"#d8576b\"],[0.6666666666666666,\"#ed7953\"],[0.7777777777777778,\"#fb9f3a\"],[0.8888888888888888,\"#fdca26\"],[1.0,\"#f0f921\"]]}],\"mesh3d\":[{\"type\":\"mesh3d\",\"colorbar\":{\"outlinewidth\":0,\"ticks\":\"\"}}],\"scatter\":[{\"fillpattern\":{\"fillmode\":\"overlay\",\"size\":10,\"solidity\":0.2},\"type\":\"scatter\"}],\"parcoords\":[{\"type\":\"parcoords\",\"line\":{\"colorbar\":{\"outlinewidth\":0,\"ticks\":\"\"}}}],\"scatterpolargl\":[{\"type\":\"scatterpolargl\",\"marker\":{\"colorbar\":{\"outlinewidth\":0,\"ticks\":\"\"}}}],\"bar\":[{\"error_x\":{\"color\":\"#2a3f5f\"},\"error_y\":{\"color\":\"#2a3f5f\"},\"marker\":{\"line\":{\"color\":\"#E5ECF6\",\"width\":0.5},\"pattern\":{\"fillmode\":\"overlay\",\"size\":10,\"solidity\":0.2}},\"type\":\"bar\"}],\"scattergeo\":[{\"type\":\"scattergeo\",\"marker\":{\"colorbar\":{\"outlinewidth\":0,\"ticks\":\"\"}}}],\"scatterpolar\":[{\"type\":\"scatterpolar\",\"marker\":{\"colorbar\":{\"outlinewidth\":0,\"ticks\":\"\"}}}],\"histogram\":[{\"marker\":{\"pattern\":{\"fillmode\":\"overlay\",\"size\":10,\"solidity\":0.2}},\"type\":\"histogram\"}],\"scattergl\":[{\"type\":\"scattergl\",\"marker\":{\"colorbar\":{\"outlinewidth\":0,\"ticks\":\"\"}}}],\"scatter3d\":[{\"type\":\"scatter3d\",\"line\":{\"colorbar\":{\"outlinewidth\":0,\"ticks\":\"\"}},\"marker\":{\"colorbar\":{\"outlinewidth\":0,\"ticks\":\"\"}}}],\"scattermapbox\":[{\"type\":\"scattermapbox\",\"marker\":{\"colorbar\":{\"outlinewidth\":0,\"ticks\":\"\"}}}],\"scatterternary\":[{\"type\":\"scatterternary\",\"marker\":{\"colorbar\":{\"outlinewidth\":0,\"ticks\":\"\"}}}],\"scattercarpet\":[{\"type\":\"scattercarpet\",\"marker\":{\"colorbar\":{\"outlinewidth\":0,\"ticks\":\"\"}}}],\"carpet\":[{\"aaxis\":{\"endlinecolor\":\"#2a3f5f\",\"gridcolor\":\"white\",\"linecolor\":\"white\",\"minorgridcolor\":\"white\",\"startlinecolor\":\"#2a3f5f\"},\"baxis\":{\"endlinecolor\":\"#2a3f5f\",\"gridcolor\":\"white\",\"linecolor\":\"white\",\"minorgridcolor\":\"white\",\"startlinecolor\":\"#2a3f5f\"},\"type\":\"carpet\"}],\"table\":[{\"cells\":{\"fill\":{\"color\":\"#EBF0F8\"},\"line\":{\"color\":\"white\"}},\"header\":{\"fill\":{\"color\":\"#C8D4E3\"},\"line\":{\"color\":\"white\"}},\"type\":\"table\"}],\"barpolar\":[{\"marker\":{\"line\":{\"color\":\"#E5ECF6\",\"width\":0.5},\"pattern\":{\"fillmode\":\"overlay\",\"size\":10,\"solidity\":0.2}},\"type\":\"barpolar\"}],\"pie\":[{\"automargin\":true,\"type\":\"pie\"}]},\"layout\":{\"autotypenumbers\":\"strict\",\"colorway\":[\"#636efa\",\"#EF553B\",\"#00cc96\",\"#ab63fa\",\"#FFA15A\",\"#19d3f3\",\"#FF6692\",\"#B6E880\",\"#FF97FF\",\"#FECB52\"],\"font\":{\"color\":\"#2a3f5f\"},\"hovermode\":\"closest\",\"hoverlabel\":{\"align\":\"left\"},\"paper_bgcolor\":\"white\",\"plot_bgcolor\":\"#E5ECF6\",\"polar\":{\"bgcolor\":\"#E5ECF6\",\"angularaxis\":{\"gridcolor\":\"white\",\"linecolor\":\"white\",\"ticks\":\"\"},\"radialaxis\":{\"gridcolor\":\"white\",\"linecolor\":\"white\",\"ticks\":\"\"}},\"ternary\":{\"bgcolor\":\"#E5ECF6\",\"aaxis\":{\"gridcolor\":\"white\",\"linecolor\":\"white\",\"ticks\":\"\"},\"baxis\":{\"gridcolor\":\"white\",\"linecolor\":\"white\",\"ticks\":\"\"},\"caxis\":{\"gridcolor\":\"white\",\"linecolor\":\"white\",\"ticks\":\"\"}},\"coloraxis\":{\"colorbar\":{\"outlinewidth\":0,\"ticks\":\"\"}},\"colorscale\":{\"sequential\":[[0.0,\"#0d0887\"],[0.1111111111111111,\"#46039f\"],[0.2222222222222222,\"#7201a8\"],[0.3333333333333333,\"#9c179e\"],[0.4444444444444444,\"#bd3786\"],[0.5555555555555556,\"#d8576b\"],[0.6666666666666666,\"#ed7953\"],[0.7777777777777778,\"#fb9f3a\"],[0.8888888888888888,\"#fdca26\"],[1.0,\"#f0f921\"]],\"sequentialminus\":[[0.0,\"#0d0887\"],[0.1111111111111111,\"#46039f\"],[0.2222222222222222,\"#7201a8\"],[0.3333333333333333,\"#9c179e\"],[0.4444444444444444,\"#bd3786\"],[0.5555555555555556,\"#d8576b\"],[0.6666666666666666,\"#ed7953\"],[0.7777777777777778,\"#fb9f3a\"],[0.8888888888888888,\"#fdca26\"],[1.0,\"#f0f921\"]],\"diverging\":[[0,\"#8e0152\"],[0.1,\"#c51b7d\"],[0.2,\"#de77ae\"],[0.3,\"#f1b6da\"],[0.4,\"#fde0ef\"],[0.5,\"#f7f7f7\"],[0.6,\"#e6f5d0\"],[0.7,\"#b8e186\"],[0.8,\"#7fbc41\"],[0.9,\"#4d9221\"],[1,\"#276419\"]]},\"xaxis\":{\"gridcolor\":\"white\",\"linecolor\":\"white\",\"ticks\":\"\",\"title\":{\"standoff\":15},\"zerolinecolor\":\"white\",\"automargin\":true,\"zerolinewidth\":2},\"yaxis\":{\"gridcolor\":\"white\",\"linecolor\":\"white\",\"ticks\":\"\",\"title\":{\"standoff\":15},\"zerolinecolor\":\"white\",\"automargin\":true,\"zerolinewidth\":2},\"scene\":{\"xaxis\":{\"backgroundcolor\":\"#E5ECF6\",\"gridcolor\":\"white\",\"linecolor\":\"white\",\"showbackground\":true,\"ticks\":\"\",\"zerolinecolor\":\"white\",\"gridwidth\":2},\"yaxis\":{\"backgroundcolor\":\"#E5ECF6\",\"gridcolor\":\"white\",\"linecolor\":\"white\",\"showbackground\":true,\"ticks\":\"\",\"zerolinecolor\":\"white\",\"gridwidth\":2},\"zaxis\":{\"backgroundcolor\":\"#E5ECF6\",\"gridcolor\":\"white\",\"linecolor\":\"white\",\"showbackground\":true,\"ticks\":\"\",\"zerolinecolor\":\"white\",\"gridwidth\":2}},\"shapedefaults\":{\"line\":{\"color\":\"#2a3f5f\"}},\"annotationdefaults\":{\"arrowcolor\":\"#2a3f5f\",\"arrowhead\":0,\"arrowwidth\":1},\"geo\":{\"bgcolor\":\"white\",\"landcolor\":\"#E5ECF6\",\"subunitcolor\":\"white\",\"showland\":true,\"showlakes\":true,\"lakecolor\":\"white\"},\"title\":{\"x\":0.05},\"mapbox\":{\"style\":\"light\"}}},\"xaxis\":{\"anchor\":\"y\",\"domain\":[0.0,1.0],\"title\":{\"text\":\"mean_temp\"}},\"yaxis\":{\"anchor\":\"x\",\"domain\":[0.0,1.0],\"title\":{\"text\":\"kwh_per_acc\"}},\"legend\":{\"tracegroupgap\":0},\"title\":{\"text\":\"Relationship between mean temperature and household consumption of electricity\"},\"height\":800,\"width\":900},                        {\"responsive\": true}                    ).then(function(){\n",
       "                            \n",
       "var gd = document.getElementById('92868e95-aba3-492d-81bf-c4cac07bc49a');\n",
       "var x = new MutationObserver(function (mutations, observer) {{\n",
       "        var display = window.getComputedStyle(gd).display;\n",
       "        if (!display || display === 'none') {{\n",
       "            console.log([gd, 'removed!']);\n",
       "            Plotly.purge(gd);\n",
       "            observer.disconnect();\n",
       "        }}\n",
       "}});\n",
       "\n",
       "// Listen for the removal of the full notebook cells\n",
       "var notebookContainer = gd.closest('#notebook-container');\n",
       "if (notebookContainer) {{\n",
       "    x.observe(notebookContainer, {childList: true});\n",
       "}}\n",
       "\n",
       "// Listen for the clearing of the current output cell\n",
       "var outputEl = gd.closest('.output');\n",
       "if (outputEl) {{\n",
       "    x.observe(outputEl, {childList: true});\n",
       "}}\n",
       "\n",
       "                        })                };                });            </script>        </div>"
      ]
     },
     "metadata": {},
     "output_type": "display_data"
    }
   ],
   "source": [
    "scatterplt = px.scatter(elec, \n",
    "                 x = 'mean_temp', \n",
    "                 y = 'kwh_per_acc', \n",
    "                 trendline = 'ols', \n",
    "                 width = 900, height = 800, \n",
    "                 title = 'Relationship between mean temperature and household consumption of electricity')\n",
    "scatterplt.show()"
   ]
  },
  {
   "cell_type": "markdown",
   "metadata": {},
   "source": [
    "*Interpretation: We see a mild positive relationship between the mean temperature and the household consumption of electricity. The line of best fit has an R^2 value of 0.19, and a coefficient of 23.38.*\n",
    "\n",
    "*This means that an increase in 1 degree in temperature will result an increase in the household consumption of electricity of 23.38 kWh per household on average.*"
   ]
  },
  {
   "cell_type": "markdown",
   "metadata": {},
   "source": [
    "Now, let us compare with the scatterplot between the household consumption of electricity, with the total rainfall. This allows us to see the difference between scatterplots with mild correlation and scatterplots with little correlation."
   ]
  },
  {
   "cell_type": "code",
   "execution_count": 141,
   "metadata": {},
   "outputs": [
    {
     "data": {
      "application/vnd.plotly.v1+json": {
       "config": {
        "plotlyServerURL": "https://plot.ly"
       },
       "data": [
        {
         "hovertemplate": "total_rainfall=%{x}<br>kwh_per_acc=%{y}<extra></extra>",
         "legendgroup": "",
         "marker": {
          "color": "#636efa",
          "symbol": "circle"
         },
         "mode": "markers",
         "name": "",
         "orientation": "v",
         "showlegend": false,
         "type": "scatter",
         "x": [
          163.2,
          8.4,
          82.4,
          81.7,
          331.1,
          82.3,
          104,
          58.5,
          175.7,
          314.5,
          362.9,
          166,
          454.4,
          115.5,
          83.1,
          239.8,
          205.7,
          236.8,
          153.8,
          127.3,
          83.3,
          102,
          185.6,
          765.9,
          450.1,
          105.5,
          269.1,
          240.2,
          127.2,
          139,
          141.7,
          190.7,
          149,
          237.2,
          367.9,
          468.6,
          262.6,
          129.2,
          294.1,
          87.2,
          124.9,
          118.3,
          89.1,
          327.3,
          164.4,
          159.5,
          324.3,
          244.2,
          38.3,
          201.8,
          223.3,
          183.7,
          198.6,
          21.8,
          161,
          177.8,
          109.6,
          133.4,
          281.8,
          189.8,
          69.5,
          6.3,
          238,
          158.5,
          157.5,
          240.5,
          298.5,
          158.4,
          121.5,
          166.2,
          278.8,
          181.4,
          513.2,
          23,
          256.6,
          217.8,
          127,
          213,
          76.6,
          81.4,
          136.4,
          216.8,
          377.8,
          284.6,
          106.1,
          83.6,
          313.4,
          260.6,
          292,
          53,
          130.8,
          119,
          107.6,
          122.2,
          208.2,
          363.4,
          262,
          395.2,
          85.8,
          159.4,
          211.4,
          111.4,
          174.6,
          165.6,
          257,
          285.4,
          292.4,
          348.2,
          75.4,
          0.2,
          66,
          110,
          125.8,
          71.4,
          148.6,
          241,
          83.6,
          120,
          250.8,
          245.6,
          79.6,
          18.8,
          84.4,
          73.2,
          89,
          95.8,
          116.8,
          185.8,
          61.6,
          87.2,
          72.6,
          302.3,
          126.6,
          186,
          6.2,
          89.8,
          193.8,
          162.8,
          168.6,
          139.2,
          118.9,
          181,
          290.2,
          292.6,
          197.6,
          158.4,
          136.2,
          208.6,
          190,
          106,
          79.6,
          84.2,
          124.4,
          120.8,
          268.6,
          371.2,
          287,
          14.8,
          44.6,
          61.2,
          132.2,
          182.6,
          143.2,
          121.6,
          144.4,
          234.4,
          169.6,
          172.6,
          63.6,
          31.6,
          72.2,
          174.8,
          69,
          173.8,
          12.2,
          11.8,
          22.8,
          176.8,
          137.4,
          421.5,
          88.4,
          65,
          108.8,
          188,
          255.6,
          233.8,
          140.8,
          103.4,
          150.2,
          78.8,
          220.6,
          253.2,
          692.8,
          1,
          182.4,
          290.4,
          245.8,
          93.4,
          195.8,
          293.6,
          205.4,
          177,
          312.4,
          119.6,
          99.8,
          175,
          163.2,
          239.6,
          102,
          211.8
         ],
         "xaxis": "x",
         "y": [
          418.1,
          408.3,
          446.9,
          496.2,
          496.8,
          519.7,
          497.7,
          489.3,
          477.7,
          480.8,
          479.7,
          441.6,
          430.5,
          418.2,
          433.6,
          472.2,
          481.2,
          491.1,
          472.6,
          500.8,
          498.7,
          483.3,
          491.2,
          454.1,
          434,
          407.2,
          413.5,
          467.1,
          495.8,
          507.8,
          513.8,
          505.8,
          467.8,
          468.2,
          497.9,
          444.9,
          424,
          429,
          406.8,
          444.3,
          491,
          516.3,
          473.8,
          459.1,
          466.8,
          467.9,
          481,
          433,
          426.7,
          412.5,
          412,
          455.3,
          496.1,
          541.9,
          529.2,
          507.1,
          492.5,
          492.5,
          497.5,
          455.9,
          433.4,
          446.1,
          482.1,
          513.5,
          505.4,
          531.5,
          502.4,
          471.9,
          472,
          486.9,
          509.6,
          466.3,
          436.2,
          404.1,
          404,
          454.5,
          490.1,
          521,
          505.5,
          508.6,
          501.4,
          479.3,
          463.8,
          431.9,
          431.1,
          430.9,
          432.2,
          459.1,
          472.5,
          514,
          502.9,
          493.9,
          483.2,
          471.1,
          478,
          440.3,
          430.2,
          418.9,
          417.4,
          473.9,
          508.1,
          525.1,
          508.6,
          513,
          465.9,
          459,
          471.1,
          436.8,
          420.2,
          402.5,
          400,
          462.4,
          494.6,
          516.2,
          506.6,
          510,
          474.7,
          463.5,
          486.8,
          453,
          414.7,
          390.6,
          403.3,
          463.7,
          476.3,
          491,
          500.4,
          507.9,
          491.8,
          494.2,
          506.8,
          476.6,
          436,
          443.2,
          444.8,
          490.5,
          520.7,
          531.7,
          480.7,
          483.8,
          484.1,
          483.9,
          478.9,
          425.6,
          419.5,
          423.9,
          390.4,
          426.6,
          453.6,
          501.7,
          507.5,
          453.7,
          442.8,
          447.4,
          446.5,
          416.4,
          398,
          371,
          378.5,
          430,
          447.2,
          473.4,
          443.4,
          432.8,
          441.9,
          441.4,
          422,
          382,
          399.7,
          406.7,
          393.5,
          425.3,
          448.4,
          448.1,
          431.9,
          447.4,
          464.4,
          449.7,
          433.4,
          399,
          383.1,
          405.5,
          419.7,
          452.2,
          450.3,
          590.4,
          600.5,
          483.3,
          459.2,
          443.9,
          454.6,
          444.8,
          417.6,
          397.9,
          399,
          449.4,
          477.4,
          522.2,
          501.7,
          509.5,
          468.5,
          455.4,
          451.6,
          453.5,
          431.1,
          435.3,
          413.1,
          443.6,
          468.9,
          478.4
         ],
         "yaxis": "y"
        },
        {
         "hovertemplate": "<b>OLS trendline</b><br>kwh_per_acc = -0.00372022 * total_rainfall + 462.498<br>R<sup>2</sup>=0.000112<br><br>total_rainfall=%{x}<br>kwh_per_acc=%{y} <b>(trend)</b><extra></extra>",
         "legendgroup": "",
         "marker": {
          "color": "#636efa",
          "symbol": "circle"
         },
         "mode": "lines",
         "name": "",
         "showlegend": false,
         "type": "scatter",
         "x": [
          0.2,
          1,
          6.2,
          6.3,
          8.4,
          11.8,
          12.2,
          14.8,
          18.8,
          21.8,
          22.8,
          23,
          31.6,
          38.3,
          44.6,
          53,
          58.5,
          61.2,
          61.6,
          63.6,
          65,
          66,
          69,
          69.5,
          71.4,
          72.2,
          72.6,
          73.2,
          75.4,
          76.6,
          78.8,
          79.6,
          79.6,
          81.4,
          81.7,
          82.3,
          82.4,
          83.1,
          83.3,
          83.6,
          83.6,
          84.2,
          84.4,
          85.8,
          87.2,
          87.2,
          88.4,
          89,
          89.1,
          89.8,
          93.4,
          95.8,
          99.8,
          102,
          102,
          103.4,
          104,
          105.5,
          106,
          106.1,
          107.6,
          108.8,
          109.6,
          110,
          111.4,
          115.5,
          116.8,
          118.3,
          118.9,
          119,
          119.6,
          120,
          120.8,
          121.5,
          121.6,
          122.2,
          124.4,
          124.9,
          125.8,
          126.6,
          127,
          127.2,
          127.3,
          129.2,
          130.8,
          132.2,
          133.4,
          136.2,
          136.4,
          137.4,
          139,
          139.2,
          140.8,
          141.7,
          143.2,
          144.4,
          148.6,
          149,
          150.2,
          153.8,
          157.5,
          158.4,
          158.4,
          158.5,
          159.4,
          159.5,
          161,
          162.8,
          163.2,
          163.2,
          164.4,
          165.6,
          166,
          166.2,
          168.6,
          169.6,
          172.6,
          173.8,
          174.6,
          174.8,
          175,
          175.7,
          176.8,
          177,
          177.8,
          181,
          181.4,
          182.4,
          182.6,
          183.7,
          185.6,
          185.8,
          186,
          188,
          189.8,
          190,
          190.7,
          193.8,
          195.8,
          197.6,
          198.6,
          201.8,
          205.4,
          205.7,
          208.2,
          208.6,
          211.4,
          211.8,
          213,
          216.8,
          217.8,
          220.6,
          223.3,
          233.8,
          234.4,
          236.8,
          237.2,
          238,
          239.6,
          239.8,
          240.2,
          240.5,
          241,
          244.2,
          245.6,
          245.8,
          250.8,
          253.2,
          255.6,
          256.6,
          257,
          260.6,
          262,
          262.6,
          268.6,
          269.1,
          278.8,
          281.8,
          284.6,
          285.4,
          287,
          290.2,
          290.4,
          292,
          292.4,
          292.6,
          293.6,
          294.1,
          298.5,
          302.3,
          312.4,
          313.4,
          314.5,
          324.3,
          327.3,
          331.1,
          348.2,
          362.9,
          363.4,
          367.9,
          371.2,
          377.8,
          395.2,
          421.5,
          450.1,
          454.4,
          468.6,
          513.2,
          692.8,
          765.9
         ],
         "xaxis": "x",
         "y": [
          462.49760338350893,
          462.49462720952477,
          462.4752820786277,
          462.4749100568797,
          462.46709760017126,
          462.4544488607386,
          462.4529607737465,
          462.443288208298,
          462.42840733837716,
          462.41724668593656,
          462.4135264684564,
          462.4127824249603,
          462.3807885546306,
          462.35586309751324,
          462.332425727388,
          462.3011759005543,
          462.2807147044132,
          462.2706701172167,
          462.2691820302246,
          462.2617415952642,
          462.25653329079194,
          462.2528130733117,
          462.2416524208711,
          462.239792312131,
          462.2327238989186,
          462.22974772493444,
          462.22825963794236,
          462.22602750745426,
          462.21784302899783,
          462.2133787680216,
          462.20519428956516,
          462.202218115581,
          462.202218115581,
          462.19552172411665,
          462.19440565887254,
          462.19217352838444,
          462.1918015066364,
          462.1891973544003,
          462.18845331090426,
          462.18733724566016,
          462.18733724566016,
          462.18510511517206,
          462.184361071676,
          462.17915276720373,
          462.17394446273147,
          462.17394446273147,
          462.1694802017552,
          462.16724807126707,
          462.1668760495191,
          462.16427189728296,
          462.1508791143542,
          462.1419505924017,
          462.12706972248094,
          462.1188852440245,
          462.1188852440245,
          462.1136769395522,
          462.1114448090641,
          462.1058644828438,
          462.1040043741037,
          462.10363235235565,
          462.09805202613535,
          462.0935877651591,
          462.090611591175,
          462.0891235041829,
          462.0839151997106,
          462.0686623080418,
          462.0638260253175,
          462.0582456990972,
          462.0560135686091,
          462.05564154686107,
          462.053409416373,
          462.0519213293809,
          462.0489451553967,
          462.0463410031606,
          462.04596898141256,
          462.04373685092446,
          462.035552372468,
          462.0336922637279,
          462.0303440679957,
          462.02736789401155,
          462.02587980701946,
          462.02513576352345,
          462.0247637417754,
          462.01769532856304,
          462.0117429805947,
          462.00653467612244,
          462.0020704151462,
          461.9916538062016,
          461.9909097627056,
          461.98718954522536,
          461.9812371972571,
          461.980493153761,
          461.9745408057927,
          461.97119261006054,
          461.96561228384024,
          461.961148022864,
          461.94552310944715,
          461.94403502245507,
          461.9395707614788,
          461.92617797855013,
          461.91241317387335,
          461.9090649781412,
          461.9090649781412,
          461.90869295639317,
          461.90534476066097,
          461.90497273891293,
          461.89939241269263,
          461.8926960212283,
          461.8912079342362,
          461.8912079342362,
          461.88674367325996,
          461.8822794122837,
          461.8807913252917,
          461.8800472817956,
          461.8711187598431,
          461.86739854236293,
          461.85623788992234,
          461.8517736289461,
          461.8487974549619,
          461.8480534114659,
          461.84730936796984,
          461.8447052157337,
          461.8406129765055,
          461.8398689330094,
          461.83689275902526,
          461.82498806308865,
          461.82349997609657,
          461.8197797586164,
          461.8190357151203,
          461.8149434758921,
          461.8078750626797,
          461.80713101918366,
          461.80638697568764,
          461.79894654072723,
          461.7922501492629,
          461.7915061057668,
          461.7889019535307,
          461.77736927934205,
          461.7699288443817,
          461.7632324529173,
          461.7595122354371,
          461.74760753950045,
          461.73421475657176,
          461.7330986913277,
          461.7237981476272,
          461.7223100606351,
          461.71189345169057,
          461.7104053646985,
          461.70594110372224,
          461.6918042772975,
          461.68808405981724,
          461.6776674508727,
          461.6676228636762,
          461.62856058013404,
          461.62632844964594,
          461.61739992769344,
          461.61591184070136,
          461.6129356667172,
          461.6069833187489,
          461.60623927525285,
          461.60475118826076,
          461.6036351230167,
          461.6017750142766,
          461.58987031834,
          461.58466201386767,
          461.58391797037166,
          461.56531688297065,
          461.55638836101815,
          461.5474598390657,
          461.5437396215855,
          461.5422515345934,
          461.5288587516647,
          461.5236504471924,
          461.5214183167043,
          461.4990970118231,
          461.497236903083,
          461.461150793525,
          461.4499901410844,
          461.4395735321399,
          461.4365973581557,
          461.4306450101874,
          461.4187403142507,
          461.4179962707547,
          461.4120439227864,
          461.4105558357943,
          461.4098117922983,
          461.40609157481805,
          461.404231466078,
          461.3878625091651,
          461.3737256827403,
          461.3361514861903,
          461.3324312687101,
          461.32833902948187,
          461.2918808981759,
          461.2807202457353,
          461.26658341931056,
          461.20296770039914,
          461.14828050344016,
          461.14642039470004,
          461.12967941603915,
          461.1174026983545,
          461.09284926298517,
          461.0281174788297,
          460.9302757591004,
          460.8238775391667,
          460.8078806040018,
          460.75505351578295,
          460.589131816166,
          459.92098075672203,
          459.6490328589193
         ],
         "yaxis": "y"
        }
       ],
       "layout": {
        "height": 800,
        "legend": {
         "tracegroupgap": 0
        },
        "template": {
         "data": {
          "bar": [
           {
            "error_x": {
             "color": "#2a3f5f"
            },
            "error_y": {
             "color": "#2a3f5f"
            },
            "marker": {
             "line": {
              "color": "#E5ECF6",
              "width": 0.5
             },
             "pattern": {
              "fillmode": "overlay",
              "size": 10,
              "solidity": 0.2
             }
            },
            "type": "bar"
           }
          ],
          "barpolar": [
           {
            "marker": {
             "line": {
              "color": "#E5ECF6",
              "width": 0.5
             },
             "pattern": {
              "fillmode": "overlay",
              "size": 10,
              "solidity": 0.2
             }
            },
            "type": "barpolar"
           }
          ],
          "carpet": [
           {
            "aaxis": {
             "endlinecolor": "#2a3f5f",
             "gridcolor": "white",
             "linecolor": "white",
             "minorgridcolor": "white",
             "startlinecolor": "#2a3f5f"
            },
            "baxis": {
             "endlinecolor": "#2a3f5f",
             "gridcolor": "white",
             "linecolor": "white",
             "minorgridcolor": "white",
             "startlinecolor": "#2a3f5f"
            },
            "type": "carpet"
           }
          ],
          "choropleth": [
           {
            "colorbar": {
             "outlinewidth": 0,
             "ticks": ""
            },
            "type": "choropleth"
           }
          ],
          "contour": [
           {
            "colorbar": {
             "outlinewidth": 0,
             "ticks": ""
            },
            "colorscale": [
             [
              0,
              "#0d0887"
             ],
             [
              0.1111111111111111,
              "#46039f"
             ],
             [
              0.2222222222222222,
              "#7201a8"
             ],
             [
              0.3333333333333333,
              "#9c179e"
             ],
             [
              0.4444444444444444,
              "#bd3786"
             ],
             [
              0.5555555555555556,
              "#d8576b"
             ],
             [
              0.6666666666666666,
              "#ed7953"
             ],
             [
              0.7777777777777778,
              "#fb9f3a"
             ],
             [
              0.8888888888888888,
              "#fdca26"
             ],
             [
              1,
              "#f0f921"
             ]
            ],
            "type": "contour"
           }
          ],
          "contourcarpet": [
           {
            "colorbar": {
             "outlinewidth": 0,
             "ticks": ""
            },
            "type": "contourcarpet"
           }
          ],
          "heatmap": [
           {
            "colorbar": {
             "outlinewidth": 0,
             "ticks": ""
            },
            "colorscale": [
             [
              0,
              "#0d0887"
             ],
             [
              0.1111111111111111,
              "#46039f"
             ],
             [
              0.2222222222222222,
              "#7201a8"
             ],
             [
              0.3333333333333333,
              "#9c179e"
             ],
             [
              0.4444444444444444,
              "#bd3786"
             ],
             [
              0.5555555555555556,
              "#d8576b"
             ],
             [
              0.6666666666666666,
              "#ed7953"
             ],
             [
              0.7777777777777778,
              "#fb9f3a"
             ],
             [
              0.8888888888888888,
              "#fdca26"
             ],
             [
              1,
              "#f0f921"
             ]
            ],
            "type": "heatmap"
           }
          ],
          "heatmapgl": [
           {
            "colorbar": {
             "outlinewidth": 0,
             "ticks": ""
            },
            "colorscale": [
             [
              0,
              "#0d0887"
             ],
             [
              0.1111111111111111,
              "#46039f"
             ],
             [
              0.2222222222222222,
              "#7201a8"
             ],
             [
              0.3333333333333333,
              "#9c179e"
             ],
             [
              0.4444444444444444,
              "#bd3786"
             ],
             [
              0.5555555555555556,
              "#d8576b"
             ],
             [
              0.6666666666666666,
              "#ed7953"
             ],
             [
              0.7777777777777778,
              "#fb9f3a"
             ],
             [
              0.8888888888888888,
              "#fdca26"
             ],
             [
              1,
              "#f0f921"
             ]
            ],
            "type": "heatmapgl"
           }
          ],
          "histogram": [
           {
            "marker": {
             "pattern": {
              "fillmode": "overlay",
              "size": 10,
              "solidity": 0.2
             }
            },
            "type": "histogram"
           }
          ],
          "histogram2d": [
           {
            "colorbar": {
             "outlinewidth": 0,
             "ticks": ""
            },
            "colorscale": [
             [
              0,
              "#0d0887"
             ],
             [
              0.1111111111111111,
              "#46039f"
             ],
             [
              0.2222222222222222,
              "#7201a8"
             ],
             [
              0.3333333333333333,
              "#9c179e"
             ],
             [
              0.4444444444444444,
              "#bd3786"
             ],
             [
              0.5555555555555556,
              "#d8576b"
             ],
             [
              0.6666666666666666,
              "#ed7953"
             ],
             [
              0.7777777777777778,
              "#fb9f3a"
             ],
             [
              0.8888888888888888,
              "#fdca26"
             ],
             [
              1,
              "#f0f921"
             ]
            ],
            "type": "histogram2d"
           }
          ],
          "histogram2dcontour": [
           {
            "colorbar": {
             "outlinewidth": 0,
             "ticks": ""
            },
            "colorscale": [
             [
              0,
              "#0d0887"
             ],
             [
              0.1111111111111111,
              "#46039f"
             ],
             [
              0.2222222222222222,
              "#7201a8"
             ],
             [
              0.3333333333333333,
              "#9c179e"
             ],
             [
              0.4444444444444444,
              "#bd3786"
             ],
             [
              0.5555555555555556,
              "#d8576b"
             ],
             [
              0.6666666666666666,
              "#ed7953"
             ],
             [
              0.7777777777777778,
              "#fb9f3a"
             ],
             [
              0.8888888888888888,
              "#fdca26"
             ],
             [
              1,
              "#f0f921"
             ]
            ],
            "type": "histogram2dcontour"
           }
          ],
          "mesh3d": [
           {
            "colorbar": {
             "outlinewidth": 0,
             "ticks": ""
            },
            "type": "mesh3d"
           }
          ],
          "parcoords": [
           {
            "line": {
             "colorbar": {
              "outlinewidth": 0,
              "ticks": ""
             }
            },
            "type": "parcoords"
           }
          ],
          "pie": [
           {
            "automargin": true,
            "type": "pie"
           }
          ],
          "scatter": [
           {
            "fillpattern": {
             "fillmode": "overlay",
             "size": 10,
             "solidity": 0.2
            },
            "type": "scatter"
           }
          ],
          "scatter3d": [
           {
            "line": {
             "colorbar": {
              "outlinewidth": 0,
              "ticks": ""
             }
            },
            "marker": {
             "colorbar": {
              "outlinewidth": 0,
              "ticks": ""
             }
            },
            "type": "scatter3d"
           }
          ],
          "scattercarpet": [
           {
            "marker": {
             "colorbar": {
              "outlinewidth": 0,
              "ticks": ""
             }
            },
            "type": "scattercarpet"
           }
          ],
          "scattergeo": [
           {
            "marker": {
             "colorbar": {
              "outlinewidth": 0,
              "ticks": ""
             }
            },
            "type": "scattergeo"
           }
          ],
          "scattergl": [
           {
            "marker": {
             "colorbar": {
              "outlinewidth": 0,
              "ticks": ""
             }
            },
            "type": "scattergl"
           }
          ],
          "scattermapbox": [
           {
            "marker": {
             "colorbar": {
              "outlinewidth": 0,
              "ticks": ""
             }
            },
            "type": "scattermapbox"
           }
          ],
          "scatterpolar": [
           {
            "marker": {
             "colorbar": {
              "outlinewidth": 0,
              "ticks": ""
             }
            },
            "type": "scatterpolar"
           }
          ],
          "scatterpolargl": [
           {
            "marker": {
             "colorbar": {
              "outlinewidth": 0,
              "ticks": ""
             }
            },
            "type": "scatterpolargl"
           }
          ],
          "scatterternary": [
           {
            "marker": {
             "colorbar": {
              "outlinewidth": 0,
              "ticks": ""
             }
            },
            "type": "scatterternary"
           }
          ],
          "surface": [
           {
            "colorbar": {
             "outlinewidth": 0,
             "ticks": ""
            },
            "colorscale": [
             [
              0,
              "#0d0887"
             ],
             [
              0.1111111111111111,
              "#46039f"
             ],
             [
              0.2222222222222222,
              "#7201a8"
             ],
             [
              0.3333333333333333,
              "#9c179e"
             ],
             [
              0.4444444444444444,
              "#bd3786"
             ],
             [
              0.5555555555555556,
              "#d8576b"
             ],
             [
              0.6666666666666666,
              "#ed7953"
             ],
             [
              0.7777777777777778,
              "#fb9f3a"
             ],
             [
              0.8888888888888888,
              "#fdca26"
             ],
             [
              1,
              "#f0f921"
             ]
            ],
            "type": "surface"
           }
          ],
          "table": [
           {
            "cells": {
             "fill": {
              "color": "#EBF0F8"
             },
             "line": {
              "color": "white"
             }
            },
            "header": {
             "fill": {
              "color": "#C8D4E3"
             },
             "line": {
              "color": "white"
             }
            },
            "type": "table"
           }
          ]
         },
         "layout": {
          "annotationdefaults": {
           "arrowcolor": "#2a3f5f",
           "arrowhead": 0,
           "arrowwidth": 1
          },
          "autotypenumbers": "strict",
          "coloraxis": {
           "colorbar": {
            "outlinewidth": 0,
            "ticks": ""
           }
          },
          "colorscale": {
           "diverging": [
            [
             0,
             "#8e0152"
            ],
            [
             0.1,
             "#c51b7d"
            ],
            [
             0.2,
             "#de77ae"
            ],
            [
             0.3,
             "#f1b6da"
            ],
            [
             0.4,
             "#fde0ef"
            ],
            [
             0.5,
             "#f7f7f7"
            ],
            [
             0.6,
             "#e6f5d0"
            ],
            [
             0.7,
             "#b8e186"
            ],
            [
             0.8,
             "#7fbc41"
            ],
            [
             0.9,
             "#4d9221"
            ],
            [
             1,
             "#276419"
            ]
           ],
           "sequential": [
            [
             0,
             "#0d0887"
            ],
            [
             0.1111111111111111,
             "#46039f"
            ],
            [
             0.2222222222222222,
             "#7201a8"
            ],
            [
             0.3333333333333333,
             "#9c179e"
            ],
            [
             0.4444444444444444,
             "#bd3786"
            ],
            [
             0.5555555555555556,
             "#d8576b"
            ],
            [
             0.6666666666666666,
             "#ed7953"
            ],
            [
             0.7777777777777778,
             "#fb9f3a"
            ],
            [
             0.8888888888888888,
             "#fdca26"
            ],
            [
             1,
             "#f0f921"
            ]
           ],
           "sequentialminus": [
            [
             0,
             "#0d0887"
            ],
            [
             0.1111111111111111,
             "#46039f"
            ],
            [
             0.2222222222222222,
             "#7201a8"
            ],
            [
             0.3333333333333333,
             "#9c179e"
            ],
            [
             0.4444444444444444,
             "#bd3786"
            ],
            [
             0.5555555555555556,
             "#d8576b"
            ],
            [
             0.6666666666666666,
             "#ed7953"
            ],
            [
             0.7777777777777778,
             "#fb9f3a"
            ],
            [
             0.8888888888888888,
             "#fdca26"
            ],
            [
             1,
             "#f0f921"
            ]
           ]
          },
          "colorway": [
           "#636efa",
           "#EF553B",
           "#00cc96",
           "#ab63fa",
           "#FFA15A",
           "#19d3f3",
           "#FF6692",
           "#B6E880",
           "#FF97FF",
           "#FECB52"
          ],
          "font": {
           "color": "#2a3f5f"
          },
          "geo": {
           "bgcolor": "white",
           "lakecolor": "white",
           "landcolor": "#E5ECF6",
           "showlakes": true,
           "showland": true,
           "subunitcolor": "white"
          },
          "hoverlabel": {
           "align": "left"
          },
          "hovermode": "closest",
          "mapbox": {
           "style": "light"
          },
          "paper_bgcolor": "white",
          "plot_bgcolor": "#E5ECF6",
          "polar": {
           "angularaxis": {
            "gridcolor": "white",
            "linecolor": "white",
            "ticks": ""
           },
           "bgcolor": "#E5ECF6",
           "radialaxis": {
            "gridcolor": "white",
            "linecolor": "white",
            "ticks": ""
           }
          },
          "scene": {
           "xaxis": {
            "backgroundcolor": "#E5ECF6",
            "gridcolor": "white",
            "gridwidth": 2,
            "linecolor": "white",
            "showbackground": true,
            "ticks": "",
            "zerolinecolor": "white"
           },
           "yaxis": {
            "backgroundcolor": "#E5ECF6",
            "gridcolor": "white",
            "gridwidth": 2,
            "linecolor": "white",
            "showbackground": true,
            "ticks": "",
            "zerolinecolor": "white"
           },
           "zaxis": {
            "backgroundcolor": "#E5ECF6",
            "gridcolor": "white",
            "gridwidth": 2,
            "linecolor": "white",
            "showbackground": true,
            "ticks": "",
            "zerolinecolor": "white"
           }
          },
          "shapedefaults": {
           "line": {
            "color": "#2a3f5f"
           }
          },
          "ternary": {
           "aaxis": {
            "gridcolor": "white",
            "linecolor": "white",
            "ticks": ""
           },
           "baxis": {
            "gridcolor": "white",
            "linecolor": "white",
            "ticks": ""
           },
           "bgcolor": "#E5ECF6",
           "caxis": {
            "gridcolor": "white",
            "linecolor": "white",
            "ticks": ""
           }
          },
          "title": {
           "x": 0.05
          },
          "xaxis": {
           "automargin": true,
           "gridcolor": "white",
           "linecolor": "white",
           "ticks": "",
           "title": {
            "standoff": 15
           },
           "zerolinecolor": "white",
           "zerolinewidth": 2
          },
          "yaxis": {
           "automargin": true,
           "gridcolor": "white",
           "linecolor": "white",
           "ticks": "",
           "title": {
            "standoff": 15
           },
           "zerolinecolor": "white",
           "zerolinewidth": 2
          }
         }
        },
        "title": {
         "text": "Relationship between total rainfall and household consumption of electricity"
        },
        "width": 900,
        "xaxis": {
         "anchor": "y",
         "autorange": true,
         "domain": [
          0,
          1
         ],
         "range": [
          -47.1838648443432,
          813.2838648443432
         ],
         "title": {
          "text": "total_rainfall"
         },
         "type": "linear"
        },
        "yaxis": {
         "anchor": "x",
         "autorange": true,
         "domain": [
          0,
          1
         ],
         "range": [
          356.51294277929156,
          614.9870572207085
         ],
         "title": {
          "text": "kwh_per_acc"
         },
         "type": "linear"
        }
       }
      },
      "text/html": [
       "<div>                            <div id=\"d3345b84-6c85-45f2-a61e-df687adf2155\" class=\"plotly-graph-div\" style=\"height:800px; width:900px;\"></div>            <script type=\"text/javascript\">                require([\"plotly\"], function(Plotly) {                    window.PLOTLYENV=window.PLOTLYENV || {};                                    if (document.getElementById(\"d3345b84-6c85-45f2-a61e-df687adf2155\")) {                    Plotly.newPlot(                        \"d3345b84-6c85-45f2-a61e-df687adf2155\",                        [{\"hovertemplate\":\"total_rainfall=%{x}\\u003cbr\\u003ekwh_per_acc=%{y}\\u003cextra\\u003e\\u003c\\u002fextra\\u003e\",\"legendgroup\":\"\",\"marker\":{\"color\":\"#636efa\",\"symbol\":\"circle\"},\"mode\":\"markers\",\"name\":\"\",\"orientation\":\"v\",\"showlegend\":false,\"x\":[163.2,8.4,82.4,81.7,331.1,82.3,104.0,58.5,175.7,314.5,362.9,166.0,454.4,115.5,83.1,239.8,205.7,236.8,153.8,127.3,83.3,102.0,185.6,765.9,450.1,105.5,269.1,240.2,127.2,139.0,141.7,190.7,149.0,237.2,367.9,468.6,262.6,129.2,294.1,87.2,124.9,118.3,89.1,327.3,164.4,159.5,324.3,244.2,38.3,201.8,223.3,183.7,198.6,21.8,161.0,177.8,109.6,133.4,281.8,189.8,69.5,6.3,238.0,158.5,157.5,240.5,298.5,158.4,121.5,166.2,278.8,181.4,513.2,23.0,256.6,217.8,127.0,213.0,76.6,81.4,136.4,216.8,377.8,284.6,106.1,83.6,313.4,260.6,292.0,53.0,130.8,119.0,107.6,122.2,208.2,363.4,262.0,395.2,85.8,159.4,211.4,111.4,174.6,165.6,257.0,285.4,292.4,348.2,75.4,0.2,66.0,110.0,125.8,71.4,148.6,241.0,83.6,120.0,250.8,245.6,79.6,18.8,84.4,73.2,89.0,95.8,116.8,185.8,61.6,87.2,72.6,302.3,126.6,186.0,6.2,89.8,193.8,162.8,168.6,139.2,118.9,181.0,290.2,292.6,197.6,158.4,136.2,208.6,190.0,106.0,79.6,84.2,124.4,120.8,268.6,371.2,287.0,14.8,44.6,61.2,132.2,182.6,143.2,121.6,144.4,234.4,169.6,172.6,63.6,31.6,72.2,174.8,69.0,173.8,12.2,11.8,22.8,176.8,137.4,421.5,88.4,65.0,108.8,188.0,255.6,233.8,140.8,103.4,150.2,78.8,220.6,253.2,692.8,1.0,182.4,290.4,245.8,93.4,195.8,293.6,205.4,177.0,312.4,119.6,99.8,175.0,163.2,239.6,102.0,211.8],\"xaxis\":\"x\",\"y\":[418.1,408.3,446.9,496.2,496.8,519.7,497.7,489.3,477.7,480.8,479.7,441.6,430.5,418.2,433.6,472.2,481.2,491.1,472.6,500.8,498.7,483.3,491.2,454.1,434.0,407.2,413.5,467.1,495.8,507.8,513.8,505.8,467.8,468.2,497.9,444.9,424.0,429.0,406.8,444.3,491.0,516.3,473.8,459.1,466.8,467.9,481.0,433.0,426.7,412.5,412.0,455.3,496.1,541.9,529.2,507.1,492.5,492.5,497.5,455.9,433.4,446.1,482.1,513.5,505.4,531.5,502.4,471.9,472.0,486.9,509.6,466.3,436.2,404.1,404.0,454.5,490.1,521.0,505.5,508.6,501.4,479.3,463.8,431.9,431.1,430.9,432.2,459.1,472.5,514.0,502.9,493.9,483.2,471.1,478.0,440.3,430.2,418.9,417.4,473.9,508.1,525.1,508.6,513.0,465.9,459.0,471.1,436.8,420.2,402.5,400.0,462.4,494.6,516.2,506.6,510.0,474.7,463.5,486.8,453.0,414.7,390.6,403.3,463.7,476.3,491.0,500.4,507.9,491.8,494.2,506.8,476.6,436.0,443.2,444.8,490.5,520.7,531.7,480.7,483.8,484.1,483.9,478.9,425.6,419.5,423.9,390.4,426.6,453.6,501.7,507.5,453.7,442.8,447.4,446.5,416.4,398.0,371.0,378.5,430.0,447.2,473.4,443.4,432.8,441.9,441.4,422.0,382.0,399.7,406.7,393.5,425.3,448.4,448.1,431.9,447.4,464.4,449.7,433.4,399.0,383.1,405.5,419.7,452.2,450.3,590.4,600.5,483.3,459.2,443.9,454.6,444.8,417.6,397.9,399.0,449.4,477.4,522.2,501.7,509.5,468.5,455.4,451.6,453.5,431.1,435.3,413.1,443.6,468.9,478.4],\"yaxis\":\"y\",\"type\":\"scatter\"},{\"hovertemplate\":\"\\u003cb\\u003eOLS trendline\\u003c\\u002fb\\u003e\\u003cbr\\u003ekwh_per_acc = -0.00372022 * total_rainfall + 462.498\\u003cbr\\u003eR\\u003csup\\u003e2\\u003c\\u002fsup\\u003e=0.000112\\u003cbr\\u003e\\u003cbr\\u003etotal_rainfall=%{x}\\u003cbr\\u003ekwh_per_acc=%{y} \\u003cb\\u003e(trend)\\u003c\\u002fb\\u003e\\u003cextra\\u003e\\u003c\\u002fextra\\u003e\",\"legendgroup\":\"\",\"marker\":{\"color\":\"#636efa\",\"symbol\":\"circle\"},\"mode\":\"lines\",\"name\":\"\",\"showlegend\":false,\"x\":[0.2,1.0,6.2,6.3,8.4,11.8,12.2,14.8,18.8,21.8,22.8,23.0,31.6,38.3,44.6,53.0,58.5,61.2,61.6,63.6,65.0,66.0,69.0,69.5,71.4,72.2,72.6,73.2,75.4,76.6,78.8,79.6,79.6,81.4,81.7,82.3,82.4,83.1,83.3,83.6,83.6,84.2,84.4,85.8,87.2,87.2,88.4,89.0,89.1,89.8,93.4,95.8,99.8,102.0,102.0,103.4,104.0,105.5,106.0,106.1,107.6,108.8,109.6,110.0,111.4,115.5,116.8,118.3,118.9,119.0,119.6,120.0,120.8,121.5,121.6,122.2,124.4,124.9,125.8,126.6,127.0,127.2,127.3,129.2,130.8,132.2,133.4,136.2,136.4,137.4,139.0,139.2,140.8,141.7,143.2,144.4,148.6,149.0,150.2,153.8,157.5,158.4,158.4,158.5,159.4,159.5,161.0,162.8,163.2,163.2,164.4,165.6,166.0,166.2,168.6,169.6,172.6,173.8,174.6,174.8,175.0,175.7,176.8,177.0,177.8,181.0,181.4,182.4,182.6,183.7,185.6,185.8,186.0,188.0,189.8,190.0,190.7,193.8,195.8,197.6,198.6,201.8,205.4,205.7,208.2,208.6,211.4,211.8,213.0,216.8,217.8,220.6,223.3,233.8,234.4,236.8,237.2,238.0,239.6,239.8,240.2,240.5,241.0,244.2,245.6,245.8,250.8,253.2,255.6,256.6,257.0,260.6,262.0,262.6,268.6,269.1,278.8,281.8,284.6,285.4,287.0,290.2,290.4,292.0,292.4,292.6,293.6,294.1,298.5,302.3,312.4,313.4,314.5,324.3,327.3,331.1,348.2,362.9,363.4,367.9,371.2,377.8,395.2,421.5,450.1,454.4,468.6,513.2,692.8,765.9],\"xaxis\":\"x\",\"y\":[462.49760338350893,462.49462720952477,462.4752820786277,462.4749100568797,462.46709760017126,462.4544488607386,462.4529607737465,462.443288208298,462.42840733837716,462.41724668593656,462.4135264684564,462.4127824249603,462.3807885546306,462.35586309751324,462.332425727388,462.3011759005543,462.2807147044132,462.2706701172167,462.2691820302246,462.2617415952642,462.25653329079194,462.2528130733117,462.2416524208711,462.239792312131,462.2327238989186,462.22974772493444,462.22825963794236,462.22602750745426,462.21784302899783,462.2133787680216,462.20519428956516,462.202218115581,462.202218115581,462.19552172411665,462.19440565887254,462.19217352838444,462.1918015066364,462.1891973544003,462.18845331090426,462.18733724566016,462.18733724566016,462.18510511517206,462.184361071676,462.17915276720373,462.17394446273147,462.17394446273147,462.1694802017552,462.16724807126707,462.1668760495191,462.16427189728296,462.1508791143542,462.1419505924017,462.12706972248094,462.1188852440245,462.1188852440245,462.1136769395522,462.1114448090641,462.1058644828438,462.1040043741037,462.10363235235565,462.09805202613535,462.0935877651591,462.090611591175,462.0891235041829,462.0839151997106,462.0686623080418,462.0638260253175,462.0582456990972,462.0560135686091,462.05564154686107,462.053409416373,462.0519213293809,462.0489451553967,462.0463410031606,462.04596898141256,462.04373685092446,462.035552372468,462.0336922637279,462.0303440679957,462.02736789401155,462.02587980701946,462.02513576352345,462.0247637417754,462.01769532856304,462.0117429805947,462.00653467612244,462.0020704151462,461.9916538062016,461.9909097627056,461.98718954522536,461.9812371972571,461.980493153761,461.9745408057927,461.97119261006054,461.96561228384024,461.961148022864,461.94552310944715,461.94403502245507,461.9395707614788,461.92617797855013,461.91241317387335,461.9090649781412,461.9090649781412,461.90869295639317,461.90534476066097,461.90497273891293,461.89939241269263,461.8926960212283,461.8912079342362,461.8912079342362,461.88674367325996,461.8822794122837,461.8807913252917,461.8800472817956,461.8711187598431,461.86739854236293,461.85623788992234,461.8517736289461,461.8487974549619,461.8480534114659,461.84730936796984,461.8447052157337,461.8406129765055,461.8398689330094,461.83689275902526,461.82498806308865,461.82349997609657,461.8197797586164,461.8190357151203,461.8149434758921,461.8078750626797,461.80713101918366,461.80638697568764,461.79894654072723,461.7922501492629,461.7915061057668,461.7889019535307,461.77736927934205,461.7699288443817,461.7632324529173,461.7595122354371,461.74760753950045,461.73421475657176,461.7330986913277,461.7237981476272,461.7223100606351,461.71189345169057,461.7104053646985,461.70594110372224,461.6918042772975,461.68808405981724,461.6776674508727,461.6676228636762,461.62856058013404,461.62632844964594,461.61739992769344,461.61591184070136,461.6129356667172,461.6069833187489,461.60623927525285,461.60475118826076,461.6036351230167,461.6017750142766,461.58987031834,461.58466201386767,461.58391797037166,461.56531688297065,461.55638836101815,461.5474598390657,461.5437396215855,461.5422515345934,461.5288587516647,461.5236504471924,461.5214183167043,461.4990970118231,461.497236903083,461.461150793525,461.4499901410844,461.4395735321399,461.4365973581557,461.4306450101874,461.4187403142507,461.4179962707547,461.4120439227864,461.4105558357943,461.4098117922983,461.40609157481805,461.404231466078,461.3878625091651,461.3737256827403,461.3361514861903,461.3324312687101,461.32833902948187,461.2918808981759,461.2807202457353,461.26658341931056,461.20296770039914,461.14828050344016,461.14642039470004,461.12967941603915,461.1174026983545,461.09284926298517,461.0281174788297,460.9302757591004,460.8238775391667,460.8078806040018,460.75505351578295,460.589131816166,459.92098075672203,459.6490328589193],\"yaxis\":\"y\",\"type\":\"scatter\"}],                        {\"template\":{\"data\":{\"histogram2dcontour\":[{\"type\":\"histogram2dcontour\",\"colorbar\":{\"outlinewidth\":0,\"ticks\":\"\"},\"colorscale\":[[0.0,\"#0d0887\"],[0.1111111111111111,\"#46039f\"],[0.2222222222222222,\"#7201a8\"],[0.3333333333333333,\"#9c179e\"],[0.4444444444444444,\"#bd3786\"],[0.5555555555555556,\"#d8576b\"],[0.6666666666666666,\"#ed7953\"],[0.7777777777777778,\"#fb9f3a\"],[0.8888888888888888,\"#fdca26\"],[1.0,\"#f0f921\"]]}],\"choropleth\":[{\"type\":\"choropleth\",\"colorbar\":{\"outlinewidth\":0,\"ticks\":\"\"}}],\"histogram2d\":[{\"type\":\"histogram2d\",\"colorbar\":{\"outlinewidth\":0,\"ticks\":\"\"},\"colorscale\":[[0.0,\"#0d0887\"],[0.1111111111111111,\"#46039f\"],[0.2222222222222222,\"#7201a8\"],[0.3333333333333333,\"#9c179e\"],[0.4444444444444444,\"#bd3786\"],[0.5555555555555556,\"#d8576b\"],[0.6666666666666666,\"#ed7953\"],[0.7777777777777778,\"#fb9f3a\"],[0.8888888888888888,\"#fdca26\"],[1.0,\"#f0f921\"]]}],\"heatmap\":[{\"type\":\"heatmap\",\"colorbar\":{\"outlinewidth\":0,\"ticks\":\"\"},\"colorscale\":[[0.0,\"#0d0887\"],[0.1111111111111111,\"#46039f\"],[0.2222222222222222,\"#7201a8\"],[0.3333333333333333,\"#9c179e\"],[0.4444444444444444,\"#bd3786\"],[0.5555555555555556,\"#d8576b\"],[0.6666666666666666,\"#ed7953\"],[0.7777777777777778,\"#fb9f3a\"],[0.8888888888888888,\"#fdca26\"],[1.0,\"#f0f921\"]]}],\"heatmapgl\":[{\"type\":\"heatmapgl\",\"colorbar\":{\"outlinewidth\":0,\"ticks\":\"\"},\"colorscale\":[[0.0,\"#0d0887\"],[0.1111111111111111,\"#46039f\"],[0.2222222222222222,\"#7201a8\"],[0.3333333333333333,\"#9c179e\"],[0.4444444444444444,\"#bd3786\"],[0.5555555555555556,\"#d8576b\"],[0.6666666666666666,\"#ed7953\"],[0.7777777777777778,\"#fb9f3a\"],[0.8888888888888888,\"#fdca26\"],[1.0,\"#f0f921\"]]}],\"contourcarpet\":[{\"type\":\"contourcarpet\",\"colorbar\":{\"outlinewidth\":0,\"ticks\":\"\"}}],\"contour\":[{\"type\":\"contour\",\"colorbar\":{\"outlinewidth\":0,\"ticks\":\"\"},\"colorscale\":[[0.0,\"#0d0887\"],[0.1111111111111111,\"#46039f\"],[0.2222222222222222,\"#7201a8\"],[0.3333333333333333,\"#9c179e\"],[0.4444444444444444,\"#bd3786\"],[0.5555555555555556,\"#d8576b\"],[0.6666666666666666,\"#ed7953\"],[0.7777777777777778,\"#fb9f3a\"],[0.8888888888888888,\"#fdca26\"],[1.0,\"#f0f921\"]]}],\"surface\":[{\"type\":\"surface\",\"colorbar\":{\"outlinewidth\":0,\"ticks\":\"\"},\"colorscale\":[[0.0,\"#0d0887\"],[0.1111111111111111,\"#46039f\"],[0.2222222222222222,\"#7201a8\"],[0.3333333333333333,\"#9c179e\"],[0.4444444444444444,\"#bd3786\"],[0.5555555555555556,\"#d8576b\"],[0.6666666666666666,\"#ed7953\"],[0.7777777777777778,\"#fb9f3a\"],[0.8888888888888888,\"#fdca26\"],[1.0,\"#f0f921\"]]}],\"mesh3d\":[{\"type\":\"mesh3d\",\"colorbar\":{\"outlinewidth\":0,\"ticks\":\"\"}}],\"scatter\":[{\"fillpattern\":{\"fillmode\":\"overlay\",\"size\":10,\"solidity\":0.2},\"type\":\"scatter\"}],\"parcoords\":[{\"type\":\"parcoords\",\"line\":{\"colorbar\":{\"outlinewidth\":0,\"ticks\":\"\"}}}],\"scatterpolargl\":[{\"type\":\"scatterpolargl\",\"marker\":{\"colorbar\":{\"outlinewidth\":0,\"ticks\":\"\"}}}],\"bar\":[{\"error_x\":{\"color\":\"#2a3f5f\"},\"error_y\":{\"color\":\"#2a3f5f\"},\"marker\":{\"line\":{\"color\":\"#E5ECF6\",\"width\":0.5},\"pattern\":{\"fillmode\":\"overlay\",\"size\":10,\"solidity\":0.2}},\"type\":\"bar\"}],\"scattergeo\":[{\"type\":\"scattergeo\",\"marker\":{\"colorbar\":{\"outlinewidth\":0,\"ticks\":\"\"}}}],\"scatterpolar\":[{\"type\":\"scatterpolar\",\"marker\":{\"colorbar\":{\"outlinewidth\":0,\"ticks\":\"\"}}}],\"histogram\":[{\"marker\":{\"pattern\":{\"fillmode\":\"overlay\",\"size\":10,\"solidity\":0.2}},\"type\":\"histogram\"}],\"scattergl\":[{\"type\":\"scattergl\",\"marker\":{\"colorbar\":{\"outlinewidth\":0,\"ticks\":\"\"}}}],\"scatter3d\":[{\"type\":\"scatter3d\",\"line\":{\"colorbar\":{\"outlinewidth\":0,\"ticks\":\"\"}},\"marker\":{\"colorbar\":{\"outlinewidth\":0,\"ticks\":\"\"}}}],\"scattermapbox\":[{\"type\":\"scattermapbox\",\"marker\":{\"colorbar\":{\"outlinewidth\":0,\"ticks\":\"\"}}}],\"scatterternary\":[{\"type\":\"scatterternary\",\"marker\":{\"colorbar\":{\"outlinewidth\":0,\"ticks\":\"\"}}}],\"scattercarpet\":[{\"type\":\"scattercarpet\",\"marker\":{\"colorbar\":{\"outlinewidth\":0,\"ticks\":\"\"}}}],\"carpet\":[{\"aaxis\":{\"endlinecolor\":\"#2a3f5f\",\"gridcolor\":\"white\",\"linecolor\":\"white\",\"minorgridcolor\":\"white\",\"startlinecolor\":\"#2a3f5f\"},\"baxis\":{\"endlinecolor\":\"#2a3f5f\",\"gridcolor\":\"white\",\"linecolor\":\"white\",\"minorgridcolor\":\"white\",\"startlinecolor\":\"#2a3f5f\"},\"type\":\"carpet\"}],\"table\":[{\"cells\":{\"fill\":{\"color\":\"#EBF0F8\"},\"line\":{\"color\":\"white\"}},\"header\":{\"fill\":{\"color\":\"#C8D4E3\"},\"line\":{\"color\":\"white\"}},\"type\":\"table\"}],\"barpolar\":[{\"marker\":{\"line\":{\"color\":\"#E5ECF6\",\"width\":0.5},\"pattern\":{\"fillmode\":\"overlay\",\"size\":10,\"solidity\":0.2}},\"type\":\"barpolar\"}],\"pie\":[{\"automargin\":true,\"type\":\"pie\"}]},\"layout\":{\"autotypenumbers\":\"strict\",\"colorway\":[\"#636efa\",\"#EF553B\",\"#00cc96\",\"#ab63fa\",\"#FFA15A\",\"#19d3f3\",\"#FF6692\",\"#B6E880\",\"#FF97FF\",\"#FECB52\"],\"font\":{\"color\":\"#2a3f5f\"},\"hovermode\":\"closest\",\"hoverlabel\":{\"align\":\"left\"},\"paper_bgcolor\":\"white\",\"plot_bgcolor\":\"#E5ECF6\",\"polar\":{\"bgcolor\":\"#E5ECF6\",\"angularaxis\":{\"gridcolor\":\"white\",\"linecolor\":\"white\",\"ticks\":\"\"},\"radialaxis\":{\"gridcolor\":\"white\",\"linecolor\":\"white\",\"ticks\":\"\"}},\"ternary\":{\"bgcolor\":\"#E5ECF6\",\"aaxis\":{\"gridcolor\":\"white\",\"linecolor\":\"white\",\"ticks\":\"\"},\"baxis\":{\"gridcolor\":\"white\",\"linecolor\":\"white\",\"ticks\":\"\"},\"caxis\":{\"gridcolor\":\"white\",\"linecolor\":\"white\",\"ticks\":\"\"}},\"coloraxis\":{\"colorbar\":{\"outlinewidth\":0,\"ticks\":\"\"}},\"colorscale\":{\"sequential\":[[0.0,\"#0d0887\"],[0.1111111111111111,\"#46039f\"],[0.2222222222222222,\"#7201a8\"],[0.3333333333333333,\"#9c179e\"],[0.4444444444444444,\"#bd3786\"],[0.5555555555555556,\"#d8576b\"],[0.6666666666666666,\"#ed7953\"],[0.7777777777777778,\"#fb9f3a\"],[0.8888888888888888,\"#fdca26\"],[1.0,\"#f0f921\"]],\"sequentialminus\":[[0.0,\"#0d0887\"],[0.1111111111111111,\"#46039f\"],[0.2222222222222222,\"#7201a8\"],[0.3333333333333333,\"#9c179e\"],[0.4444444444444444,\"#bd3786\"],[0.5555555555555556,\"#d8576b\"],[0.6666666666666666,\"#ed7953\"],[0.7777777777777778,\"#fb9f3a\"],[0.8888888888888888,\"#fdca26\"],[1.0,\"#f0f921\"]],\"diverging\":[[0,\"#8e0152\"],[0.1,\"#c51b7d\"],[0.2,\"#de77ae\"],[0.3,\"#f1b6da\"],[0.4,\"#fde0ef\"],[0.5,\"#f7f7f7\"],[0.6,\"#e6f5d0\"],[0.7,\"#b8e186\"],[0.8,\"#7fbc41\"],[0.9,\"#4d9221\"],[1,\"#276419\"]]},\"xaxis\":{\"gridcolor\":\"white\",\"linecolor\":\"white\",\"ticks\":\"\",\"title\":{\"standoff\":15},\"zerolinecolor\":\"white\",\"automargin\":true,\"zerolinewidth\":2},\"yaxis\":{\"gridcolor\":\"white\",\"linecolor\":\"white\",\"ticks\":\"\",\"title\":{\"standoff\":15},\"zerolinecolor\":\"white\",\"automargin\":true,\"zerolinewidth\":2},\"scene\":{\"xaxis\":{\"backgroundcolor\":\"#E5ECF6\",\"gridcolor\":\"white\",\"linecolor\":\"white\",\"showbackground\":true,\"ticks\":\"\",\"zerolinecolor\":\"white\",\"gridwidth\":2},\"yaxis\":{\"backgroundcolor\":\"#E5ECF6\",\"gridcolor\":\"white\",\"linecolor\":\"white\",\"showbackground\":true,\"ticks\":\"\",\"zerolinecolor\":\"white\",\"gridwidth\":2},\"zaxis\":{\"backgroundcolor\":\"#E5ECF6\",\"gridcolor\":\"white\",\"linecolor\":\"white\",\"showbackground\":true,\"ticks\":\"\",\"zerolinecolor\":\"white\",\"gridwidth\":2}},\"shapedefaults\":{\"line\":{\"color\":\"#2a3f5f\"}},\"annotationdefaults\":{\"arrowcolor\":\"#2a3f5f\",\"arrowhead\":0,\"arrowwidth\":1},\"geo\":{\"bgcolor\":\"white\",\"landcolor\":\"#E5ECF6\",\"subunitcolor\":\"white\",\"showland\":true,\"showlakes\":true,\"lakecolor\":\"white\"},\"title\":{\"x\":0.05},\"mapbox\":{\"style\":\"light\"}}},\"xaxis\":{\"anchor\":\"y\",\"domain\":[0.0,1.0],\"title\":{\"text\":\"total_rainfall\"}},\"yaxis\":{\"anchor\":\"x\",\"domain\":[0.0,1.0],\"title\":{\"text\":\"kwh_per_acc\"}},\"legend\":{\"tracegroupgap\":0},\"title\":{\"text\":\"Relationship between total rainfall and household consumption of electricity\"},\"height\":800,\"width\":900},                        {\"responsive\": true}                    ).then(function(){\n",
       "                            \n",
       "var gd = document.getElementById('d3345b84-6c85-45f2-a61e-df687adf2155');\n",
       "var x = new MutationObserver(function (mutations, observer) {{\n",
       "        var display = window.getComputedStyle(gd).display;\n",
       "        if (!display || display === 'none') {{\n",
       "            console.log([gd, 'removed!']);\n",
       "            Plotly.purge(gd);\n",
       "            observer.disconnect();\n",
       "        }}\n",
       "}});\n",
       "\n",
       "// Listen for the removal of the full notebook cells\n",
       "var notebookContainer = gd.closest('#notebook-container');\n",
       "if (notebookContainer) {{\n",
       "    x.observe(notebookContainer, {childList: true});\n",
       "}}\n",
       "\n",
       "// Listen for the clearing of the current output cell\n",
       "var outputEl = gd.closest('.output');\n",
       "if (outputEl) {{\n",
       "    x.observe(outputEl, {childList: true});\n",
       "}}\n",
       "\n",
       "                        })                };                });            </script>        </div>"
      ]
     },
     "metadata": {},
     "output_type": "display_data"
    }
   ],
   "source": [
    "scatterplt_two = px.scatter(elec, \n",
    "                 x = 'total_rainfall', \n",
    "                 y = 'kwh_per_acc', \n",
    "                 trendline = 'ols', \n",
    "                 width = 900, height = 800, \n",
    "                 title = 'Relationship between total rainfall and household consumption of electricity')\n",
    "scatterplt_two.show()"
   ]
  },
  {
   "cell_type": "markdown",
   "metadata": {},
   "source": [
    "*Interpretation: We see a weak relationship between total rainfall and the household consumption of electricity. The line of best fit has an R^2 value of 0.0001.*\n",
    "\n",
    "*This shows that there is very little correlation between total rainfall and the household consumption of electricity.*"
   ]
  },
  {
   "cell_type": "markdown",
   "metadata": {},
   "source": [
    "##### 5. Additional plots of your choosing."
   ]
  },
  {
   "cell_type": "markdown",
   "metadata": {},
   "source": [
    "I wanted to see if there is a visual way to represent the relationship between the mean temperature and the level of household electricity consumption for each month. To do that, we create a line plot, and combined and synchronised the axes. While they are hard to read in terms of numbers, it gives a good visual representation of the relationship between the two."
   ]
  },
  {
   "cell_type": "code",
   "execution_count": 142,
   "metadata": {},
   "outputs": [
    {
     "data": {
      "image/png": "[encoded data removed]",
      "text/plain": [
       "<Figure size 1200x500 with 2 Axes>"
      ]
     },
     "metadata": {},
     "output_type": "display_data"
    }
   ],
   "source": [
    "fig = plt.figure(figsize = (12, 5))\n",
    "fig.suptitle('Line Plots with Synchronized Axes: Relationship between monthly household electricity consumption and mean temperature')\n",
    "\n",
    "# Plotting the first line\n",
    "ax1 = sns.lineplot(x = \"date\", y = \"mean_temp\",\n",
    "                    data = elec)\n",
    "ax1.grid(which = 'both', axis = 'x', visible=True, alpha = 0.4)\n",
    "\n",
    "# Setting y-axis label\n",
    "ax1.set_ylabel('Mean Temperature')\n",
    "ax1.set_ylim(24, 34)\n",
    "\n",
    "# Setting secondary y-axis label\n",
    "ax2 = ax1.twinx()\n",
    "ax2.set_ylabel('Electricity Consumption')\n",
    "ax2.set_ylim(350,650)\n",
    "\n",
    "# Plotting the second line\n",
    "sns.lineplot(x = \"date\", y = \"kwh_per_acc\",\n",
    "             color='tab:orange',\n",
    "             data=elec, ax = ax2)\n",
    "\n",
    "# Setting legends\n",
    "ax1.legend(['mean_temp'], loc = \"upper left\")\n",
    "ax2.legend(['kwh_per_acc'], loc = \"upper right\")\n",
    "\n",
    "plt.show();"
   ]
  },
  {
   "cell_type": "markdown",
   "metadata": {},
   "source": [
    "*Interpretation: I plotted the chart of mean temperature and electrical consumption over time, and combined and synchronised the axes. This shows visually that there is likely to be a correlation between the two on a month-to-month level.*"
   ]
  },
  {
   "cell_type": "markdown",
   "metadata": {},
   "source": [
    "## Conclusions and Recommendations"
   ]
  },
  {
   "cell_type": "markdown",
   "metadata": {},
   "source": [
    "Based on our data exploration exercise, we have found the following:\n",
    "1. There is a mild positive correlation between the mean monthly temperature in Singapore, as well as the household consumption of electricity. Based on the linear best fit line, an increase in 1 degree in temperature will result an increase in the household consumption of electricity of 23.38 kWh per household on average.\n",
    "2. The distribution of electrical consumption is close to normally distributed, while the distributions of total monthly rainfall and mean temperature, are right skewed and left skewed respectively.\n",
    "3. There are anomalies in the distribution of electrical consumption, and total monthly rainfall.\n",
    "\n",
    "Due to the mild positive correlation between household electricity consumption and mean temperature, we can expect that there will be an increase in the consumption of electricity as temperature rises. With the current fluctuations of weather in the short term, coupled by the continued global warming long term, it is paramount for the government to ensure that these are taken into account when doing capacity planning in both the short and long run.\n",
    "\n",
    "However, do note that correlation does not imply causation, and more studies need to be done in order to identify other factors that affect the level of electricity consumption. Additionally, there might be other factors that are correlated with both temperature and the level of electricity consumption that is the true causal factor of the latter.\n",
    "\n",
    "Based on the results, I would recommend the following next steps:\n",
    "1. Clean the data of outliers, and plot the graphs again to see if there's a stronger correlation between the mean temperature and the household electricity consumption, as well as an improved R^2 value.\n",
    "2. Understand the relationship between temperature and electricity consumption on a more granular level, by breaking down into different subzones as well as different types of electricity consumption (manufacturing, construction, etc.).\n",
    "3. Consider and find other factors that could affect electricity consumption in Singapore, in order to support more accurate capacity planning in the future.\n",
    "4. Build machine learning models to predict possible future temperature fluctuations and trends, and include these predictions in the planning of future electricity requirements for Singapore. However, this should not be the only determinant in the planning of future electricity requirements; we should incorporate other factors that we find from point 3 above."
   ]
  }
 ],
 "metadata": {
  "anaconda-cloud": {},
  "kernelspec": {
   "display_name": "Python 3 (ipykernel)",
   "language": "python",
   "name": "python3"
  },
  "language_info": {
   "codemirror_mode": {
    "name": "ipython",
    "version": 3
   },
   "file_extension": ".py",
   "mimetype": "text/x-python",
   "name": "python",
   "nbconvert_exporter": "python",
   "pygments_lexer": "ipython3",
   "version": "3.8.17"
  }
 },
 "nbformat": 4,
 "nbformat_minor": 4
}
